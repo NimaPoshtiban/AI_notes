{
 "cells": [
  {
   "cell_type": "code",
   "execution_count": 1,
   "metadata": {},
   "outputs": [],
   "source": [
    "### A Pluto.jl notebook ###\n",
    "# v0.20.3\n",
    "#> [frontmatter]\n",
    "#> title = \"Cauchy Theorem\"\n",
    "#> date = \"2025-01-09\"\n",
    "#> tags = [\"Complex\", \"analysis\", \"cauchy\", \"julia\"]\n",
    "#> description = \"Complex Analysic notes\"\n",
    "#> \n",
    "#>     [[frontmatter.author]]\n",
    "#>     name = \"Nima Poshitban\"\n",
    "using Markdown\n",
    "using InteractiveUtils\n"
   ]
  },
  {
   "cell_type": "code",
   "execution_count": 2,
   "metadata": {},
   "outputs": [
    {
     "name": "stderr",
     "output_type": "stream",
     "text": [
      "\u001b[32m\u001b[1m  Activating\u001b[22m\u001b[39m project at `C:\\Users\\nima\\.julia\\environments\\v1.11`\n"
     ]
    }
   ],
   "source": [
    "begin\n",
    "\tusing PlutoExtras\n",
    "    import Pkg\n",
    "    # careful: this is _not_ a reproducible environment\n",
    "    # activate the global environment\n",
    "    Pkg.activate()\n",
    "    import GLMakie\n",
    "\tusing LaTeXStrings\n",
    "end\n"
   ]
  },
  {
   "cell_type": "code",
   "execution_count": 3,
   "metadata": {},
   "outputs": [
    {
     "data": {
      "text/html": [
       "<link rel=\"stylesheet\" href=\"https://cdn.jsdelivr.net/npm/katex@0.16.8/dist/katex.min.css\" integrity=\"sha384-GvrOXuhMATgEsSwCs4smul74iXGOixntILdUW9XmUC6+HX0sLNAK3q71HotJqlAn\" crossorigin=\"anonymous\">\n",
       "\n",
       "<style>\n",
       "a.eq_href {\n",
       "\ttext-decoration: none;\n",
       "}\n",
       "</style>\n",
       "\n",
       "<script src=\"https://cdn.jsdelivr.net/npm/katex@0.16.8/dist/katex.min.js\" integrity=\"sha384-cpW21h6RZv/phavutF+AuVYrr+dA8xD9zs6FwLpaCct6O9ctzYFfFr4dgmgccOTx\" crossorigin=\"anonymous\"></script>\n",
       "\n",
       "<script id=\"katex-eqnum-script\">\n",
       "\n",
       "\n",
       "const a_vec = [] // This will hold the list of a tags with custom click, used for cleaning listeners up upon invalidation\n",
       "\n",
       "const eqrefClick = (e) => {\n",
       "\te.preventDefault() // This prevent normal scrolling to link\n",
       "\tconst a = e.target\n",
       "\tconst eq_id = a.getAttribute('eq_id')\n",
       "\tconst eq = document.getElementById(eq_id)\n",
       "\thistory.pushState({},'') // This is to allow going back to the previous position in the page after scroll with History Back\n",
       "\teq.scrollIntoView({\n",
       "\t\tbehavior: 'smooth',\n",
       "\t\tblock: 'center',\n",
       "\t})\n",
       "}\n",
       "\n",
       "// We make a function to compute the vertical offset (from the top) of an object to the\n",
       "// closest parent containing the katex-html class. This is used to find the equation number\n",
       "// that is closest to the label\n",
       "const findOffsetTop = obj => {\n",
       "\tlet offset = 0\n",
       "\tlet keepGoing = true\n",
       "\twhile (keepGoing) {\n",
       "\t\toffset += obj.offsetTop\n",
       "\t\t// Check if the current offsetParent is the containing katex-html\n",
       "\t\tif (obj.offsetParent.classList.contains('katex-html')) {\n",
       "\t\t\tkeepGoing = false\n",
       "\t\t} else {\n",
       "\t\t\tobj = obj.offsetParent\n",
       "\t\t}\n",
       "\t}\n",
       "\treturn offset\n",
       "}\n",
       "\n",
       "\n",
       "// The katex equation numbers are wrapped in spans containing the class 'eqn-num'. WHen you\n",
       "// assign a label, another class ('enclosing') is assigned to some parts of the rendered\n",
       "// html containing the equation line. This means that equation containing labels will have\n",
       "// both 'eqn-num' and 'enclosing'. The new approach is to go through all the katex math\n",
       "// equations one by one and analyze how many numbered lines they contain by counting the\n",
       "// 'eqn-num' instances. \n",
       "const updateCallback = () => {\n",
       "a_vec.splice(0,a_vec.length) // Reset the array\n",
       "const katex_blocks = document.querySelectorAll('.katex-html') // This selects all the environments we created with texeq\n",
       "let i = 0;\n",
       "for (let blk of katex_blocks) {\n",
       "\t// Find the number of numbered equation in each sub-block\n",
       "\tlet numeqs = blk.querySelectorAll('.eqn-num')\n",
       "\tlet eqlen = numeqs.length\n",
       "\tif (eqlen == 0) {\n",
       "\t\tcontinue // There is nothing to do here since no equation is numbered\n",
       "\t}\n",
       "\tlet labeleqs = blk.querySelectorAll('.enclosing')\n",
       "\tif (labeleqs.length == 0) {\n",
       "\t\t// There is no label, so we just have to increase the counter\n",
       "\t\ti += eqlen\n",
       "\t\tcontinue\n",
       "\t}\n",
       "\t// Find the offset from the katex-html parent of each equation number, the assumption\n",
       "\t// here is that the span containing the label tag has the same (or almost the same) offset as the related equation number\n",
       "\tlet eqoffsets = Array.from(numeqs,findOffsetTop)\n",
       "\n",
       "\n",
       "\tfor (let item of labeleqs) {\n",
       "\t\tconst labelOffset = findOffsetTop(item)\n",
       "\t\tlet prevDiff = -Infinity\n",
       "\t\tlet currentOffset = eqoffsets.shift()\n",
       "\t\tlet currentDiff = currentOffset - labelOffset\n",
       "\t\ti += 1\n",
       "\t\twhile (eqoffsets.length > 0 && currentDiff < 0) { // if currentOffset >= 0, it means that the current equ-num is lower than the label (or at the same height)\n",
       "\t\t\tprevDiff = currentDiff\n",
       "\t\t\tcurrentOffset = eqoffsets.shift()\n",
       "\t\t\tcurrentDiff = currentOffset - labelOffset\n",
       "\t\t\ti += 1\n",
       "\t\t}\n",
       "\t\t// Now we have to check whether the previous number with offset < 0 or the first with offset > 0 is the closest to the label offset\n",
       "\t\tif (Math.abs(currentDiff) > Math.abs(prevDiff)) {\n",
       "\t\t\t// The previous entry was closer, so we reduce i by one and put back the last shifted element in the offset array\n",
       "\t\t\ti -= 1\n",
       "\t\t\teqoffsets.unshift(currentOffset)\n",
       "\t\t}\n",
       "\t\t// We now update all the links that refer to this label\n",
       "\t\tconst id = item.id\n",
       "\t\tconst a_vals = document.querySelectorAll(`[eq_id=${id}]`)\n",
       "\t\ta_vals !== null && a_vals.forEach(a => {\n",
       "\t\t\ta_vec.push(a) // Add this to the vector\n",
       "\t\t\ta.innerText = `(${i})`\n",
       "\t\t\ta.addEventListener('click',eqrefClick)\n",
       "\t\t})\n",
       "\t}\n",
       "}\n",
       "}\n",
       "\n",
       "const notebook = document.querySelector(\"pluto-notebook\")\n",
       "\n",
       "// We have a mutationobserver for each cell:\n",
       "const observers = {\n",
       "\tcurrent: [],\n",
       "}\n",
       "\n",
       "const createCellObservers = () => {\n",
       "\tobservers.current.forEach((o) => o.disconnect())\n",
       "\tobservers.current = Array.from(notebook.querySelectorAll(\"pluto-cell\")).map(el => {\n",
       "\t\tconst o = new MutationObserver(updateCallback)\n",
       "\t\to.observe(el, {attributeFilter: [\"class\"]})\n",
       "\t\treturn o\n",
       "\t})\n",
       "}\n",
       "createCellObservers()\n",
       "\n",
       "// And one for the notebook's child list, which updates our cell observers:\n",
       "const notebookObserver = new MutationObserver(() => {\n",
       "\tupdateCallback()\n",
       "\tcreateCellObservers()\n",
       "})\n",
       "notebookObserver.observe(notebook, {childList: true})\n",
       "\n",
       "invalidation.then(() => {\n",
       "\tnotebookObserver.disconnect()\n",
       "\tobservers.current.forEach((o) => o.disconnect())\n",
       "\ta_vec.forEach(a => a.removeEventListener('click',eqrefClick))\n",
       "})\n",
       "</script>\n"
      ],
      "text/plain": [
       "<link rel=\"stylesheet\" href=\"https://cdn.jsdelivr.net/npm/katex@0.16.8/dist/katex.min.css\" integrity=\"sha384-GvrOXuhMATgEsSwCs4smul74iXGOixntILdUW9XmUC6+HX0sLNAK3q71HotJqlAn\" crossorigin=\"anonymous\">\n",
       "\n",
       "<style>\n",
       "a.eq_href {\n",
       "\ttext-decoration: none;\n",
       "}\n",
       "</style>\n",
       "\n",
       "<script src=\"https://cdn.jsdelivr.net/npm/katex@0.16.8/dist/katex.min.js\" integrity=\"sha384-cpW21h6RZv/phavutF+AuVYrr+dA8xD9zs6FwLpaCct6O9ctzYFfFr4dgmgccOTx\" crossorigin=\"anonymous\"></script>\n",
       "\n",
       "<script id=\"katex-eqnum-script\">\n",
       "\n",
       "\n",
       "const a_vec = [] // This will hold the list of a tags with custom click, used for cleaning listeners up upon invalidation\n",
       "\n",
       "const eqrefClick = (e) => {\n",
       "\te.preventDefault() // This prevent normal scrolling to link\n",
       "\tconst a = e.target\n",
       "\tconst eq_id = a.getAttribute('eq_id')\n",
       "\tconst eq = document.getElementById(eq_id)\n",
       "\thistory.pushState({},'') // This is to allow going back to the previous position in the page after scroll with History Back\n",
       "\teq.scrollIntoView({\n",
       "\t\tbehavior: 'smooth',\n",
       "\t\tblock: 'center',\n",
       "\t})\n",
       "}\n",
       "\n",
       "// We make a function to compute the vertical offset (from the top) of an object to the\n",
       "// closest parent containing the katex-html class. This is used to find the equation number\n",
       "// that is closest to the label\n",
       "const findOffsetTop = obj => {\n",
       "\tlet offset = 0\n",
       "\tlet keepGoing = true\n",
       "\twhile (keepGoing) {\n",
       "\t\toffset += obj.offsetTop\n",
       "\t\t// Check if the current offsetParent is the containing katex-html\n",
       "\t\tif (obj.offsetParent.classList.contains('katex-html')) {\n",
       "\t\t\tkeepGoing = false\n",
       "\t\t} else {\n",
       "\t\t\tobj = obj.offsetParent\n",
       "\t\t}\n",
       "\t}\n",
       "\treturn offset\n",
       "}\n",
       "\n",
       "\n",
       "// The katex equation numbers are wrapped in spans containing the class 'eqn-num'. WHen you\n",
       "// assign a label, another class ('enclosing') is assigned to some parts of the rendered\n",
       "// html containing the equation line. This means that equation containing labels will have\n",
       "// both 'eqn-num' and 'enclosing'. The new approach is to go through all the katex math\n",
       "// equations one by one and analyze how many numbered lines they contain by counting the\n",
       "// 'eqn-num' instances. \n",
       "const updateCallback = () => {\n",
       "a_vec.splice(0,a_vec.length) // Reset the array\n",
       "const katex_blocks = document.querySelectorAll('.katex-html') // This selects all the environments we created with texeq\n",
       "let i = 0;\n",
       "for (let blk of katex_blocks) {\n",
       "\t// Find the number of numbered equation in each sub-block\n",
       "\tlet numeqs = blk.querySelectorAll('.eqn-num')\n",
       "\tlet eqlen = numeqs.length\n",
       "\tif (eqlen == 0) {\n",
       "\t\tcontinue // There is nothing to do here since no equation is numbered\n",
       "\t}\n",
       "\tlet labeleqs = blk.querySelectorAll('.enclosing')\n",
       "\tif (labeleqs.length == 0) {\n",
       "\t\t// There is no label, so we just have to increase the counter\n",
       "\t\ti += eqlen\n",
       "\t\tcontinue\n",
       "\t}\n",
       "\t// Find the offset from the katex-html parent of each equation number, the assumption\n",
       "\t// here is that the span containing the label tag has the same (or almost the same) offset as the related equation number\n",
       "\tlet eqoffsets = Array.from(numeqs,findOffsetTop)\n",
       "\n",
       "\n",
       "\tfor (let item of labeleqs) {\n",
       "\t\tconst labelOffset = findOffsetTop(item)\n",
       "\t\tlet prevDiff = -Infinity\n",
       "\t\tlet currentOffset = eqoffsets.shift()\n",
       "\t\tlet currentDiff = currentOffset - labelOffset\n",
       "\t\ti += 1\n",
       "\t\twhile (eqoffsets.length > 0 && currentDiff < 0) { // if currentOffset >= 0, it means that the current equ-num is lower than the label (or at the same height)\n",
       "\t\t\tprevDiff = currentDiff\n",
       "\t\t\tcurrentOffset = eqoffsets.shift()\n",
       "\t\t\tcurrentDiff = currentOffset - labelOffset\n",
       "\t\t\ti += 1\n",
       "\t\t}\n",
       "\t\t// Now we have to check whether the previous number with offset < 0 or the first with offset > 0 is the closest to the label offset\n",
       "\t\tif (Math.abs(currentDiff) > Math.abs(prevDiff)) {\n",
       "\t\t\t// The previous entry was closer, so we reduce i by one and put back the last shifted element in the offset array\n",
       "\t\t\ti -= 1\n",
       "\t\t\teqoffsets.unshift(currentOffset)\n",
       "\t\t}\n",
       "\t\t// We now update all the links that refer to this label\n",
       "\t\tconst id = item.id\n",
       "\t\tconst a_vals = document.querySelectorAll(`[eq_id=${id}]`)\n",
       "\t\ta_vals !== null && a_vals.forEach(a => {\n",
       "\t\t\ta_vec.push(a) // Add this to the vector\n",
       "\t\t\ta.innerText = `(${i})`\n",
       "\t\t\ta.addEventListener('click',eqrefClick)\n",
       "\t\t})\n",
       "\t}\n",
       "}\n",
       "}\n",
       "\n",
       "const notebook = document.querySelector(\"pluto-notebook\")\n",
       "\n",
       "// We have a mutationobserver for each cell:\n",
       "const observers = {\n",
       "\tcurrent: [],\n",
       "}\n",
       "\n",
       "const createCellObservers = () => {\n",
       "\tobservers.current.forEach((o) => o.disconnect())\n",
       "\tobservers.current = Array.from(notebook.querySelectorAll(\"pluto-cell\")).map(el => {\n",
       "\t\tconst o = new MutationObserver(updateCallback)\n",
       "\t\to.observe(el, {attributeFilter: [\"class\"]})\n",
       "\t\treturn o\n",
       "\t})\n",
       "}\n",
       "createCellObservers()\n",
       "\n",
       "// And one for the notebook's child list, which updates our cell observers:\n",
       "const notebookObserver = new MutationObserver(() => {\n",
       "\tupdateCallback()\n",
       "\tcreateCellObservers()\n",
       "})\n",
       "notebookObserver.observe(notebook, {childList: true})\n",
       "\n",
       "invalidation.then(() => {\n",
       "\tnotebookObserver.disconnect()\n",
       "\tobservers.current.forEach((o) => o.disconnect())\n",
       "\ta_vec.forEach(a => a.removeEventListener('click',eqrefClick))\n",
       "})\n",
       "</script>\n"
      ]
     },
     "execution_count": 3,
     "metadata": {},
     "output_type": "execute_result"
    }
   ],
   "source": [
    "initialize_eqref()\n"
   ]
  },
  {
   "cell_type": "markdown",
   "metadata": {},
   "source": [
    "\n",
    "# Cauchy Theorem\n",
    "\n"
   ]
  },
  {
   "cell_type": "markdown",
   "metadata": {},
   "source": [
    "\n",
    "## Cauchy Integral Formulas\n",
    "\n",
    "**C** is a toy contour\n",
    "\n",
    "**Toy contour**: any closed curve where the notion of the interior is obvious\n",
    "\n",
    "$$\\large f(\\mathcal{z})\\,=\\,\\frac{1}{2\\pi i} \\oint_{\\mathcal{C}}{\\dfrac{f(\\zeta)}{\\zeta\\,-\\mathcal{z}}d\\varsigma}$$\n",
    "\n"
   ]
  },
  {
   "cell_type": "markdown",
   "metadata": {},
   "source": [
    "\n",
    "# Cauchy integral formula for the *nth* derivative of $f(z)$\n",
    "\n",
    "\n",
    "$\\large f^{(n)}(\\mathcal{z})\\,=\\,\\frac{n!}{2\\pi i}\\oint_{\\mathcal{C}}{\\dfrac{f(\\zeta)}{(\\zeta\\,-\\mathcal{z})^{n+1}}d\\zeta}$\n",
    "for all $z\\,$ in the interior of $C$\n",
    "\n"
   ]
  },
  {
   "cell_type": "markdown",
   "metadata": {},
   "source": [
    "\n",
    "## Poisson Integral\n",
    "$\\large u(r,\\theta)\\,=\\frac{1}{2\\pi}\\int_{0}^{2\\pi}{P_{r}(\\theta-\\varphi)u(1,\\varphi)d\\varphi}$\n",
    "\n"
   ]
  },
  {
   "cell_type": "markdown",
   "metadata": {},
   "source": [
    "\n",
    "## Cauchy inequalities\n",
    "$f\\longrightarrow holomorphic$ in an open set $\\Omega$ \n",
    "\n",
    "\n",
    "disk $D$ centered at $z_{0}$ and has a radius of $R$\n",
    "\n",
    "then: \n",
    "\n",
    "$\\left|f^{(n)}(z_{0}) \\right| \\, \\le \\, \\dfrac{n!\\left\\|f\\right\\|_{\\mathcal{C}}}{R^{n}}$\n",
    "\n",
    "where $\\left\\|f\\right|_{\\mathcal{C}}\\,=\\,\\underset{z\\in \\mathcal{C}}{sup}|f(\\mathcal{z})|$ denotes the supremum of $|f|$ on the boundary cirlce $\\mathcal{C}$\n",
    "\n"
   ]
  },
  {
   "cell_type": "markdown",
   "metadata": {},
   "source": [
    "\n",
    "## Power Series Expansion\n",
    "\n",
    "if $f \\longrightarrow holomorphic$ in an open set $\\Omega$\n",
    "\n",
    "and disk $D$ centered at $z_{0}$ where closure is contained in $\\Omega$\n",
    "\n",
    "$\\implies f\\quad$ has a power series expansion at $z_{0}$\n",
    "\n",
    "$f(\\mathcal{z})\\,=\\,\\sum_{n=0}^{\\infty}{a_{n}(z-z_{0})^{n}}$ for all $\\mathcal{z} \\in D$\n",
    "\n",
    "and the **coefficients** are given by:\n",
    "\n",
    "$\\large a_{n}\\,=\\,\\dfrac{f^{(n)}(z_{0})}{n!}$\n",
    "\n",
    "$$\\Large \\implies f(z)\\,=\\,\\sum_{n=0}^{\\infty}{\\left(\\frac{1}{2\\pi i}\\oint_{\\mathcal{C}}{\\dfrac{f(\\zeta)}{(\\zeta-z_{0})^{n+1}}d\\zeta}\\right)\\cdot(z-z_{0})^{n}}$$\n",
    "\n"
   ]
  },
  {
   "cell_type": "markdown",
   "metadata": {},
   "source": [
    "\n",
    "\n",
    "**Example of Cauchy Integral**\n",
    "\n",
    "\n"
   ]
  },
  {
   "cell_type": "code",
   "execution_count": 4,
   "metadata": {},
   "outputs": [
    {
     "data": {
      "text/plain": [
       "0.0:0.01750190893364787:6.283185307179586"
      ]
     },
     "execution_count": 4,
     "metadata": {},
     "output_type": "execute_result"
    }
   ],
   "source": [
    "C = range(0,2π,360)\n"
   ]
  },
  {
   "cell_type": "code",
   "execution_count": 5,
   "metadata": {},
   "outputs": [
    {
     "data": {
      "text/plain": [
       "#1 (generic function with 1 method)"
      ]
     },
     "execution_count": 5,
     "metadata": {},
     "output_type": "execute_result"
    }
   ],
   "source": [
    "fvarsigma = t -> exp(1).^(im.*t)\n"
   ]
  },
  {
   "cell_type": "code",
   "execution_count": 6,
   "metadata": {},
   "outputs": [
    {
     "data": {
      "text/plain": [
       "360-element Vector{ComplexF64}:\n",
       "                1.0 + 0.0im\n",
       " 0.9998468455013823 + 0.017501015425828787im\n",
       " 0.9993874289181298 + 0.034996670133171884im\n",
       " 0.9986218909736757 + 0.052481605045579915im\n",
       " 0.9975504661591799 + 0.0699504643701731im\n",
       " 0.9961734826617031 + 0.08739789723816892im\n",
       " 0.9944913622636795 + 0.10481855934390122im\n",
       " 0.9925046202137215 + 0.1222071145818292im\n",
       " 0.9902138650687943 + 0.13955823668103456im\n",
       "  0.987619798507809 + 0.15686661083670625im\n",
       " 0.9847232151166929 + 0.17412693533811274im\n",
       " 0.9815250021449998 + 0.19133392319256415im\n",
       " 0.9780261392341382 + 0.20848230374486532im\n",
       "                    ⋮\n",
       " 0.9815250021449997 - 0.19133392319256481im\n",
       " 0.9847232151166929 - 0.17412693533811274im\n",
       "  0.987619798507809 - 0.15686661083670642im\n",
       " 0.9902138650687943 - 0.13955823668103498im\n",
       " 0.9925046202137214 - 0.1222071145818298im\n",
       " 0.9944913622636795 - 0.10481855934390114im\n",
       "  0.996173482661703 - 0.08739789723816904im\n",
       " 0.9975504661591799 - 0.06995046437017344im\n",
       " 0.9986218909736756 - 0.052481605045580436im\n",
       " 0.9993874289181298 - 0.034996670133171724im\n",
       " 0.9998468455013823 - 0.01750101542582883im\n",
       "                1.0 - 2.4492935982947064e-16im"
      ]
     },
     "execution_count": 6,
     "metadata": {},
     "output_type": "execute_result"
    }
   ],
   "source": [
    "# Evaluate the contour\n",
    "contour = fvarsigma.(C)\n"
   ]
  },
  {
   "cell_type": "code",
   "execution_count": 7,
   "metadata": {},
   "outputs": [
    {
     "data": {
      "text/plain": [
       "Makie.Legend()"
      ]
     },
     "execution_count": 7,
     "metadata": {},
     "output_type": "execute_result"
    }
   ],
   "source": [
    "begin\n",
    "f = GLMakie.Figure()\n",
    "ax = GLMakie.Axis(f[1, 1], xlabel = \"Re(z)\", ylabel = \"Im(z)\", title = L\"\"\" e^{z}\\quad \\text{is entire}\"\"\")\n",
    "GLMakie.lines!(ax,C,imag(contour), color=:red,label=L\"\"\"Im(e^{z})\"\"\")\n",
    "GLMakie.lines!(ax,C,real(contour),color=:blue,label=L\"\"\"Re(e^{z})\"\"\")\n",
    "GLMakie.lines!(ax, real(contour), imag(contour), zeros(length(C)), color=:green, label=\"A Toy Contour\", linewidth=4)\n",
    "GLMakie.axislegend(ax)\n",
    "end\n"
   ]
  },
  {
   "cell_type": "code",
   "execution_count": 8,
   "metadata": {},
   "outputs": [
    {
     "data": {
      "image/png": "[encoded data removed]",
      "text/html": [
       "<img width=600 height=450 style='object-fit: contain; height: auto;' src=\"data:image/png;base64, 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\"/>"
      ]
     },
     "execution_count": 8,
     "metadata": {},
     "output_type": "execute_result"
    }
   ],
   "source": [
    "f\n"
   ]
  },
  {
   "cell_type": "markdown",
   "metadata": {},
   "source": [
    "\n",
    "## Liouville's theorem\n",
    "\n",
    "- if $f$ is **entire** and **bounded** then the $f$ is constant:\n",
    "\n",
    "$$\\left|f^{'}(z_0)\\right|\\,\\le \\frac{B}{R} \\text{where}\\,\\, B\\,\\,\\text{is bounded},\\,\\,R>0\\,\\,\\text{letting}\\,\\,R\\to\\infty$$\n",
    "\n",
    "Every **non-constant** polynominal $P(z)\\,=\\,a_{n}z^{n}+\\cdots+a_{0}\\,$ with complex coefficient has a **root** in $\\mathbb{C}$\n",
    "\n",
    "Every polynominal $P(z)\\,=\\,a_{n}z^{n}+\\cdots+a_{0}\\,$ of degree $n\\ge1$ has precisely $n$ roots in $\\mathbb{C}\\,$ if the roots denoted by $w_{1},\\cdots w_{n}$ then $P$ can be factored as:\n",
    "\n",
    "\n",
    "$$P(z)\\,=\\,c(z-w_{1})(z-w_{2})\\cdots (z-w_{n})\\,\\, \\text{for some}\\, c \\in \\mathbb{C},\\,\\,c=a_{n}$$\n",
    "\n",
    "\n"
   ]
  },
  {
   "cell_type": "markdown",
   "metadata": {},
   "source": [
    "\n",
    "### Extra notes\n",
    "\n",
    "If $f$ is **holomorphic** in a **region** $\\Omega$ that vanishes on a sequence of distinct points with a limit point in $\\Omega\\,$ $\\implies f$ is identically 0\n",
    "\n",
    "given two holomorphic functions $f,g$ in a region $\\Omega$ and $f(z)\\,=\\,g(z)$ for all $z$ in **some non-empty** subset of $\\,\\Omega\\,\\implies$  $f(z)=g(z)$\n",
    "\n",
    "suppose given two functions $f$ and $F$ analytic in region $\\,\\Omega\\,$ and $\\,\\Omega^{\\prime}\\,$ with $\\,\\Omega\\,\\subset\\Omega^{\\prime}\\,\\,$ if $f$ and $F$ agree on the smaller set $\\Omega\\,$,then $F$ is analytic continuation of $f$ into the region $\\Omega^{\\prime}$.\n",
    "\n",
    "Then there can be **only one** such analytic continuation since $F$ is **uniquely determined** by $f$\n",
    "\n"
   ]
  },
  {
   "cell_type": "markdown",
   "metadata": {},
   "source": [
    "\n",
    "## Morera's Theorem:\n",
    "\n",
    "If $f$ is a continuous complex function on an open set $\\Omega$ in the complex plane, and if for every closed curve $T$ in  $\\Omega\\,$ then \n",
    "\n",
    "$$\\oint_{T}{f_{n}(z)\\,dz\\,=\\,0}$$\n",
    "\n",
    "If $\\left\\{f_{n}\\right\\}_{n=1}^{\\infty}$ is a sequence of **holomorphic** functions that converges uniformely to a function $f$ in every compact subset of $\\Omega$ then $f$ is **holomorphic** in $\\Omega$\n",
    "\n",
    "$$\\oint_{T}{f_{n}(z)\\,dz\\,=\\,0}\\quad\\text{for all}\\,\\,n \\implies \\oint_{T}{f(z)\\,dz}$$\n",
    "\n"
   ]
  },
  {
   "cell_type": "markdown",
   "metadata": {},
   "source": [
    "\n",
    "### Extra notes\n",
    "\n",
    "given $\\delta>0$, let $\\Omega_{\\delta}$ denote the subset of $\\Omega$ defined by:\n",
    "\n",
    "$$\\Omega_{\\delta}\\,=\\left\\{\\,z\\in\\Omega\\,\\,:\\,\\,\\overline{D_{\\delta}}(z) \\subset \\Omega\\right\\}$$\n",
    "\n",
    "$$\\implies \\large{\\underset{z \\in \\Omega}{sup}} \\left|F^{\\prime}(z)\\right|\\le \\frac{1}{\\delta}\\,\\large{\\underset{\\zeta \\in \\Omega}{sup}} \\left|F(\\zeta)\\right|$$\n",
    "\n",
    "whenever $F$ is holomorphic in $\\,\\Omega\\,$ then $\\,F=f_{n}-f$ \n",
    "\n",
    "This info helps to construct holomorphic functions as a series:\n",
    "\n",
    "$$F(z)\\,=\\sum_{n=1}^{\\infty}{f_{n}(z)}$$\n",
    "\n"
   ]
  },
  {
   "cell_type": "markdown",
   "metadata": {},
   "source": [
    "\n",
    "## Holomorphic functions defined in terms of integrals\n",
    "\n",
    "$$f(z)\\,=\\int_{b}^{a}{F(z,s)ds}$$\n",
    "\n",
    "where $F$ is **holomorphic** in the **first argument $z$** and is **continues in the second argument $s$** \n",
    "\n"
   ]
  },
  {
   "cell_type": "markdown",
   "metadata": {},
   "source": [
    "\n",
    "## Symmetry principle\n",
    "\n",
    "if $I$ denotes the interior part of the boundry $\\Omega^{+}\\,$and$\\,\\Omega^{-}$ then\n",
    "\n",
    "$$\\Omega^{+}\\,\\cup\\,I\\,\\cup\\,\\Omega^{-}\\,=\\Omega$$\n",
    "\n",
    "if $f^{+}$ and $f^{-}$ are holomorphic functions in $\\Omega^{+}$ and $\\Omega^{-}$ respectively that extend continuously to $I$ and\n",
    "\n",
    "$$f^{+}(x)\\,=f^{-}(x)\\quad\\text{for all}\\,\\, x\\in I$$\n",
    "\n",
    "\n",
    " $f$ is defined on $\\Omega$ by:\n",
    "\n",
    "$$f(z)\\,=\\,\\left\\{ \\begin{array}{cl}f^{+}(z)&: z \\in \\Omega^{+} \\\\\n",
    "f^{+}(z)=f^{-}(z)&:\\,\\,z\\in I \\\\ \n",
    "f^{-}(z)&: z\\in\\Omega^{-}\\end{array}\\right.$$\n",
    "\n",
    "Then $f$ is holomorphic on all of the $\\Omega$\n",
    "\n"
   ]
  },
  {
   "cell_type": "markdown",
   "metadata": {},
   "source": [
    "\n",
    "## Shwartz reflection principle\n",
    "\n",
    "if $f$ is a **holomorphic** function in $\\Omega^{+}$ that extends continuously to $I$ such that $f$ is real-valued on $I\\,\\,$, then there exists a function $F$ **holomorphic** in all of $\\Omega$ such that $F\\,f\\,$ on $\\Omega^{+}$\n",
    "\n",
    "$$F(z)=\\sum \\overline{a_{n}}(z-z_{0})^{n},\\,\\,\\,\\,\\overline{f(x)}=f(x)\\,\\,\\text{whenever}\\,\\, x\\in I$$\n",
    "\n"
   ]
  },
  {
   "cell_type": "markdown",
   "metadata": {},
   "source": [
    "\n",
    "### Extra notes\n",
    "\n",
    "**singularity** : points where the function is not holomorphic and are \"poles\"\n",
    "\n",
    "any function holomorphic in a neighborhood of compact set $K$ can be approximated uniformly on $K$ by rational functions whose **singularities** are in $K^{c}$\n",
    "\n",
    "If $K^{c}$ is connected, any function holomorphic on a neighborhood of $K$ can be approximated uniformely on $K$ by polynominals.\n",
    "\n",
    "Suppose $f$ is holomorphic on $\\Omega$ and $K\\subset \\Omega$ is compact, then there exists finitely many segments $\\gamma_{1}\\cdots\\gamma_{n}\\,$ in $\\Omega-K$ such that\n",
    "\n",
    "$$f(z)=\\sum_{n=1}^{N}{\\frac{1}{2\\pi i}} \\oint_{\\gamma_{n}}{\\frac{f(\\zeta)}{\\zeta-z}d\\zeta}\\quad\\text{for all}\\,\\,z\\in K$$\n",
    "\n",
    "for any line segment $\\gamma$ entirely contained in $\\Omega-K\\,$, there exists a sequence of rational functions with singularities on $\\gamma$ that approximate the integral $\\oint_{\\gamma}{\\frac{f(\\zeta)}{(\\zeta-z)}d\\zeta}$ uniformly on $K$, if $K^{c}$ is connected and $z_{0}\\not\\in K$ then the function\n",
    "\n",
    "$$\\dfrac{1}{z-z_{0}}$$\n",
    "\n",
    "can be approximated uniformly on $K$ by polynominals\n",
    "\n",
    "\n",
    "\n"
   ]
  }
 ],
 "metadata": {
  "kernelspec": {
   "display_name": "Julia 1.11.2",
   "language": "julia",
   "name": "julia-1.11"
  },
  "language_info": {
   "file_extension": ".jl",
   "mimetype": "application/julia",
   "name": "julia",
   "version": "1.11.2"
  },
  "widgets": {
   "application/vnd.jupyter.widget-state+json": {
    "state": {},
    "version_major": 2,
    "version_minor": 0
   }
  }
 },
 "nbformat": 4,
 "nbformat_minor": 4
}
