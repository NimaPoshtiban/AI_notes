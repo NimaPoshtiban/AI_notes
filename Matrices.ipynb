{
 "cells": [
  {
   "cell_type": "code",
   "execution_count": 1,
   "id": "a109aefa-e547-4001-9704-ad3c493fb30b",
   "metadata": {},
   "outputs": [],
   "source": [
    "import Pkg\n",
    "using Base\n",
    "import LinearAlgebra\n",
    "using LaTeXStrings"
   ]
  },
  {
   "cell_type": "markdown",
   "id": "34349949-b724-4be8-bf60-69c4baea515c",
   "metadata": {},
   "source": [
    "# Matrices"
   ]
  },
  {
   "cell_type": "markdown",
   "id": "72e94fcf-a044-4365-b2e4-3e6fb09ef0ae",
   "metadata": {},
   "source": [
    "#### Matrix Gaussian distribution\n",
    "In statistics, the matrix normal distribution or matrix Gaussian distribution is a probability distribution that is a generalization of the multivariate normal distribution to matrix-valued random variables.\n",
    "<hr>\n",
    "<p>$𝑛$ : This denotes the number of rows in the matrix.</p>\n",
    "<p>$𝑝$ : This denotes the number of columns in the matrix.</p>\n",
    "<p>$𝑀𝑁_{𝑛,𝑝}$ : This indicates the Matrix Normal Distribution, where 𝑛 is the number of rows, and 𝑝 is the number of columns in the matrix.\n",
    "The probability density function for the random matrix$ X (n × p) $that follows the matrix normal distribution.</p>\n",
    "<p>$𝑀$ : The mean matrix, which is an $𝑛 × 𝑝$ matrix. It represents the expected value of the random matrix.</p>\n",
    "<p>$𝑈$ : The row covariance matrix, which is an $𝑛 × 𝑛$ symmetric positive-definite matrix. It captures the covariance structure among the <b>rows</b> of the matrix.</p>\n",
    "<p>$𝑉$: The column covariance matrix, which is a $𝑝 × 𝑝$ symmetric positive-definite matrix. It captures the covariance structure among the <b>columns</b> of the matrix.</p>\n",
    "$$\n",
    "MN_{n\\,,\\,p}(M,U,V)\n",
    "$$ has the form:\n",
    "$$ p(X\\,|\\,\\,M\\,,U\\,,V) = \\frac{e^{\\frac{-1}{2}tr(U^{-1}(X-M)V^{-1}(X-M)^{T}) } }  {\\left(2\\pi\\right)^{np/2} |U|^{p/2} |V|^{n/2}} $$\n",
    "<p>$tr(⋅)\n",
    "$ denotes the trace of a matrix.</p>\n",
    "<p>$∣𝑈∣$ and $∣𝑉∣$ are the determinants of the row and column covariance matrices, respectively.</p>\n",
    "<p>$(𝑋−𝑀)$ represents the matrix of deviations from the mean matrix.</p>"
   ]
  },
  {
   "cell_type": "markdown",
   "id": "ff0ad764-0493-4362-b7f7-0cdf57c974fb",
   "metadata": {},
   "source": [
    "### Random \n"
   ]
  },
  {
   "cell_type": "markdown",
   "id": "b3b01f6c-07e6-4af8-9f7a-8fbb19b103fc",
   "metadata": {},
   "source": [
    "#### Random matrix from  Gaussian (normal) distribution"
   ]
  },
  {
   "cell_type": "code",
   "execution_count": 2,
   "id": "e11c465d-fe07-4c84-a8ce-11383c8d1b93",
   "metadata": {},
   "outputs": [
    {
     "data": {
      "text/plain": [
       "4×4 Matrix{Float64}:\n",
       " -1.10282   -1.05337    -1.43853   1.00543\n",
       "  0.722354  -0.528888   -1.32961   0.405668\n",
       " -1.15989   -0.424509    1.05347   0.160009\n",
       " -0.549     -0.0102933  -1.22735  -0.0607333"
      ]
     },
     "execution_count": 2,
     "metadata": {},
     "output_type": "execute_result"
    }
   ],
   "source": [
    "X = randn((4,4))"
   ]
  },
  {
   "cell_type": "markdown",
   "id": "e1c170f9-a791-4867-aa31-95c06fcef038",
   "metadata": {},
   "source": [
    "#### Random matrix from Mersenne Twister 19937 (MT19937) Algorithm"
   ]
  },
  {
   "cell_type": "code",
   "execution_count": 3,
   "id": "66111ef0-0623-46b2-a54e-8e392107599c",
   "metadata": {},
   "outputs": [
    {
     "data": {
      "text/plain": [
       "4×4 Matrix{Float32}:\n",
       " 0.885489  0.822213  0.185986  0.867402\n",
       " 0.684057  0.446569  0.377933  0.948633\n",
       " 0.505811  0.795071  0.233494  0.510845\n",
       " 0.968184  0.4493    0.353031  0.546543"
      ]
     },
     "execution_count": 3,
     "metadata": {},
     "output_type": "execute_result"
    }
   ],
   "source": [
    "X = rand(Float32,4,4)"
   ]
  },
  {
   "cell_type": "markdown",
   "id": "9f340838-2e13-4ce3-8b84-721108c7ffcb",
   "metadata": {},
   "source": [
    "### Square and nonsquare matricies\n",
    "<p>A square matrix has the same number of columns as rows $\\Re^{N\\,\\times\\, N}$</p>\n",
    "<p>For example: $ \\left[\\begin{matrix} 1 & 2 \\\\ 3 &4 \\end{matrix}\\right]$ is a $2\\times 2$ <b>Square Matrix</b></p>\n",
    "<hr>\n",
    "<p>A nonsquare matrix, also sometimes called <b>rectangular</b> matrix has a different numbers of rows and columns $\\Re^{N\\times M}\\,\\,where\\, N\\ne M$</p>\n",
    "<p>If a matrix has more numbers of rows than columns it is called <b>tall</b> $\\Re^{N\\times M}\\,\\,where\\,N>M$</p>\n",
    "<p>For Example: $ \\left[\\begin{matrix} 1 & 2 \\\\ 3 & 4 \\\\ 5 & 6 \\end{matrix}\\right]$  </p>\n",
    "<p>If a matrix has more numbers of columns than rows it is called <b>wide</b> $\\Re^{N\\times M}\\,\\, where \\, N<M$</p>\n",
    "<p>For Example: $ \\left[\\begin{matrix} 1 & 2 & 3 \\\\ 4 & 5 & 6 \\end{matrix}\\right]$</p>"
   ]
  },
  {
   "cell_type": "code",
   "execution_count": 4,
   "id": "057c6e46-901f-43f4-b9e9-a7b5072e2ef8",
   "metadata": {},
   "outputs": [
    {
     "data": {
      "text/plain": [
       "2×2 Matrix{Int64}:\n",
       " 1  2\n",
       " 3  4"
      ]
     },
     "execution_count": 4,
     "metadata": {},
     "output_type": "execute_result"
    }
   ],
   "source": [
    "X_Square = [1 2;3 4]"
   ]
  },
  {
   "cell_type": "code",
   "execution_count": 5,
   "id": "5cbb32d1-ad2d-40d4-bde2-a3b15e58f102",
   "metadata": {},
   "outputs": [
    {
     "data": {
      "text/plain": [
       "3×2 Matrix{Int64}:\n",
       " 1  2\n",
       " 3  4\n",
       " 5  6"
      ]
     },
     "execution_count": 5,
     "metadata": {},
     "output_type": "execute_result"
    }
   ],
   "source": [
    "X_tall = [1 2;3 4; 5 6;]"
   ]
  },
  {
   "cell_type": "code",
   "execution_count": 6,
   "id": "35ab4892-918c-4bf2-bbf8-ef5d0d2abb49",
   "metadata": {},
   "outputs": [
    {
     "data": {
      "text/plain": [
       "2×3 Matrix{Int64}:\n",
       " 1  2  3\n",
       " 4  5  6"
      ]
     },
     "execution_count": 6,
     "metadata": {},
     "output_type": "execute_result"
    }
   ],
   "source": [
    "X_wide = [1 2 3;4 5 6]"
   ]
  },
  {
   "cell_type": "markdown",
   "id": "eea34684-4c82-49e9-8aa6-bf6ff1a43106",
   "metadata": {},
   "source": [
    "## Diagonal of a Matrix\n",
    "A diagonal of a Matrix starts from the top-left element and goes down to the bottom right.\n",
    "<p>$$\\mathbf{A} = \\begin{pmatrix} a_{11} & . & . \\\\ . & a_{22} & . \\\\ . & . &a_{33}  \\end{pmatrix} $$</p>"
   ]
  },
  {
   "cell_type": "markdown",
   "id": "aace8315-1028-42ef-b12e-22a6cb7dc455",
   "metadata": {},
   "source": [
    "### Diagonal Matrix\n",
    "<p>A diagonal matrix has zero s on all the off-diagonal elements. a diagonal element can be zero but they are the only ones that can have nonzero values </p>\n",
    "<p>Example:</p>\n",
    "$$\\mathbf{D} = \\begin{pmatrix} 1 & 0 & 0 \\\\ 0 & 4 & 0 \\\\ 0 & 0 & -1 \\end{pmatrix} $$"
   ]
  },
  {
   "cell_type": "code",
   "execution_count": 7,
   "id": "03831d62-c74f-404f-9fca-56b56f51189e",
   "metadata": {},
   "outputs": [
    {
     "name": "stdout",
     "output_type": "stream",
     "text": [
      "\u001b[32mDiagonal elements are [2, 5, 3]\u001b[39m\n"
     ]
    }
   ],
   "source": [
    "\n",
    "D = [2 3 4; 3 5 6; 1 0 3;]\n",
    "Ddiagonal = LinearAlgebra.diag(D)\n",
    "printstyled(\"Diagonal elements are $Ddiagonal\\n\",color=:green)"
   ]
  },
  {
   "cell_type": "markdown",
   "id": "7615e0aa-a094-46ca-927d-b40fac2c4d62",
   "metadata": {},
   "source": [
    "### Identity Matrix\n",
    "<p>The identity matrix is a square diagonal matrix with all diagonal elements having a value of 1</p>\n",
    "<p>It is Indicated using the letter <b>I</b></p>\n",
    "For Example:\n",
    "$$\\mathbf{I_{3}} = \\begin{pmatrix} 1 & 0 & 0 \\\\ 0 & 1 & 0 \\\\ 0 & 0 &1 \\end{pmatrix}$$ "
   ]
  },
  {
   "cell_type": "code",
   "execution_count": 8,
   "id": "7ebb7cc8-eaf4-43f0-a6c8-d192b7847237",
   "metadata": {
    "scrolled": true
   },
   "outputs": [
    {
     "name": "stdout",
     "output_type": "stream",
     "text": [
      "\u001b[34man Identity matrix example\u001b[39m"
     ]
    },
    {
     "data": {
      "text/plain": [
       "3×3 LinearAlgebra.Diagonal{Bool, Vector{Bool}}:\n",
       " 1  ⋅  ⋅\n",
       " ⋅  1  ⋅\n",
       " ⋅  ⋅  1"
      ]
     },
     "execution_count": 8,
     "metadata": {},
     "output_type": "execute_result"
    }
   ],
   "source": [
    "printstyled(\"an Identity matrix example\",color=:blue)\n",
    "I = LinearAlgebra.I(3)"
   ]
  },
  {
   "cell_type": "markdown",
   "id": "a3323903-9926-46c7-87ba-ca7a29bbc0c1",
   "metadata": {},
   "source": [
    "### Triangular\n",
    "<p>A Triangular matrix contains all zeros either above or below the main diagonal</p>\n",
    "<hr>\n",
    "<p>An <b>upper triangular</b> matrix contains nonzero values above the main diagonal</p>\n",
    "$$ \\begin{pmatrix} 1 & 2 & 3 \\\\ 0 & 3 & 4 \\\\ 0 & 0 & -1 \\end{pmatrix}$$\n",
    "<p>An <b>lower triangular</b> matrix contains nonzero values below the main diagonal</p>\n",
    "$$ \\begin{pmatrix} 1 & 0 & 0 \\\\ 21 & 3 & 0 \\\\ 12 & 2& -1 \\end{pmatrix}$$"
   ]
  },
  {
   "cell_type": "code",
   "execution_count": 9,
   "id": "64776c9d-a84b-4ba3-bb4c-71e1d0223a70",
   "metadata": {},
   "outputs": [
    {
     "data": {
      "text/plain": [
       "3×3 Matrix{Int64}:\n",
       " 2  3  4\n",
       " 0  5  6\n",
       " 0  0  3"
      ]
     },
     "execution_count": 9,
     "metadata": {},
     "output_type": "execute_result"
    }
   ],
   "source": [
    "D_ut = LinearAlgebra.triu(D) # upper triangular matrix"
   ]
  },
  {
   "cell_type": "code",
   "execution_count": 10,
   "id": "c0dabb0f-df41-4de4-acca-9a9e834ea25a",
   "metadata": {},
   "outputs": [
    {
     "data": {
      "text/plain": [
       "3×3 Matrix{Int64}:\n",
       " 2  0  0\n",
       " 3  5  0\n",
       " 1  0  3"
      ]
     },
     "execution_count": 10,
     "metadata": {},
     "output_type": "execute_result"
    }
   ],
   "source": [
    "D_lt = LinearAlgebra.tril(D) # lower triangular matrix"
   ]
  },
  {
   "cell_type": "markdown",
   "id": "e6f1e477-da3c-4d1c-aa30-d4bf4c164a66",
   "metadata": {},
   "source": [
    "## Zeros Matrix\n",
    "<p>In this matrix all elements have the value of 0. it is indicate with $\\mathbf{0}$</p>\n",
    "For Example:\n",
    "$$\\mathbf{0} = \\begin{pmatrix} 0 & 0 & 0 \\\\ 0 & 0 & 0 \\\\ 0 & 0 &0 \\end{pmatrix}$$ "
   ]
  },
  {
   "cell_type": "code",
   "execution_count": 11,
   "id": "fe302bd4-b5cd-40f9-80fd-ff197807638e",
   "metadata": {},
   "outputs": [
    {
     "data": {
      "text/plain": [
       "3×3 Matrix{Float64}:\n",
       " 0.0  0.0  0.0\n",
       " 0.0  0.0  0.0\n",
       " 0.0  0.0  0.0"
      ]
     },
     "execution_count": 11,
     "metadata": {},
     "output_type": "execute_result"
    }
   ],
   "source": [
    "Zeros = LinearAlgebra.zero(rand(3,3))"
   ]
  },
  {
   "cell_type": "markdown",
   "id": "804a7cb9-7e97-4951-8c4c-66a2e5a4f78d",
   "metadata": {},
   "source": [
    "## Symmetric Matrix\n",
    "<p>matrix $A\\,$ is symmetric if $\\,\\,A^{T}\\,=\\,A$ which means $\\,\\,A\\,\\,$ must be square matrix</p>\n",
    "Example:\n",
    "$$ A\\,\\,=\\begin{pmatrix} a & e & f & g \\\\ e & b & h & i \\\\ f & h & c & j \\\\ g & i & j & d \\end{pmatrix}$$"
   ]
  },
  {
   "cell_type": "code",
   "execution_count": 12,
   "id": "015f3d0a-c1f6-4a0c-8eb0-6c036375161a",
   "metadata": {},
   "outputs": [
    {
     "data": {
      "text/plain": [
       "true"
      ]
     },
     "execution_count": 12,
     "metadata": {},
     "output_type": "execute_result"
    }
   ],
   "source": [
    "SM = [1 2 3 4;2 5 -1 0;3 -1 10 -pi;4 0 -pi exp(1)]\n",
    "SM == SM'"
   ]
  },
  {
   "cell_type": "markdown",
   "id": "294a3f97-0377-4cbc-9e83-ef274348d925",
   "metadata": {},
   "source": [
    "## Matrix Math"
   ]
  },
  {
   "cell_type": "markdown",
   "id": "f54ab34e-a7ad-48c3-acc8-b04919306ef6",
   "metadata": {},
   "source": [
    "### Addition and Subtraction\n",
    "<p>Each element will be added or subtracted to its corresponding elements</p>\n",
    "<p>So Matricis must have the same size</p>\n",
    "Example:\n",
    "<hr>\n",
    "$ \\begin{pmatrix} 1 & 2 & 3 \\\\ 0 & 3 & 4 \\\\ 0 & 0 & -1 \\end{pmatrix}$ $+$ $\\begin{pmatrix} 1 & 0 & 0 \\\\ 21 & 3 & 0 \\\\ 12 & 2 & -1 \\end{pmatrix}$ $ =\n",
    "\\, \\begin{pmatrix} (1+1) & (2+0) & (3+0) \\\\ (0+21) & (3+3) & (4+0) \\\\ (0+12) & (0 + 2) & (-1+-1)  \\end{pmatrix}$ $ = \\begin{pmatrix} 2 & 2 & 3 \\\\ 21 & 6 & 4 \\\\ 12 & 2 & -2  \\end{pmatrix}$"
   ]
  },
  {
   "cell_type": "code",
   "execution_count": 13,
   "id": "aed090b7-8101-43f8-90de-7e770384c422",
   "metadata": {},
   "outputs": [
    {
     "data": {
      "text/plain": [
       "3×3 Matrix{Float64}:\n",
       " 1.28037   1.293     1.074\n",
       " 1.63366   0.542071  0.890199\n",
       " 0.932538  1.17146   0.779542"
      ]
     },
     "execution_count": 13,
     "metadata": {},
     "output_type": "execute_result"
    }
   ],
   "source": [
    "X1 = rand(3,3)\n",
    "X2 = rand(3,3)\n",
    "X_sum = X1 + X2"
   ]
  },
  {
   "cell_type": "markdown",
   "id": "981bd3fb-be40-47ed-badf-f44e1b5a54c9",
   "metadata": {},
   "source": [
    "### Shifting a Matrix\n",
    "\n",
    "<p>Adding a constant value to the diagonal, which is implemented by adding a scalar multiplied Identity matrix</p>\n",
    "<p>Matrix must be a Square Matrix</p>\n",
    "$$ \\mathbf{A} + \\lambda{\\mathbf{I}}$$\n",
    "Example:\n",
    "$ \\begin{pmatrix}9 & 2 \\\\ 0 &  9 \\end{pmatrix} $ $+ 6\\begin{pmatrix}1 & 0 \\\\ 0 &  1 \\end{pmatrix}$ $=  \\begin{pmatrix}15 & 2 \\\\ 0 &  15 \\end{pmatrix} $\n"
   ]
  },
  {
   "cell_type": "code",
   "execution_count": 14,
   "id": "40533cc3-6251-44c5-9660-22ffcdb7c1d9",
   "metadata": {},
   "outputs": [
    {
     "data": {
      "text/plain": [
       "2×2 Matrix{Int64}:\n",
       " 15   2\n",
       "  0  15"
      ]
     },
     "execution_count": 14,
     "metadata": {},
     "output_type": "execute_result"
    }
   ],
   "source": [
    "A = [9 2;0 9]\n",
    "A + 6*LinearAlgebra.I(2)"
   ]
  },
  {
   "cell_type": "markdown",
   "id": "f86bcd52-fc50-4a68-bdf9-cfdbbf9b34a1",
   "metadata": {},
   "source": [
    "### Scalar and Hadamard Multiplications\n",
    "<p>These two types work the same for matrices as they do for vectors.</p>\n",
    "<p><b>Scalar Multiplication</b></p>\n",
    "$$ \\gamma\\left[\\begin{matrix} a & b \\\\ c & d \\end{matrix}\\right] \\, = \\, \\left[\\begin{matrix}\\gamma a & \\gamma b \\\\  \\gamma c & \\gamma d \\end{matrix}\\right] $$\n",
    "<hr>\n",
    "<p><b>Hadamard Multiplication</b></p>\n",
    "$$ \\left[\\begin{matrix} a & b \\\\ c & d \\end{matrix}\\right] \\odot \\left[\\begin{matrix} e & f \\\\ g & h \\end{matrix}\\right] \\, = \\, \\left[\\begin{matrix} ae & bf \\\\ cg & dh \\end{matrix}\\right]$$"
   ]
  },
  {
   "cell_type": "code",
   "execution_count": 15,
   "id": "2ef3e2af-4ff4-4156-ba93-571be97a95c5",
   "metadata": {},
   "outputs": [
    {
     "name": "stdout",
     "output_type": "stream",
     "text": [
      "\u001b[34mScalar Multiplication\u001b[39m"
     ]
    },
    {
     "data": {
      "text/plain": [
       "2×2 Matrix{Int64}:\n",
       " 90  20\n",
       "  0  90"
      ]
     },
     "execution_count": 15,
     "metadata": {},
     "output_type": "execute_result"
    }
   ],
   "source": [
    "printstyled(\"Scalar Multiplication\",color=:blue)\n",
    "A_SM = A.*10 "
   ]
  },
  {
   "cell_type": "code",
   "execution_count": 16,
   "id": "09d2444e-276f-4bd6-be17-5816418ca310",
   "metadata": {},
   "outputs": [
    {
     "name": "stdout",
     "output_type": "stream",
     "text": [
      "\u001b[33mHadamard Multiplication\u001b[39m"
     ]
    },
    {
     "data": {
      "text/plain": [
       "2×2 Matrix{Int64}:\n",
       " 810   40\n",
       "   0  810"
      ]
     },
     "execution_count": 16,
     "metadata": {},
     "output_type": "execute_result"
    }
   ],
   "source": [
    "printstyled(\"Hadamard Multiplication\",color=:yellow)\n",
    "A_HM = A_SM  .* A"
   ]
  },
  {
   "cell_type": "markdown",
   "id": "067fba7c-ced7-4f30-84ac-873ece615175",
   "metadata": {},
   "source": [
    "### Matrix Multiplication\n",
    "<p>Two matrices can be multiplied by each other if they have the same inner dimensions.</p>\n",
    "Consider $\\,A_{M\\times N}\\,\\,$ and $\\,B_{J\\times K}\\,\\,\\,$ if $ N\\,=\\,J\\,\\,\\,$ there can be a valid multiplication, the multiplication of $\\,\\,A\\,\\,$and $\\,\\,B\\,\\,$ results in a $\\,\\,\\,M\\times K\\,\\,\\,$ matrix\n",
    "$ A\\,= \\,\\begin{pmatrix} 1 & 2 & 9 \\\\ 3 & -1 & 0 \\end{pmatrix}\\,\\, B\\,=\\,\\begin{pmatrix} 1 & 4\\\\ 3 & -1 \\\\ -12 & 9 \\end{pmatrix}$\n",
    "$$ AB\\,=\\,\\begin{pmatrix} (1\\times 1+ 2\\times 3 + 9 \\times -12)  & (1\\times 4 + 2 \\times -1 + 9\\times 9)  \\\\ (3\\times1 + -1\\times 3 + 0\\times -12 )  & (3\\times 9 + -1\\times -1 + 0\\times 9) \\end{pmatrix}$$ \n",
    "<p>Even if $\\,\\,A\\,\\,$ and $\\,\\,B\\,\\,$ where square matrices with equal dimensions commutative law does not exist for them</p>\n",
    "$$ AB\\,\\ne\\,BA$$"
   ]
  },
  {
   "cell_type": "code",
   "execution_count": 17,
   "id": "f5b78fd9-d516-4bb8-bef9-5f36bd2953c8",
   "metadata": {},
   "outputs": [
    {
     "name": "stdout",
     "output_type": "stream",
     "text": [
      "\u001b[34mAB = [7 2; 0 13] \u001b[39m\u001b[31mBA = [13 -2; 0 7]\u001b[39m"
     ]
    },
    {
     "data": {
      "text/plain": [
       "false"
      ]
     },
     "execution_count": 17,
     "metadata": {},
     "output_type": "execute_result"
    }
   ],
   "source": [
    "A = [ 1 2;3 -1] \n",
    "B = [1 4; 3 -1]\n",
    "AB = A*B\n",
    "printstyled(\"AB = $AB \",color=:blue)\n",
    "BA = B*A\n",
    "printstyled(\"BA = $BA\",color=:red)\n",
    "AB == BA"
   ]
  },
  {
   "cell_type": "markdown",
   "id": "fe4293cc-a94e-4f94-92e6-66af6141e469",
   "metadata": {},
   "source": [
    "#### Matrix-Vector Multiplication\n",
    "<p>A matrix can be right multiplied by a <b>column</b> vector but not a <b>row</b> vector</p> \n",
    "$Av\\,\\,$ and $\\,\\,v^{T}A\\,\\,$ are valid, but $\\,\\,vA\\,\\,$ and $\\,\\,Av^{t}\\,\\,$ are invalid.\n",
    "<p>The result of this operation is always a vector</p>"
   ]
  },
  {
   "cell_type": "code",
   "execution_count": 18,
   "id": "146a553b-ddf1-4200-98bd-47c5e749f02f",
   "metadata": {},
   "outputs": [
    {
     "name": "stdout",
     "output_type": "stream",
     "text": [
      "\u001b[32mAv = [5, 1] \u001b[39m\u001b[33mv^T A = [7 0]\u001b[39m"
     ]
    }
   ],
   "source": [
    "v = [1;2]\n",
    "Av = A*v\n",
    "printstyled(\"Av = $Av \",color=:green)\n",
    "printstyled(\"v^T A = $( v'*A)\",color=:yellow)"
   ]
  },
  {
   "cell_type": "markdown",
   "id": "77193deb-da29-4ac8-bdea-8ef3e666f7ff",
   "metadata": {},
   "source": [
    "**Application of Matrix-Vector Multiplication in Linear weighted combinations** \\\n",
    "$ \\lambda_{1}\\begin{pmatrix} a \\\\ b \\\\ c \\end{pmatrix}\\,\\,+ \\lambda_{2}\\begin{pmatrix} d \\\\ e \\\\ f \\end{pmatrix}\\,\\,$ $\\implies\\,$ $\\,\\begin{pmatrix} a & d \\\\ b & e\\\\ c & f\\end{pmatrix}\\,\\,\\begin{pmatrix} \\lambda_{1} \\\\ \\lambda_{2}  \\end{pmatrix}\\,\\,$"
   ]
  },
  {
   "cell_type": "code",
   "execution_count": 19,
   "id": "04c39dad-7cc8-4a86-8a85-43cf8c48b24c",
   "metadata": {},
   "outputs": [
    {
     "data": {
      "text/plain": [
       "true"
      ]
     },
     "execution_count": 19,
     "metadata": {},
     "output_type": "execute_result"
    }
   ],
   "source": [
    "λ1 = 2\n",
    "λ2  = -1\n",
    "v1 = [1;2;3]\n",
    "v2 = [0;1;0]\n",
    "vc = [1 0;2 1; 3 0]\n",
    "result_v = λ1.*v1 + λ2.*v2\n",
    "result_mv = vc * [λ1; λ2]\n",
    "result_v == result_mv"
   ]
  },
  {
   "cell_type": "markdown",
   "id": "c5972631-1593-4baf-b6dd-77acdc77e1d9",
   "metadata": {},
   "source": [
    "### Matrix Transpose"
   ]
  },
  {
   "cell_type": "markdown",
   "id": "47a8ac13-10ce-4728-9829-b8d0cb917657",
   "metadata": {},
   "source": [
    "$$a^{T}_{i\\, , \\,j} = a_{j\\, ,\\, i} $$\n",
    "<p>Example:</p>\n",
    "$ \\left| \\begin{matrix} a & b & c \\\\ d & e & f \\end{matrix}\\right|^{T}\\,\\,=\\,\\left|\\begin{matrix} a & d \\\\ b & e \\\\ c & f \\end{matrix} \\right| $"
   ]
  },
  {
   "cell_type": "code",
   "execution_count": 20,
   "id": "33dbf016-949f-4b32-9a94-2aa42fa329a6",
   "metadata": {},
   "outputs": [
    {
     "name": "stdout",
     "output_type": "stream",
     "text": [
      "\u001b[34mA = [1 2; 3 -1]\t\u001b[39m\u001b[31mA transposed = [1 3; 2 -1]\u001b[39m\n"
     ]
    }
   ],
   "source": [
    "printstyled(\"A = $A\\t\",color=:blue)\n",
    "printstyled(\"A transposed = $(A')\\n\",color=:red)"
   ]
  },
  {
   "cell_type": "markdown",
   "id": "05d0f0ef-51d6-4954-977c-20320c60071d",
   "metadata": {},
   "source": [
    "### Matrix LIVE EVIL (Order of Operations) \n",
    "$$(LIVE)^{T}\\,\\,=\\,E^{T}V^{T}I^{T}L^{T}$$"
   ]
  },
  {
   "cell_type": "code",
   "execution_count": 21,
   "id": "039e8f9b-a7ae-4fb5-9d6d-adf0259f89e3",
   "metadata": {},
   "outputs": [
    {
     "data": {
      "text/plain": [
       "3×3 Matrix{Float64}:\n",
       " -2.08592    5.44551   -0.495622\n",
       " -1.36266    0.756035   0.000536623\n",
       "  0.923847  -4.40372    0.638866"
      ]
     },
     "execution_count": 21,
     "metadata": {},
     "output_type": "execute_result"
    }
   ],
   "source": [
    "L = randn(3,3)\n",
    "I = randn(3,3)\n",
    "V = randn(3,3)\n",
    "E = randn(3,3)\n",
    "LIVE_T = E*V*I*L"
   ]
  },
  {
   "cell_type": "markdown",
   "id": "e54f67ea-601f-46cd-b0a5-99ece943e31d",
   "metadata": {},
   "source": [
    "### Creating Symmetric Matrices from Nonsymmetric Matrices\n",
    "<p>Multipling any matrix by its transpose will produce a <b>Symmetric Matrix</b></p>\n",
    "$AA^{T}\\,\\,$ and $\\,\\,A^{T}A\\,\\,$  both will produce a symmetric matrix "
   ]
  },
  {
   "cell_type": "code",
   "execution_count": 22,
   "id": "ff2a6ca2-57fe-45c3-b2a6-75ad01aa8f88",
   "metadata": {},
   "outputs": [
    {
     "name": "stdout",
     "output_type": "stream",
     "text": [
      "Is A symmetric?\n",
      "false\n",
      "Now A is symmetric [10 -1; -1 5]\n"
     ]
    }
   ],
   "source": [
    "println(\"Is A symmetric?\")\n",
    "println(A==A')\n",
    "println(\"Now A is symmetric $(A'*A)\")"
   ]
  },
  {
   "cell_type": "markdown",
   "id": "65a0531d-a4e1-43a7-bdfd-4706fd7533ff",
   "metadata": {},
   "source": [
    "## Matrix Norms"
   ]
  },
  {
   "cell_type": "markdown",
   "id": "7fd1d6ae-761c-44e4-951b-3b2a95417f0e",
   "metadata": {},
   "source": [
    "### The Frobenius norm (Euclidean norm)\n",
    "<p>Frobenius norm is the square root of the sum of all matrix elements squared</p>\n",
    "$$ \\huge \\|\\,A\\,\\|_{F}\\,\\,=\\,\\,\\sqrt{\\sum_{i\\,=\\,1}^{M}\\,\\sum_{j\\,=\\,1}^{N}{a_{i\\,j}^{2}}} $$\n",
    "The indices $\\,i\\,$ and $\\,j\\,$ correspond to the row $\\,M\\,$ and $\\,N\\,$ columns. Also the subscript $\\,_{F}\\,$ indicates the Frobenius norm.\n",
    "<p>The Frobenius form is also called the $\\,\\,\\mathscr{l}2\\,$norm </p>"
   ]
  },
  {
   "cell_type": "code",
   "execution_count": 23,
   "id": "bb55658a-14c2-4404-9255-59cdf1fe3286",
   "metadata": {},
   "outputs": [
    {
     "data": {
      "text/plain": [
       "3.872983346207417"
      ]
     },
     "execution_count": 23,
     "metadata": {},
     "output_type": "execute_result"
    }
   ],
   "source": [
    "A_F = LinearAlgebra.norm(A)"
   ]
  },
  {
   "cell_type": "markdown",
   "id": "91f5d7fa-4b15-4d8e-aa2f-71ce6a4cb3b4",
   "metadata": {},
   "source": [
    "### Matrix trace\n",
    "<p>Matrix trace only exists for squared matrices. It is the sum of all diagonal elements, indicated as $\\,tr(A)\\,$</p>\n",
    "$$\\huge tr(A)\\, =\\,\\sum_{i\\,=\\,1}^{N}\\sum_{\\,j\\,=\\,i}^{N}{a_{i\\,j}}\\,$$"
   ]
  },
  {
   "cell_type": "code",
   "execution_count": 24,
   "id": "d7a8b7c4-44d7-42f7-b592-f8dbf0c4d45f",
   "metadata": {},
   "outputs": [
    {
     "data": {
      "text/plain": [
       "0"
      ]
     },
     "execution_count": 24,
     "metadata": {},
     "output_type": "execute_result"
    }
   ],
   "source": [
    "LinearAlgebra.tr(A)"
   ]
  },
  {
   "cell_type": "markdown",
   "id": "806c2134-e683-4536-a035-efcb3bc695cf",
   "metadata": {},
   "source": [
    "***Matrix trace and Frobenius norm***\n",
    "$$ \\huge \\|\\,A\\,\\|_{F}\\,\\,=\\,\\,\\sqrt{\\sum_{i\\,=\\,1}^{M}\\,\\sum_{j\\,=\\,1}^{N}{a_{i\\,j}^{2}}} \\,\\,=\\,\\,\\sqrt{tr(A^{T}A)} $$"
   ]
  },
  {
   "cell_type": "code",
   "execution_count": 25,
   "id": "6a8fedc3-7794-4244-ad71-d74028e89fc7",
   "metadata": {},
   "outputs": [
    {
     "data": {
      "text/plain": [
       "true"
      ]
     },
     "execution_count": 25,
     "metadata": {},
     "output_type": "execute_result"
    }
   ],
   "source": [
    "A_F == sqrt(LinearAlgebra.tr(A'*A))"
   ]
  },
  {
   "cell_type": "markdown",
   "id": "38acfb33-ae70-45ae-894b-a678759b90ca",
   "metadata": {},
   "source": [
    "### Rank of a Matrix\n",
    "\n",
    "The rank of a matrix $\\,A\\,$ is $\\,rank(A)\\,\\,$or$\\,\\,r(A)\\,$ where $\\,\\,rank(A) \\le Min\\{M,N\\} $ \n",
    "<p>If $\\,rank(A)\\,=\\,Min\\{M,N\\}$ $\\,A\\,$ have <b>full rank,<b> otherwise it is a rank-deficient matrix</p>\n",
    "<hr>\n",
    "    "
   ]
  },
  {
   "cell_type": "code",
   "execution_count": 26,
   "id": "37a06c2a-7905-4ca1-87ba-b66e0b630386",
   "metadata": {},
   "outputs": [
    {
     "data": {
      "text/plain": [
       "2"
      ]
     },
     "execution_count": 26,
     "metadata": {},
     "output_type": "execute_result"
    }
   ],
   "source": [
    "LinearAlgebra.rank(A)"
   ]
  },
  {
   "cell_type": "markdown",
   "id": "7d56069e-46dd-408b-a820-e62b552b9923",
   "metadata": {},
   "source": [
    "- The rank of Identity Matrices $\\,I_{N}\\,$ is $N$."
   ]
  },
  {
   "cell_type": "code",
   "execution_count": 27,
   "id": "08756d44-80ee-435f-99d9-34a0e9692e8b",
   "metadata": {},
   "outputs": [
    {
     "data": {
      "text/plain": [
       "3"
      ]
     },
     "execution_count": 27,
     "metadata": {},
     "output_type": "execute_result"
    }
   ],
   "source": [
    "LinearAlgebra.rank(I)"
   ]
  },
  {
   "cell_type": "markdown",
   "id": "fdc7f42f-637c-45c1-ba36-d52d8b2ecdb5",
   "metadata": {},
   "source": [
    "- The rank of Zero Matrices and Zero Vectors is $0$."
   ]
  },
  {
   "cell_type": "code",
   "execution_count": 28,
   "id": "3e462bf8-0a4b-46aa-8ac4-c8cce7d735f9",
   "metadata": {},
   "outputs": [
    {
     "data": {
      "text/plain": [
       "0"
      ]
     },
     "execution_count": 28,
     "metadata": {},
     "output_type": "execute_result"
    }
   ],
   "source": [
    "Z_M = fill(0,3,3)\n",
    "LinearAlgebra.rank(Z_M)"
   ]
  },
  {
   "cell_type": "markdown",
   "id": "3b44899c-1d40-424a-9320-807fe702f3f0",
   "metadata": {},
   "source": [
    "- The rank of Diagonal Matrices is the number of nonzero elements."
   ]
  },
  {
   "cell_type": "code",
   "execution_count": 29,
   "id": "dc4237cf-995f-424d-919a-7758077a0dad",
   "metadata": {},
   "outputs": [
    {
     "data": {
      "text/plain": [
       "3"
      ]
     },
     "execution_count": 29,
     "metadata": {},
     "output_type": "execute_result"
    }
   ],
   "source": [
    "LinearAlgebra.rank(D)"
   ]
  },
  {
   "cell_type": "markdown",
   "id": "7899a889-dbab-48ba-bcb8-d2601057e927",
   "metadata": {},
   "source": [
    "- Shifted Matrices have **full rank** ($\\,r(A)\\,=\\{N+1\\}$)."
   ]
  },
  {
   "cell_type": "code",
   "execution_count": 30,
   "id": "85f95568-6c9e-453a-a831-09c0f625950f",
   "metadata": {},
   "outputs": [
    {
     "data": {
      "text/plain": [
       "true"
      ]
     },
     "execution_count": 30,
     "metadata": {},
     "output_type": "execute_result"
    }
   ],
   "source": [
    "S_M = [1 3 2;5 7 2;2 2 0]+ 0.1.*LinearAlgebra.I(3)\n",
    "LinearAlgebra.rank(SM) == LinearAlgebra.rank(I)+1"
   ]
  },
  {
   "cell_type": "markdown",
   "id": "f6b38f6e-f4aa-4fbe-a8f0-dcc6c07b8e13",
   "metadata": {},
   "source": [
    "***Rank of Added and Multiplied Matrices***: \n",
    "$$ rank(A\\,+\\,B)\\,\\le\\,rank(A)\\,+\\,rank(B)$$\n",
    "$$ rank(AB) \\,\\le\\,min\\{rank(A)\\,,\\,rank(B)\\}$$"
   ]
  },
  {
   "cell_type": "code",
   "execution_count": 31,
   "id": "7fa0779f-c599-4520-99ff-f6e19da46b3c",
   "metadata": {},
   "outputs": [
    {
     "data": {
      "text/plain": [
       "true"
      ]
     },
     "execution_count": 31,
     "metadata": {},
     "output_type": "execute_result"
    }
   ],
   "source": [
    "LinearAlgebra.rank(D+I) <= LinearAlgebra.rank(D) + LinearAlgebra.rank(I)"
   ]
  },
  {
   "cell_type": "code",
   "execution_count": 32,
   "id": "76a69b38-293a-4328-9252-78c3ccce98ae",
   "metadata": {},
   "outputs": [
    {
     "data": {
      "text/plain": [
       "true"
      ]
     },
     "execution_count": 32,
     "metadata": {},
     "output_type": "execute_result"
    }
   ],
   "source": [
    "LinearAlgebra.rank(D*I) <= min(LinearAlgebra.rank(D),LinearAlgebra.rank(I))"
   ]
  },
  {
   "cell_type": "markdown",
   "id": "ed2b7f90-a617-400e-9357-5261cad48cb4",
   "metadata": {},
   "source": [
    "### "
   ]
  },
  {
   "cell_type": "markdown",
   "id": "3c2e5d33-e63d-4175-b884-69036908db76",
   "metadata": {},
   "source": [
    "### Matrix Determinant\n",
    "For an $\\,n\\times n\\,$ matrix $A\\,$ the determinant $det(A)\\,\\,\\text{or}\\,\\,\\,|A|$ can be caluclated using the following recurssive formula:\n",
    "$$ det(A)\\,=\\,\\sum_{j=1}^{n}{(-1)^{i+j}\\,a_{ij}det(A_{ij})}$$\n",
    "- $𝐴_{𝑖𝑗}$ is the $(𝑛−1)\\times(𝑛−1)\\,$ submatrix obtained by removing the *𝑖-th* row and *𝑗-th* column from $𝐴$.\n",
    "\n",
    "- The term $(−1)^{𝑖+𝑗}$ is called the cofactor and accounts for the alternating signs in the expansion.\n",
    "\n",
    "- Example: $ A\\,=\\begin{pmatrix}a & b\\\\ c &  d \\end{pmatrix}\\,\\,det(A)= ad-bc$\n",
    "<hr>\n",
    "- A matrix is invertible only if its determinant is non-zero."
   ]
  },
  {
   "cell_type": "markdown",
   "id": "68484590-9114-4fda-82e2-9ad99c92bad0",
   "metadata": {},
   "source": [
    "***Determinants Multiplicativity***\n",
    "$$ det(AB)\\,=\\,det(A)\\cdot det(B)$$"
   ]
  },
  {
   "cell_type": "code",
   "execution_count": 33,
   "id": "efbf8b31-305f-48e4-8fb6-27781f3f6163",
   "metadata": {},
   "outputs": [
    {
     "data": {
      "text/plain": [
       "true"
      ]
     },
     "execution_count": 33,
     "metadata": {},
     "output_type": "execute_result"
    }
   ],
   "source": [
    "LinearAlgebra.det(AB) == LinearAlgebra.det(A)*LinearAlgebra.det(B)"
   ]
  },
  {
   "cell_type": "markdown",
   "id": "00f5b5e9-5590-41ef-aecf-2a17bb661225",
   "metadata": {},
   "source": [
    "\n",
    "***Determinant Transpose*** \n",
    "$$ det(A)\\,=\\,det(A^{T}) $$"
   ]
  },
  {
   "cell_type": "code",
   "execution_count": 34,
   "id": "e214ab28-8633-42db-967b-4bd569d77451",
   "metadata": {},
   "outputs": [
    {
     "data": {
      "text/plain": [
       "true"
      ]
     },
     "execution_count": 34,
     "metadata": {},
     "output_type": "execute_result"
    }
   ],
   "source": [
    "LinearAlgebra.det(A) == LinearAlgebra.det(A')"
   ]
  },
  {
   "cell_type": "markdown",
   "id": "42dc462f-efd3-49df-bffa-4cde9afe989e",
   "metadata": {},
   "source": [
    "### Matrix Covariacnce\n",
    "$$ C\\,=\\,\\mathbf{X}^{T}\\mathbf{X}\\frac{1}{n-1}$$"
   ]
  },
  {
   "cell_type": "code",
   "execution_count": 35,
   "id": "bf4423bd-a933-4ea8-a48d-ab298e34a62b",
   "metadata": {},
   "outputs": [
    {
     "data": {
      "text/plain": [
       "2×2 Matrix{Float64}:\n",
       " 1.79306   0.290899\n",
       " 0.290899  0.0628672"
      ]
     },
     "execution_count": 35,
     "metadata": {},
     "output_type": "execute_result"
    }
   ],
   "source": [
    "X=randn(3,2)\n",
    "C = X'X*(1/2)"
   ]
  },
  {
   "cell_type": "markdown",
   "id": "642cbb57-fc4d-4bb4-8f00-b01ffd9af043",
   "metadata": {},
   "source": [
    "**2D Gaussian Kernel**\n",
    "$$ G\\,=\\,\\mathcal{\\large e}^{-\\dfrac{\\left(\\mathbf{X^{2}+Y^{2}}\\right)}{\\sigma}}$$\n",
    "$\\mathbf{X,Y}\\,\\,$ are 2D grides of $\\,x,y\\,$ coordinates.\n",
    "\n",
    "$\\sigma\\,$ is often called **shape** or **width**\n",
    "\n",
    "\n",
    "***it is used for image processing***"
   ]
  },
  {
   "cell_type": "markdown",
   "id": "af3f65dd-58af-47c4-bc53-6b36cc6a3ee4",
   "metadata": {},
   "source": [
    "### Matrix Inverse"
   ]
  },
  {
   "cell_type": "markdown",
   "id": "f9c9fa11-01c7-4fdd-bcaa-803b897ce6ff",
   "metadata": {},
   "source": [
    "#### Full Inverse \n",
    "1) matrix $A$ must be a squared matrix\n",
    "2) matrix $A$ has to be a full-rank matrix\n",
    "3) Full Inverse (or simply inverse) of a matrix is **unique**\n",
    "$$A^{-1}A\\,=\\,AA^{-1}\\,=\\,I$$"
   ]
  },
  {
   "cell_type": "code",
   "execution_count": 36,
   "id": "0ffc4d82-8777-4fcc-9f94-7d6388b0a10c",
   "metadata": {},
   "outputs": [
    {
     "data": {
      "text/plain": [
       "true"
      ]
     },
     "execution_count": 36,
     "metadata": {},
     "output_type": "execute_result"
    }
   ],
   "source": [
    "LinearAlgebra.inv(A)*A == A*LinearAlgebra.inv(A) == LinearAlgebra.I(2)"
   ]
  },
  {
   "cell_type": "markdown",
   "id": "abb645e5-2bb1-4a6b-b266-2a382c6158fe",
   "metadata": {},
   "source": [
    "#### One-sided Inverse\n",
    "\n",
    "- A one-sided inverse can transform a **rectangular** matrix into the **Identity** matrix.\n",
    "- a nonsquare matrix has a one-sided inverse if it has the **maximum possible rank.**\n",
    "- It works only for one multiplication order:\n",
    "   1) a tall matrix $\\mathbf{T}$ can have a left-inverse, $\\mathbf{LT}\\,=\\,I$ but $\\mathbf{TL}\\ne I$\n",
    "   2) a wide matrix  $\\mathbf{W}$ can have a right-inverse, $\\mathbf{WR}\\,=\\,I$ but $\\mathbf{RW}\\ne I$"
   ]
  },
  {
   "cell_type": "markdown",
   "id": "f87ef42e-2dde-41ab-8e96-5c7b7fa619bf",
   "metadata": {},
   "source": [
    "#### Pseudoinverse \n",
    "\n",
    "- Every Matrix has a **pseudoinverse** regardless of its shape and rank.\n",
    "- For a **reduced-rank** matrix, the pseudoinverse, transforms the singular matrix into another matrix that is **close but not equal** to the **Identity matrix**\n",
    "- pseudoinverse matrix is **not** unique\n",
    "\n",
    "##### Moore-Pensore Pseudoinverse (MP)\n",
    "\n",
    "- This is the default algorithm for calculating the Pseudoinverse of a matrix\n",
    "- The pseudoinverse is indicated by $A^{\\dagger}$ or $\\,A^{+}$ or $\\,A^{*}$"
   ]
  },
  {
   "cell_type": "code",
   "execution_count": 37,
   "id": "aeb486bf-7755-4153-8b13-9dd821aee1e4",
   "metadata": {},
   "outputs": [
    {
     "data": {
      "text/plain": [
       "2×3 Matrix{Float64}:\n",
       " 0.0666667  0.0666667  0.0666667\n",
       " 0.133333   0.133333   0.133333"
      ]
     },
     "execution_count": 37,
     "metadata": {},
     "output_type": "execute_result"
    }
   ],
   "source": [
    "A = [1 2; 1 2 ; 1 2]\n",
    "LinearAlgebra.pinv(A)"
   ]
  },
  {
   "cell_type": "markdown",
   "id": "88748466-f08c-464f-8490-187c2550adb6",
   "metadata": {},
   "source": [
    "#### Inverting Any Square Full-Rank Matrix\n",
    "$$ \\mathbf{A^{-1}}\\,=\\,\\frac{1}{\\mathbf{det(A)}}\\cdot \\textbf{adj(A)} $$\n",
    "The algorithm to compute the inverse involves four intermediate matrices:\n",
    "\n",
    "\n",
    "\n",
    "1) **The minors matrix** :\n",
    "\n",
    "This matrix comprises determinants of submatrices. <br>\n",
    "Each element $m_{i,j}$ of the **minor matrix** is the determinant of the submatrix created by excluding the $i$th row and the $j$th column.\n",
    "\n",
    "Example:\n",
    "$$ A=\\,\\begin{vmatrix} \\not\\circ & \\not\\circ & \\not\\circ \\\\ \\not\\circ & \\circ & \\circ \\\\ \\not\\circ & \\circ & \\circ \\end{vmatrix}\\quad m_{1,1}\\,=\\,\\begin{vmatrix} \\bigtriangleup  &  &  \\\\  & &  \\\\ \\ &  &  \\end{vmatrix}$$\n",
    "$$A\\,=\\begin{vmatrix} \\not\\circ & \\not\\circ & \\not\\circ \\\\ \\circ & \\not\\circ & \\circ \\\\ \\circ & \\not\\circ & \\circ \\end{vmatrix}\\quad m_{1,2}\\,=\\,\\begin{vmatrix}   & \\bigtriangleup  &  \\\\  & &  \\\\ \\ &  &  \\end{vmatrix}$$ \n",
    "$$ A\\,=\\begin{vmatrix} \\circ & \\circ & \\not\\circ \\\\ \\circ & \\circ & \\not\\circ \\\\ \\not\\circ & \\not\\circ & \\not\\circ \\end{vmatrix}\\quad m_{3,3}\\,=\\,\\begin{vmatrix}   &  &  \\\\  & &  \\\\ \\ &  & \\bigtriangleup  \\end{vmatrix}$$ \n",
    "2) **The grid matrix**\n",
    "\n",
    "The grid matrix is a checkerboard of alternating $+1$s and $-1$s. It is computed using the following formula:\n",
    "$$ g_{i,j}\\,=\\,-1^{i+j}$$\n",
    "\n",
    "3) **The cofactors matrix**\n",
    "   \n",
    "The cofactors matrix is the Hadamard multiplication of the **minors matrix** with the **grid matrix**.\n",
    "$$\\mathcal{C}_{i\\,j}\\,=\\,(-1)^{i+j}\\cdot det(M_{i\\,j}) $$\n",
    "\n",
    "4) **Adjugate matrix**\n",
    "\n",
    "This is the transpose of **the cofactors matrix**, scalar multiplied by the inverse of the determinant of the original matrix.<br>\n",
    "The **Adjugate matrix** is the inverse of the original matrix.\n",
    "\n",
    "$$ adj(A)\\,=\\left(Cofactor(A)\\right)^{T}$$\n",
    "\n"
   ]
  },
  {
   "cell_type": "code",
   "execution_count": 38,
   "id": "f76a9ef0-c422-457f-85b7-e25b0522f388",
   "metadata": {},
   "outputs": [
    {
     "name": "stdout",
     "output_type": "stream",
     "text": [
      "\u001b[34mIs A full inversable? true\u001b[39m"
     ]
    },
    {
     "data": {
      "image/png": "[encoded data removed]",
      "text/html": [
       "<img width=600 height=400 style='object-fit: contain; height: auto;' src=\"data:image/png;base64, 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\"/>"
      ]
     },
     "execution_count": 38,
     "metadata": {},
     "output_type": "execute_result"
    }
   ],
   "source": [
    "import GLMakie\n",
    "A = [2 3;7 1]\n",
    "printstyled(\"Is A full inversable? $(A*inv(A)  == inv(A)*A )\",color=:blue)\n",
    "\n",
    "xs = A[1,:]\n",
    "ys = A[:,1]\n",
    "A_inv = inv(A)\n",
    "xsinv = A_inv[1,:]\n",
    "ysinv = A_inv[:,1]\n",
    "f = GLMakie.Figure(size=(600,400))\n",
    "ax = GLMakie.Axis(f[1,1],\n",
    "    title = \"A\")\n",
    "GLMakie.heatmap!(xs,ys,[1,1])\n",
    "ax = GLMakie.Axis(f[1,2],title=\"A inversed\")\n",
    "GLMakie.heatmap!(xsinv,ysinv,[1,1])\n",
    "f"
   ]
  },
  {
   "cell_type": "markdown",
   "id": "9d3e5e43-f84b-4d75-bed2-29b0cbfffbe7",
   "metadata": {},
   "source": [
    "#### Hilbert matrix \n",
    "\n",
    "**Hilbert matrix is an example of numerical unstable matrix**\n",
    "\n",
    "$$ h_{i\\,,j}\\,=\\,\\dfrac{1}{i+j-1} $$\n",
    "\n",
    "Example of a 3 x 3 Hilbert matrix:\n",
    "\n",
    "$$\\begin{vmatrix} 1 & 1/2 & 1/3 \\\\ 1/2 & 1/3 & 1/4 \\\\ 1/3 & 1/4 & 1/5 \\end{vmatrix}$$"
   ]
  },
  {
   "cell_type": "code",
   "execution_count": 39,
   "id": "cb988d35-0c9f-4903-8258-be3273ad95c1",
   "metadata": {},
   "outputs": [
    {
     "name": "stdout",
     "output_type": "stream",
     "text": [
      "\u001b[32mA 3x3 Hilbert matrix \u001b[39m\n"
     ]
    },
    {
     "data": {
      "text/plain": [
       "3×3 Matrix{Any}:\n",
       " 1.0       2.0      3.0\n",
       " 0.5       1.5      2.5\n",
       " 0.333333  1.33333  2.33333"
      ]
     },
     "execution_count": 39,
     "metadata": {},
     "output_type": "execute_result"
    }
   ],
   "source": [
    "X = [3 4 1;5 1 0 ;6 2 9]\n",
    "H = Matrix(undef,3,3)\n",
    "for i = 1:3\n",
    "    for j = 1:3\n",
    "        H[i,j] = (1/i+j-1)\n",
    "    end\n",
    "end\n",
    "printstyled(\"A 3x3 Hilbert matrix \\n\",color=:green)\n",
    "H"
   ]
  },
  {
   "cell_type": "markdown",
   "id": "5bc55343-e818-494f-8e68-6353b76f3b1f",
   "metadata": {},
   "source": [
    "### Orthogonal matrix (Q)\n",
    "\n",
    "Orthogonal matrix properties:\n",
    "\n",
    "1) Orthogonal Columns: All columns are **pair-wise** orthogonal\n",
    "2) unit-norm columns: The norm(geometric length) of each columns **exactly** $1$\n",
    "\n",
    "By translating these two properties into a mathematical expression:\n",
    "\n",
    "$$\\Large\\left\\langle q_{i},q_{j}\\right\\rangle\\,=\\left\\{\\begin{array}{cl} 0&:\\, i \\not= j \\\\ \n",
    "1&:\\, i=j\n",
    "\\end{array}\\right.$$\n",
    "\n",
    "Rows of $Q^{T}$ = columns of $Q$\n",
    "\n",
    "$$Q^{T}Q\\,=\\,I$$\n",
    "\n",
    "inverse of $Q$ is $Q^{T}$"
   ]
  },
  {
   "cell_type": "code",
   "execution_count": 40,
   "id": "9ba26133-d300-44da-9e0a-1a25530cfae1",
   "metadata": {},
   "outputs": [
    {
     "name": "stdout",
     "output_type": "stream",
     "text": [
      "Examples of orthogonal matrices\n",
      "\u001b[34mQ^{T}Q == I  true \u001b[39m\n",
      "\u001b[36mQQ^{T} == I  true \u001b[39m\n",
      "\u001b[34mQ2^{T}Q2 == I  true \u001b[39m\n",
      "\u001b[36mQ2Q^{T} == I  true \u001b[39m\n"
     ]
    },
    {
     "data": {
      "image/png": "[encoded data removed]",
      "text/html": [
       "<img width=600 height=400 style='object-fit: contain; height: auto;' src=\"data:image/png;base64, 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\"/>"
      ]
     },
     "execution_count": 40,
     "metadata": {},
     "output_type": "execute_result"
    }
   ],
   "source": [
    "begin \n",
    "println(\"Examples of orthogonal matrices\")\n",
    "Q = 1/sqrt(2) * [1 -1; 1 1]\n",
    "Q2 = 1/3 * [1 2 2 ; 2 1 -2; -2 2 -1]\n",
    "result = Q'Q\n",
    "result = isapprox(result,LinearAlgebra.I(2)) # have to use this because of floating point comparison\n",
    "printstyled(\"\"\"Q^{T}Q == I  $result \\n\"\"\",color=:blue)\n",
    "result = Q*Q'\n",
    "result = isapprox(result,LinearAlgebra.I(2)) \n",
    "printstyled(\"\"\"QQ^{T} == I  $result \\n\"\"\",color=:cyan)\n",
    "\n",
    "\n",
    "result = Q2'Q2\n",
    "result=isapprox(result,LinearAlgebra.I(3))\n",
    "printstyled(\"\"\"Q2^{T}Q2 == I  $result \\n\"\"\",color=:blue)\n",
    "\n",
    "result = Q2*Q2'\n",
    "result = isapprox(result,LinearAlgebra.I(3)) \n",
    "printstyled(\"\"\"Q2Q^{T} == I  $result \\n\"\"\",color=:cyan)\n",
    "\n",
    "xs = Q[1,:]\n",
    "ys = Q[:,1]\n",
    "xst = Q2[1,:]\n",
    "yst = Q2[:,1]\n",
    "f = GLMakie.Figure(size=(600,400))\n",
    "ax = GLMakie.Axis(f[1,1],\n",
    "    title = \"Q^{T}Q\",)\n",
    "(GLMakie.heatmap!(ys.*xs,xs.*ys,[1,1]))\n",
    "\n",
    "f\n",
    "end\n"
   ]
  },
  {
   "cell_type": "markdown",
   "id": "e582be48-1258-4879-8f9e-ecf018d5393d",
   "metadata": {},
   "source": [
    "**According to previous code examples**: $\\implies QQ^{T} == I$\n",
    "\n",
    "**A famous orthogonal matrix** which is a **pure rotation** matrix\n",
    "\n",
    "$$T = \\begin{bmatrix} \n",
    "\\cos(\\theta) & \\sin(\\theta) \\\\ \n",
    "-\\sin(\\theta) & \\cos(\\theta) \n",
    "\\end{bmatrix}\n",
    "$$"
   ]
  },
  {
   "cell_type": "code",
   "execution_count": 41,
   "id": "66c0a4e4-be60-421d-8301-5aabe8c12c90",
   "metadata": {},
   "outputs": [
    {
     "name": "stdout",
     "output_type": "stream",
     "text": [
      "\u001b[31mT'T == I true \u001b[39m\n"
     ]
    }
   ],
   "source": [
    "begin\n",
    "T = theta -> [cos(theta) sin(theta);-sin(theta) cos(theta)]\n",
    "result = T(π)*T(π)'\n",
    "result = isapprox(result,LinearAlgebra.I(2))\n",
    "printstyled(\"T'T == I $result \\n\",color=:red)\n",
    "end"
   ]
  },
  {
   "cell_type": "markdown",
   "id": "b1570230-e2d3-43f6-b66a-99b31a7b4471",
   "metadata": {},
   "source": [
    "##### Gram-shmidt (GS or G-S) \n",
    "\n",
    "It is a method to transform **nonorthogonal matrix** into an **orthogonal matrix**\n",
    "\n",
    "A matrix $V$ comprising columns $v_{1}$ through $v_{n}$ is transformed into an **orthogonal matrix** $Q$ with columns $q_{k}$\n",
    "\n",
    "The GS Algorithm:\n",
    "\n",
    "For all column vectors in $V$ starting from the first(leftmost) and moving systematically to the last (rightmost): \n",
    "\n",
    "1) Orthogonalize $v_{k}$ to all previous columns in matrix $Q$ using orthogonal vector decomposition.\n",
    "   - Compute the component of $v_{k}$ that is perpendicular to $q_{k-1},q_{k-2},$ and so on to $q_{1}$, the orthogonalized vector is called $v^{*}_{k}$\n",
    "\n",
    "2) Normalized $v^{*}_{k}$ to unit length. This is now $q_{k}$, the $k$th columns in matrix $Q$"
   ]
  },
  {
   "cell_type": "markdown",
   "id": "dad82b40-9807-4b42-99e4-1a3178d76efa",
   "metadata": {},
   "source": [
    "### QR Decomposition \n",
    "\n",
    "$$A\\,=\\,QR$$\n",
    "$$Q^{T}A\\,=\\,Q^{T}QR$$\n",
    "$$Q^{T}A\\,=\\,R$$"
   ]
  },
  {
   "cell_type": "code",
   "execution_count": 42,
   "id": "c5caac3b-7b12-4286-bafa-1dbe86c64e4c",
   "metadata": {},
   "outputs": [
    {
     "name": "stdout",
     "output_type": "stream",
     "text": [
      "Example of QR Decomposition\n"
     ]
    },
    {
     "data": {
      "text/plain": [
       "LinearAlgebra.QRCompactWY{Float64, Matrix{Float64}, Matrix{Float64}}\n",
       "Q factor: 10×10 LinearAlgebra.QRCompactWYQ{Float64, Matrix{Float64}, Matrix{Float64}}\n",
       "R factor:\n",
       "10×10 Matrix{Float64}:\n",
       " 2.18407  -0.926856   0.27756   …  -1.14426     0.0531615  -1.31874\n",
       " 0.0      -3.22188   -0.225354     -0.433327    0.171315    0.857577\n",
       " 0.0       0.0        1.42066      -1.41081     0.241224   -1.24662\n",
       " 0.0       0.0        0.0          -0.280125   -0.957083    0.11645\n",
       " 0.0       0.0        0.0           0.0739866  -0.252902   -0.393333\n",
       " 0.0       0.0        0.0       …   0.252453    0.0469344  -1.58223\n",
       " 0.0       0.0        0.0           0.684577   -1.2286     -0.927872\n",
       " 0.0       0.0        0.0           1.34889    -1.3792     -0.458543\n",
       " 0.0       0.0        0.0           0.0        -0.931433   -2.08014\n",
       " 0.0       0.0        0.0           0.0         0.0         0.957853"
      ]
     },
     "execution_count": 42,
     "metadata": {},
     "output_type": "execute_result"
    }
   ],
   "source": [
    "begin \n",
    "println(\"Example of QR Decomposition\")\n",
    "A = randn(10,10)\n",
    "(Q,R) = LinearAlgebra.qr(A)\n",
    "end"
   ]
  },
  {
   "cell_type": "markdown",
   "id": "e9bea9d2-31d2-496e-aaf7-078602268d44",
   "metadata": {},
   "source": [
    "**notice that R is upper-triangular matrix**"
   ]
  },
  {
   "cell_type": "code",
   "execution_count": 43,
   "id": "90c41624-fb2f-445d-a469-c720267fe2d4",
   "metadata": {},
   "outputs": [
    {
     "data": {
      "image/png": "[encoded data removed]",
      "text/html": [
       "<img width=800 height=200 style='object-fit: contain; height: auto;' src=\"data:image/png;base64, iVBORw0KGgoAAAANSUhEUgAAAyAAAADICAIAAACf7RJNAAAABGdBTUEAALGPC/xhBQAAAAFzUkdCAK7OHOkAAAAgY0hSTQAAeiYAAICEAAD6AAAAgOgAAHUwAADqYAAAOpgAABdwnLpRPAAAIABJREFUeAHswQ10VVedP/zvb+99zrk3yQ0hJOQFKLSCBbW1FmrRVnopFOgqYhVm2WH+akGGLivD2DdmycJG/uDCVHFArLOcsbOYGanzwFhqEYWobTqdSbBUBGYotaTaAKVpCG/JTe49L3vvh7nz3K7wyDkJ5JIXuj8fobWGYRiGYRiGkT8ChmEYhmEYRl4JGIZhGIZhGHklYBiGYRiGYeSVgGEYhmEYhpFXAoZhGIZhGEZeCRiGYRiGYRh5JWAYhmEYhmHklYBhGIZhGIaRVwKGYRiGYRhGXgkYhmEYhmEYeSVgGIZhGIZh5JWAYRiGYRiGkVcChmEYhmEYRl4JGIZhGIZhGHklYBiGYRiGYeSVgGEYhmEYhpFXAoZhGIZhGEZeCRiRjh49evDgQQBjx4694YYbYAxlHR0dL774Ii5UUVExZcoUIoIxiO3atSsIAgCzZ8+2LAvhWlpaXnzxxSNHjhQUFNx888233XabZVnI+tnPfoYLxWKxW2+9NZFIwOgvR48e/fd///c333wzkUhMmTJl6tSpnHN043keANu2kbVr164gCHAxc+fOxYWCIGhsbPztb3+bSqWuu+66O+64Y9SoUTAGn4MHDzY2Np48eXLkyJG33XbbBz/4QVx1BIxIO3bsWLZsGYC1a9fecMMNMIYyz/O++MUvtra2opt4PP7Xf/3X69atgzFYKaU2bty4a9eueDz+0ksvTZ48GSGeeeaZr371q6+//jqyhBD33HPPpk2bxowZA+Bf/uVftm7dim6IKJlMbtmypaqqCsaVt3nz5pqamqNHjyLLtu358+d/97vfLSsrQ1ZXV9fdd9+dSqWeeOKJGTNmAHjhhReeeOIJ/Im5WeimpaVl+fLlzz77rO/7yLruuuvWrl3753/+5zAGDd/3a2pqnnzyyfb2dmSVlJR85StfWbVqFeccVxEBI5yU8plnnkHWjh07Hn30UcdxYAxxjuOsWbMGWc3NzX/3d3/35JNPfv7zn580aRKMQem11177z//8T8ZYOp3euXPn5MmTcTGNjY0PPPDAqVOn7r///nvuuefMmTP/8A//8NOf/tR13WeeeSYejyPrq1/96vDhwwFkMpkf/vCHL7zwwrZt25YvXw7jCvvFL37xV3/1V67rfvnLX54xY8Zbb731gx/84Mc//rHW+kc/+hHnHEBjY+PLL79cVFT09NNPz5gxA8B11133xBNPAOjs7Fy9evXdd989ffp0/Anf95ctW/aTn/zkpptueuCBB0aOHLlr165//Md//NKXvlRWVnbXXXfBGBy+9a1vrVu3rqKiYsWKFR/84Af379//5JNPrl69uqCg4LHHHsNVRMAId+jQoZdffvnGG28EsD/r1ltvhTH0zZs37/rrrwfQ1dX1y1/+8siRI2fOnIExWP385z/v6Oh49NFHN2zYsGPHjhUrVsRiMfyJDRs2tLW1LVu2bOPGjYwxADNmzJg9e/bu3bt//vOfz58/H1llZWUPP/wwstra2r773e82NzfDuMKklN/5zndSqVRNTc3Xv/51ZE2bNm327Nk/+clPli5dOn36dAD/9m//NmbMmHvuuWfr1q1vvPHG+973vgceeABZP/jBDwBwzh977DH8ieeff/7ZZ5+95pprfvzjH0+cOBHApz/96ZKSkm9961sbN26cMWMGYwzGQDt+/Pj3v/99y7L+/u//ft68eQDuvffeSZMmLVy48Mknn/zc5z5XWVmJq4WAEe5nP/tZKpWaNWsWER08eHDHjh233norjKtCEARa63feeSedTg8fPry8vBzGoOT7/vbt24UQ99xzT11d3YEDB/bt2/fxj38cFzp16lRjY6Nt21/4whcYY8i67rrrPv3pT3/rW9/61a9+NX/+fOQEQQAgnU6fOXMGwIQJE2BcYceOHfvtb387bNiwv/iLv0DOjTfeOGfOnM2bN7/wwgvTp08/evToL37xi0996lN/9md/9sMf/nDHjh1f+cpX0Du//vWvpZRz586dOHEisojo85///Pe///2XX3757bffHjVqFIyB9tvf/vatt9665ZZb5syZg5xPfvKTH/rQhw4ePLh///45c+bgaiFghHBd97nnnhNCzJ07F8Df/u3f7ty5c+XKlQUFBTCGMs/zPvvZzyLr1KlTWuuampoJEybAGJR+97vf7du3b9KkSVOmTJk1a9bBgwd/+tOffvzjH/d9/9y5c8hpb28/ffp0UVHRmDFj0M31118P4OjRo8j5p3/6p3/+538GkE6njx8//rnPfW7hwoUwrrAzZ860t7ePHj26qqoK3UyYMAFAc3MzgN27d586dWrBggW33HLLJz7xiW3bti1ZsqSoqAi9cPToUQATJkxAN6NHjx42bFhbW9u5c+dGjRoFY6C9/fbbAEaNGmXbNnIKCgqqq6sPHjx48uRJXEUEjBD79u373e9+N2nSpJtvvlkpNWnSpEOHDu3du/eOO+6AMZRprc+dO4ess2fPlpaW2rYNY7B67rnnMpnMrFmzHMeZO3fuhg0bdu/e/bWvfe3EiRMPPPBAEAQAioqK1q1bZ1mWUsp1XWS5ruv7fiaTAVBQUICcc+fOEREA13WVUowxx3FgXGGccyGElNLzPGR1dHQ4juO6LoDCwkLP87Zu3TplypRbbrnFsqz77rtv2bJlL7300t13341eKCgoANDZ2Ymc3//+96WlpVprIQTnHMYg4DgOgEwmg5w333xzzJgxUkoAlmXhKiJghPjpT3/qeV5HR8dtt90GoLOz0/f9HTt23HHHHTCGMsdxfvGLX4wePRrA7t27FyxYsHnz5r/8y7/knMMYZDo7O3fu3AmgLgsAY+zQoUN79+4dNWrUyZMnOzo6AIwbN668vHzs2LEHDhx45ZVXrrnmmiAI/uZv/ubMmTNKKQAf/vCHkbN8+fKlS5cCOHny5J133vmv//qvDz300Ic//GEYV9KoUaOqqqqOHz9+8ODBZDKZTqeXLVtWUlJy5MgRADfddJNS6jvf+Q4RxWIxAPPmzfvIRz7CGEPv3HjjjQD27NmjlGKMPf/881/60pe+8Y1vtLa2jh8/vqqqCsYg8P73v18I8dprr7W0tFRWVr755puf/exnv/jFL7722muO40yYMAFXEQHjYjo6On72s58REWOss7MTWUS0a9eumpqaRCIBYygjoqKiIgBjxoxhjJ06dcp13YKCAhiDzMsvv/zf//3f5eXlnZ2dyBo9evQf/vCHHTt2PP744z/60Y+QU1ZWNn/+/AMHDtTW1k6cOPF973vfsGHDnnzySa11aWnp3Llz0U1RUREA27YLCgo8zzt79iyMK2zEiBGf/OQnN23a9I1vfGPs2LEjR44sKSn53ve+p7UePXr0zJkzY7HYDTfcgJySLPTa3XffXVtbu2vXrs2bN3/uc5+Lx+NKqS984QtSyk996lPFxcUwBoHJkyd/7GMfe+mll775zW+uXr2aMTZs2LAvf/nLQRDMmDHjhhtuwFVEwLiYxsbGw4cP33jjjS+88ILjOAAymcwnPvGJw4cP/+Y3v5k5cyaMq4hSCsagtH379iAIFi1aVFNTg6w9e/bMmjVr165dX//612+66SZ08+Uvf/mll1765S9/OWPGjBtvvLGzs1NrLaW85ZZbKisrEUJrDaNfrFix4uWXX/7Vr351xx13fOhDHzp9+rRSCsDHP/7x4cOHo2+uv/76r33ta4888sjSpUt/+MMfFhcXp9Pprq6ugoKCj33sYzAGh1gstmbNmoULF27cuPHXv/71Nddc89ZbbwVBACCZTAohcBURMC7mmWeeKSsrmz179vDhw5FVUFBw1113tbW1PfvsszNnzoQxNDmOU1paipzi4uLKyspMJrN79+5Pf/rTMAaTM2fOPP/88xUVFXPnzi0oKEDWLbfcMmnSpJMnTzY2Ns6ePRvdlJaWbtmyZf369du3b29sbBRCfPSjH507d+7//b//9xvf+MamTZsAVFRUIEcIMWrUqFOnTu3ateuOO+6AcYWNHj1627ZtTzzxxM9//vOXXnrJcZw77rjjtttuW79+/YQJE9auXYuejBw5EuEefPDBioqK733ve//1X//lum55efmyZcsaGxtXrlz5wQ9+cMKECTAGgTvuuOOZZ5759re/3dDQ8Mc//rG4uPgzn/mMZVnf/va3P/CBD3zmM5/B1ULAuJhvZAkh0M3Xv/71r33tazCGrBEjRvzud78DMGzYMGRNnDjx4MGDADjnMAaZRCLx4osvAigtLUVOIpGor68HwDnHnygvL//mN7+5cuXKU6dO2bZdXl5u23ZlZeV9990H4Pvf/z4AxhiyGGM//vGPYfSjMWPGbNq0ac2aNadPn3Ycp6KignN+zTXXLF68GD357Gc/u2DBAkSaP3/+pz71qdbWVtd1S0pKhg8f/tprr505c2bChAkwBo1bb71127Ztra2tqVSqqKiovLy8o6Pj2Wef/cxnPoOriIBxMSNGjMCfKCkpgTHEjRgxAhcaMWIEjEFJCDFixAj8iREjRiBScRZyFi9ejKwRI0bgQiNGjIDR70qykPPAAw+gF0pKStALQojq6mrkTJw4EcagNDILWcXFxZ///OdxdREwDMMwDMMw8krAMAzDMAzDyCsBwzAMwzAMI68EDMMwDMMwjLwSGCDJZBJAMplEr2mtARAR+kBrDYCI0AdaawBEhMultUYWEeFyaa0BEBFy6uvrAdTX12OAJJNJAMlkEr2mtQZAROgDrTUAIkIfaK0BEBEul9YaWUSEy6W1BkBEyKmvrwdQX1+PAZJMJgEkk0n0mtYaABGhD7TWAIgIfaC1BkBE6AOtNQAiQh9orQEQEXLq6+sB1NfXYyAkk0kAyWQSvaa1BkBE6AOtNQAiQh9orQEQEfpAaw2AiNAHWmsARISc+vp6APX19RgIyWQSQDKZRK9prQEQEfpAaw2AiNAHWmsARIQ+0FoDICL0gdYaABEhp76+HkB9fT16TWDg7HvteNO5PSCOiyFC/FALImmgfWo1tEYYrUd88IxWGuGI0TtvlgCEUFrFAWiEI0dBa0Qgcv4oQIQwWs354qnAlb6rALipADmdZzxkEcGVAiGU1M2drdcWfhAD6pWm469lfkOM46K0umGhlK4MXAmg46125CRGFQMQDucOP/ivHMQQRmt5rQetEYEo6BAgQrjCYwAIobRbwtADLQsRhTDssCRE0Vrf8FDQdSrjpTwAfqePbpTUx1MtE4omYUAdOHD06LH/JGIIRfTGW4RQGjg7axyURhSdGJeC1ghDlPpDEYgQSXNE0lZ1BlojHBHx3zkAIZSq+D8x5UnpBQCCTg85/rk0/hfhXFcMhIvSUnWeevOWEeMwcA6++OrxF9sIBKPXNPRfPPI2LqTRjZeG/VEMnFeajr+W+Q0xjjBa3bBQSlcGrsycSftdPrKsAis2PC4czh1+8F85iCGC1vJaD1ojDFHQIUCESIXHABBCabeEoQdaFiIKYdhhSYiitb7hoaDrVMZLeQD8Th/dKKmPp1omFE3CpRC4XI8++ui0adPmzZuHnJ07d27fvt3zvDlz5tx3332MMYRLJpNN5/YUV72fuADAuAWAWzHk2AXFw44cIGIIp7U8MfVmLQOE0DIY/5m3lC8Rjlk8Uz+KOEc4v1RDK4TR4MUSWiMccVb0oiBiCKF8b8LHG6SvEI6IzvlO5qyHHDflAwhcCSBwJYBkeRJ98Oijj06bNm3evHnI2blz5/bt2z3PmzNnzn333ccYQ7hkMvla5jeJ0e9nQgAgYQHgdgw5TNjVtzYpXyEcs9hbhycwIRBCK+UnM1oqRGDkvh0DIQxxPqJRESOE0FqnxgpohQgaXgW0UghBnI/uShMxhJPSGzP1Dekr5PidPgA35XkpX7oSQLIiiT549NFHp02bNm/ePOTs3Llz+/btnufNmTPnvvvuY4whXDKZPHrsP4eXjmdMAGDMAiBEDDmWVcAYxx/2EgghFBT7xDQtA4TTUlVPa1OBRAgmeMsLZcQZIkmHoDXCaFX0kQ4dKIQji1tdccY4QigZlN5yUvkS4Yizt04VgSjo6EKO6nQBKM/XfgAgOeEOXK5HH3102rRp8+bNQ87OnTu3b9/ued6cOXPuu+8+xhjCJZPJ4y+2lWIkI87AAQgI5Fhw8J7nw0VOgACAglRaPv6IR4Qwq799ioqSuFyPPvrotGnT5s2bh5ydO3du377d87w5c+bcd999jDGESyaTr2V+kxj9fiYEABIWAG7HkCNihSrwq29tUr5CCGaxtw5PYEIgnFbKT2a0VAjDyH07BkIE4nxEoyJGCKG1To0V0AoRNLwKaKUQgjgf3ZUmYggnpTdm6hvSV8jxO30AbsrzUr50JYBkRRKXQuDSaa1fffXV7du3T5s2DTnbtm1btmzZkiVL4vH4ihUrWlpaHn74YUQjTlwUlo7GxVCggnHlTvMZhOv8QBn5CpZAiGHXdqmAMQsRlGSlY7yzrQmEIy4BhnDENSKRhBzFrHcEQkz40DuBz4WFaIJY0cgYcopGxpDzzuGzjBMul9b61Vdf3b59+7Rp05Czbdu2ZcuWLVmyJB6Pr1ixoqWl5eGHH0YkYpwJES8fjYsZMf608hmzEEH6bOQHuk69UYoQqtqHYiQIkcgSCEcSXpWInSSEIIAYAQzRmCLGEIIFSF8bKzqqEG7ER9uVy7iDd/ESB0CsxAFw8rXTjBMul9b61Vdf3b59+7Rp05Czbdu2ZcuWLVmyJB6Pr1ixoqWl5eGHH0YkIsaYSCRGIYyUrLqCTrQhRNfkKuZK5QiEK6jq0oqYxRFCSyocE6TfKUAk4oggSl2tGVmECD7heqI3BELEP+Bqn5jFEYlsAcAqTeBdpQlkpd94mzjDZdFav/rqq9u3b582bRpytm3btmzZsiVLlsTj8RUrVrS0tDz88MOIRCBGPIESGBfjII4cB/+fOX9xOtPJ4kUK+aa1fvXVV7dv3z5t2jTkbNu2bdmyZUuWLInH4ytWrGhpaXn44YcRiRhnQsTLRyPEyOvblc+YhTDSZyM/0HXqjVKEU9U+FCNBCEeWQCSS8KpE7CQhBAHECGCIxhQxhhAsQPraWNFRhXAjPtquXMYdvIuXOABiJQ6Ak6+dZpxwiQQu0YEDB5YvX37kyJGWlhbk+L6/YcOGpUuXrlmzBkBlZWVtbe39999fWlqKPmBpH0a/OHDgwPLly48cOdLS0oIc3/c3bNiwdOnSNWvWAKisrKytrb3//vtLS0txVWAerm4HDhxYvnz5kSNHWlpakOP7/oYNG5YuXbpmzRoAlZWVtbW1999/f2lpKfoo48HoNWZbuCwHDhxYvnz5kSNHWlpakOP7/oYNG5YuXbpmzRoAlZWVtbW1999/f2lpKSIxcBiDwIEDB5YvX37kyJGWlhbk+L6/YcOGpUuXrlmzBkBlZWVtbe39999fWlqKqwXzcLUSuESVlZXr16/XWi9YsAA5x44dO3z4cG1tLbKmT5++cuXK119/ferUqYjEuIVwrMtHJOftTkSSHkcvyIDhyuPtHOFOvj0cfVNcVYDLVVlZuX79eq31ggULkHPs2LHDhw/X1tYia/r06StXrnz99denTp2KSCQshAg8jl6QLkc4Cgj5wF3Clcc8jUgyLRBOOByXq7Kycv369VrrBQsWIOfYsWOHDx+ura1F1vTp01euXPn6669PnToVkRizEIkyHsI5ze3oid9hoydeu42+0QGhNzxCuKDFwQCprKxcv3691nrBggXIOXbs2OHDh2tra5E1ffr0lStXvv7661OnToWRVx1nOa6AysrK9evXa60XLFiAnGPHjh0+fLi2thZZ06dPX7ly5euvvz516lREImEhXOBx9ES6HJEoIOQDdwlXHvM0Ism0QDjhcFw6gUtUkZVKpdBNW1ubUqqqqgpZZWVl8Xi8paUF3dTV1aGbpqYmGFeA1hqXriIrlUqhm7a2NqVUVVUVssrKyuLxeEtLC7qpq6tDN01NTTCuAK01Ll1FViqVQjdtbW1KqaqqKmSVlZXF4/GWlhZ0U1dXh26amppg5BsrdABorXGJKrJSqRS6aWtrU0pVVVUhq6ysLB6Pt7S0oJu6ujp009TUBEBAwMg3rTUuUUVWKpVCN21tbUqpqqoqZJWVlcXj8ZaWFnRTV1eHbpqammBcGVprXAqBfJBSaq2FEMhijGmtPc9DNw0NDY2NjchxXRco5FYM4VjGRyTW6SNSkBHohcATuPLIQ4R0p42+sQsF8kpKqbUWQiCLMaa19jwP3TQ0NDQ2NiLHdV2giNsxhPA7bfSC12UjHLmEfGA++oHIIJp/zkI4u8hCXkkptdZCCGQxxrTWnuehm4aGhsbGRuS4rgs4QsQQzfURjnd46In0OHqiPI6+0T5DL1AXQzjdyTCYSCm11kIIZDHGtNae56GbhoaGxsZG5LiuC+PSnTxhob9IKbXWQghkMca01p7noZuGhobGxkbkuK4LFHE7hnB+p42eeF02IpFLyAfmox+IDKL55yyEs4ssXDqBfLBtm4h830dWEAQAHMdBNzU1Nehm9erVTc/tRSQVs3jKhXEpiAh5Yts2Efm+j6wgCAA4joNuampq0M3q1at/X/cKhghlgUsMCUSEPLFtm4h830dWEAQAHMdBNzU1Nehm9erV//KjRvTIsdAlYVwKIkI+2LZNRL7vIysIAgCO46CbmpoadLN69eotL/4ExhVARMgH27aJyPd9ZAVBAMBxHHRTU1ODblavXv37ulcwdCgLXGJIICJcCoF8KC8vF0IcP358/PjxAFpbWzOZTHV1NbohIuSbKrQwdGgblEaEdKeTKOlCH9iFAvlTXl4uhDh+/Pj48eMBtLa2ZjKZ6upqdENEMIaU8vJyIcTx48fHjx8PoLW1NZPJVFdXoxsiQr7JhI1ekB4X8QAhlMcxaOhOTiUBBofy8nIhxPHjx8ePHw+gtbU1k8lUV1ejGyKCMaSUl5cLIY4fPz5+/HgAra2tmUymuroa3RARjEFJIB9Gjx49efLkHTt2JJNJAHV1dVVVVRMnTkTfqAKLp1wYA2T06NGTJ0/esWNHMpkEUFdXV1VVNXHiRFwtpKN5hvAeM3r06MmTJ+/YsSOZTAKoq6urqqqaOHEi+kzHbOrKwOgdkShA/owePXry5Mk7duxIJpMA6urqqqqqJk6ciJ5YcGAMVqNHj548efKOHTuSySSAurq6qqqqiRMn4ioiHc0zhKuRQD4wxh577LFFixal02nLsrZu3bp+/fpEIoGeWLFChFNxC5HcqkJE8lMWesFNW7jyZLFkaYFwJ98enijpQh8UVxXgNPKFMfbYY48tWrQonU5blrV169b169cnEgn0RMQKESLT7qAX3A4H4SjNkA/KRj8QKY1I7kkH4WIlMeQVY+yxxx5btGhROp22LGvr1q3r169PJBLoiWUVIFrMRjh3bDF6we+wRTxACO+cjT7TLkcvsHaGSEGLY5cEGBwYY4899tiiRYvS6bRlWVu3bl2/fn0ikYCRb8eaYugvjLHHHnts0aJF6XTasqytW7euX78+kUigJyJWiHCZdgc9cTscRKI0Qz4oG/1ApDQiuScdhIuVxHDpBC6LEGLjxo0VFRXImTlz5nPPPbd7924p5bZt226//Xb0TGulgpESAEszAMxFN0xb3BszHIA43QWAXB+AdiwAQWkBAOUwLRgiELQkCESQAdOK0BMijRBEGj3RHFoggtYUpMWbh0ZZMR9AQVEGOYnhnciRYFoTLkZYEA5HHwghNm7cWFFRgZyZM2c+99xzu3fvllJu27bt9ttvR4/0eUoNlwAoQ8jRMQ3AcpUMWJtXAKDYcQFYXALwJQfQ7joAhvMMtwNZhv8REM7LMLyriyGmyCdNiCIRTXNYGa0FQhEAQt9QABkjN04ArA4NgPsagLQIgJ8gAEUpKTP8tIwDiAsfgCMC5AgLxAh9IITYuHFjRUUFcmbOnPncc8/t3r1bSrlt27bbb78dPdEaWquOCRCdECmcx9PojoEHRRaNG0lpl7o8AJT2dNwGoAtsHXdUjGvBEE1BBSzVEeNCCSEBcK6kZACCgMuAMcm0IvQG0whBjoQkMI1w5JMGCKG0JN5O8mABxRQASkjk0IgA/0sTzlOEiyHBQITLJYTYuHFjRUUFcmbOnPncc8/t3r1bSrlt27bbb78dxqUTQlsxjXDVY90TzU71WBcXEytU6AMhxMaNGysqKpAzc+bM5557bvfu3VLKbdu23X777eiRPk8FlQFziTIEgDzStgagY1o5uqBdy4C1eQWOCBwuAVhc+pIDcCV3AzGcZ7gdyDL8j4BwXobhXV0M58UU+aQJoSR6pDmsjNYCoQgAoW8ogIyRGycAVocGwH0NQFoEwE8QgKLOQPmsHQ4AhwcAbC6RwwXACJdI4LLEYrF7770XF/pIFnotfb08MzcgKZHDXALA0gRAnGPMr6BAIZwWjLTqqiCEomNdw9CFaFaxF7TFEIKYLrLTukgCYEwD4EIhRwipNaU8Gz3pSjjpiQqh6PBvrgNphGNMt40Sw4tTyInHPAC2FQB440jxucb/mPgxXLZYLHbvvffiQh/JQq951/pdSY8U4WLSHPtOj+KkEO6PmolbuqAIYVxibxRpnxCBa10tEaljqodwrIs5h+NQiBZvY4h0ehKDRoQzI/Wb74wXTCHHEQGAuPABtJ622t9pnVWKyxaLxe69915c6CNZ6LUzk7m6x2YBoRuexnkiBdEJ5umi4WMRSIQQgsfPoGskImhQmxdnZzRCKEWFLnrAtKjMqJjGeVwDIEshhzlKK5w9WYSelBRzRIr9RwKECGQr/4YYFUjkkKVwHtcAgnegTji4FpcnFovde++9uNBHsmBcLiH0opVvFxVLAIkSCaC82kfOmPEZACeanfVfGcMtjZzyah9AokQC+H+26NOw/08NLk8sFrv33ntxoY9kode8a/2upEcY3I1WAAAgAElEQVSKEMLl2Hd6FCeFEH/UTNzSBUWI4BJ7o0j7hDBc62qJnnRM9RCOdTHncBwK0eJtDJFOT2LQiHCOi1PtYzgp5NhcAnB4AOD0OXHyzFsoxSURGEBaa6kgOHKk0ABkoQbAO0kLAAzhNIcWhHDEtFZETCOCIq0IEQhMaKfIRQiCRj4EPkdPtMbpcwm86xzeRVYAYhhwWmupIDjCSc0QjQCuEcaBDgiKEEERIBFJC0SgDNOkCYS+0Qw9kASFAAw5gWcD6PRsACQkCANPKy2lsgS6URbO84txXuFRrgUIHCE0g+LoDaUIfUGA0Hy4hxDEkB8+IVJniUUSuosjR4Mjh1gAEIzBxIrpomI5Z+FphKse655odtIphpzX9+NdjM6SJgwsrbVUEByRpGaIQADXiOBABwRFCKMIkOiJFohAGaZJEwh9oxl6wDUkSc6Qkw4YgHRgASAuwQiXSMA4LyBEIq5gGFeIJBj5xTUMYyAwcBhGlsBgpW30huIwjCtBCw2j15Sl0RPN8Z7CAhhDTqJEwhg0tNAYsgSGuCCOaMpjPCYRSaYsRLKKPRjvMSqu0S9YJ5N4TwjihH5BwwIMAiKtYVx1jjXFEE5AwMgfFdcYsgQGKxnX6AVlwXiv0RmGK0/bCkavyTh6pATeU7inYQw15dU+jF7QGYYrT9sKQ5aAYRiGYRiGkVcChmEYhmEYRl4JDGXKQo90wACJcLJDoCd+u20Pd2G8x2hbU5pwhalChfcAZaHf6HOCSn0MNGkTjKvOyRMWwllwYOSVtjWlCUOQwGAlixR6EsRhvBd5DP1CxxXSDEYv+EUakYI44T0miBOMoWbM+AyM3vAY+oWOK6QZhiCBoUxx9EhLQjTJ0BMtGYz3Hi3QH7jGe4Dm6D+SMAgoAePq03GWw+hHWmCIEjCMoUZLgmEYhjFwtCQYkQQGEBFxBol3UUAAyGMAiJQmTSCE0xyaI5rlBAgI/6uL4V0ZhvN8xgPyFSGclhRz0sggFEH8wdGWhqUB6JhCjipSyCKP0BNuSUTSmgCGMIyBMPCIiDNIXBxDr0iCRhgeCxSuPI5YCkooRCAIpYlphNCK1AgFSQCoiwGggABooQHoAoXzuAZhsCMizkmiO+YTAOYScyELtOagAGEUh+boEQUA4TyeIeQwjwBQABagZ5JEzFUuIQRpHX+btIASOM8v1six2gkAC0ABekSWAiFC4Tl1jnGEIQaC0c+E0FZMI0T1WPdEs1M91gVwrCmGnJMnLAAdZzmAVDv3M4TBjIg4g0Qohp5JgkYEHgsUrjyOWApKKEQgCKWJaYRQkgCOSETQGoQQjHDpBAaOOCHsV2yUMgDkEQDyCe9S1FWBHgnuBxUBwkjQviJkGCJoxNCDxLOK0gijC+B+OAahEUFDjoRzmhCCCTVmyglhSxELAJSMbkfO2ePFAIKMCDyu9o1SkuFitJTpMxoDTRyz7EZbVzNyiTwCQD5pSwPQtlYFKhPj6MmwP4A8Qhih2ydKzRHNLvYQKR7zEGnUjFYwRGBCTYs32XYA4OyZIuSkUnEAbsZ2XauOroVCFAIIg1z8KBvWwPwqzjwwlwAwn9CdxrlxiOYXK/Sk+DXBXUIYDc3Ro5F/67KMRggVp1M3Mc0RRUMLRCDSieRpiikWlwB4cYAcUeYjK2izOuqu1ZJwMUrKzjMaRj8SQi9a+XZRsQSQKJEAyqt95IwZnznR7Kz/ypgTzQ7C+RkKAsIgJo5ZdqOtqxkA1sEAkE8AtKUBqITSXGdiHJGG/QHkESII3T5Rao4IdrGHnsRjHiKNmtEKhghMqGnxJtsOAJw9U4ScVCoOwM3YrmvVvTNJa0IkGVgIcFHaD3yf4xIJ5ImUcuvWrXV1dUqpZDK5cOFCx3HQAyJG1MFxuTTX4BqR/CJtdRKiMUSgQKcTBYVnuxAiU1pAUmsQIjmnEYFI87iseP9J/IkR155BVsvvy4lpSIQgECGvpJRbt26tq6tTSiWTyYULFzqOg2hExBg7KdANSQJAGbB27o5T6Al1MYRzSzT6BbMVelJYlEFWecVZ5JRXnEXWwVOj7OOBB4HBREq5devWuro6pVQymVy4cKHjOIhG/8M5yXCFiS5CJM0RjQLtJuIF57oQwiuNkdQAIZJGFBLaL0fJ+HaE6+qIE9NaEi6GQCBC/kgpt27dWldXp5RKJpMLFy50HAdGN1ZMFxXLOQtPI0T1WPdEs5NOMQwaUsqtW7fW1dUppZLJ5MKFCx3HQTQiYoydFLgQSQLAMwyAO04hEnUxRHJLNPoFsxV6UliUQVZ5xVnklFecRdbBY9dYbdILBC4bES6dQJ6sXbv2qaeeWrx4sW3b69at27dv36ZNmzAIkE8YIoQTIJJwAvSvtWvXPvXUU4sXL7Zte926dfv27du0aROMIW7t2rVPPfXU4sWLbdtet27dvn37Nm3aBCPfuCPRj9auXfvUU08tXrzYtu1169bt27dv06ZNMIa4tWvXPvXUU4sXL7Zte926dfv27du0aROMoUAgH1Kp1JYtWx5//PElS5YAmDRp0oMPPrhq1aqKigpcYVogGksz9Jlz2kM4+5yHq1EqldqyZcvjjz++ZMkSAJMmTXrwwQdXrVpVUVGBAUUBYYiIcR+DTCqV2rJly+OPP75kyRIAkyZNevDBB1etWlVRUYGrBfMVwtnnfOQDtyUGjVQqtWXLlscff3zJkiUAJk2a9OCDD65ataqiogJGN4kSiXDHmmIYTFKp1JYtWx5//PElS5YAmDRp0oMPPrhq1aqKigoMNAoIQ0TM8jEQBPJBaw2Ac44szrnOwpWnYgqRyMNQ4RR6iDR8VDv6kdYaAOccWZxznQWj18piKQwyWmsAnHNkcc51Fq4iIhVgECgY1Yn+orUGwDlHFudcZ8EYyrTWADjnyOKc6ywYl6Is0YGBIJAPiUTikUceqa2tPXr0qG3bTz/99EMPPVRZWYlu6urq0E1TUxPyQVsaVx53JcIxV2LQ0FojTxKJxCOPPFJbW3v06FHbtp9++umHHnqosrIS3dTV1aGbpqYmXHnMw1BRZLnIB6018iSRSDzyyCO1tbVHjx61bfvpp59+6KGHKisr0U1dXR26aWpqwpDCXYlwzJXIB6vQR59prZEPiUTikUceqa2tPXr0qG3bTz/99EMPPVRZWYlu6urq0E1TUxPee8qrfVx5WmvkQyKReOSRR2pra48ePWrb9tNPP/3QQw9VVlaim7q6OnTT1NSEfsE8DBVFTgb5oLXGpRDIE855EASHDh3inGcyGcuycKGGhobGxkbkuK4LFMEY3DjnQRAcOnSIc57JZCzLwoUaGhoaGxuR47ouUARjcOOcB0Fw6NAhznkmk7EsCxdqaGhobGxEjuu6QBGMwY1zHgTBoUOHOOeZTMayLFyooaGhsbEROa7rwhj0OOdBEBw6dIhznslkLMvChRoaGhobG5Hjui5QBGMQEMiHAwcOrFq1avPmzXPmzAHQ0NAwb968m2++OZlMIqempgbdrF69+vALr+DK0zYojT6SDhdBgBDK4Rg0iAh5cuDAgVWrVm3evHnOnDkAGhoa5s2bd/PNNyeTSeTU1NSgm9WrVx9+/hUY+UZEyJMDBw6sWrVq8+bNc+bMAdDQ0DBv3rybb745mUwip6amBt2sXr369d2v4GqhHI5Bg4iQDwcOHFi1atXmzZvnzJkDoKGhYd68eTfffHMymUROTU0Nulm9evWWF38Co5uTJyzkAxEhHw4cOLBq1arNmzfPmTMHQENDw7x5826++eZkMomcmpoadLN69erDz78C4wogIlwKgXxobm5mjE2dOhVZkydPLisrO3LkSDKZRA4RId+0hR6puGJpjqGgYFgGkc68VYx+1NzczBibOnUqsiZPnlxWVnbkyJFkMokcIoIRLuU7GGSam5sZY1OnTkXW5MmTy8rKjhw5kkwmkUNEGMqkw0UQYKB1vVWI/tLc3MwYmzp1KrImT55cVlZ25MiRZDKJHCKCMaQ0NzczxqZOnYqsyZMnl5WVHTlyJJlMIoeIYERKuTEMBIF8qK6u9jxv7969d911F4D9+/e3traOGzcOV5iOKfREWxp95pbaojNACG+YjatRdXW153l79+696667AOzfv7+1tXXcuHEYaNwlDBFtmSIMMtXV1Z7n7d2796677gKwf//+1tbWcePG4SoSFAnRGSCEN8xCPtjFHgaN6upqz/P27t171113Adi/f39ra+u4ceNgXGjM+AzCdZzlGEyqq6s9z9u7d+9dd90FYP/+/a2trePGjcMgwF3CENHWkcBAEMiHKVOmLF68eNGiRXfeeacQor6+fv78+dOnT8cVprnGe0ngCvSjKVOmLF68eNGiRXfeeacQor6+fv78+dOnT4fRaxlpYZCZMmXK4sWLFy1adOeddwoh6uvr58+fP336dFxFlMUwCEiXo79MmTJl8eLFixYtuvPOO4UQ9fX18+fPnz59OoyhbMqUKYsXL160aNGdd94phKivr58/f/706dNhXIqMb2EgCORJbW3t7Nmz9+zZo7VesGDBrFmzhBCIRiDGWaBxMZoBIETSAuDgpBBCcqY5+orBbs8ohwB4ZQw5fjEDoOIkY1JzIkshEnEC4TyW8JHD4hIAsxU7zQOXv5UaBqC0oBNAzPIBZHwLwOmuQgDM49LnpDQuRjOGfKutrZ09e/aePXu01gsWLJg1a5YQAj3QuMI01yD0hs0ChJCaIZKXshEnRHP03taxDg8AjC48A6DIcgGkfAfA8c7hrhSB5hhkamtrZ8+evWfPHq31ggULZs2aJYRAT4hxCjRCaEGIFBRqAMQ0wmlF6JEGKY1wJJV1zlU2IQTP+JoTekQA1+jOUQCo1AfAzzLp8ZOpIgDFBWkAtiUBeD4H0N4VB2B7XPmMlMbFaMaQV7W1tbNnz96zZ4/WesGCBbNmzRJC4L1ECG3FNMJVj3VPNDvVY91jTTHknDxhAeg4ywGk2rmfIQwmtbW1s2fP3rNnj9Z6wYIFs2bNEkKgBxpXnuYahB7ZLEA4qRkieSkbcUI0R7/cOi7G/WI7U2xlABRZbsp3ALT7sXYvlvEtrQl9QQQiXCKBPCGiGVnotZKDZ0c1N6ffVyI6A94lAfC0lHEOQBZwr8QKRhQjEmujyhtOnEXMFoHNJQCLB74UADzJvUAEGXGsdES6NEA40YWyvYz5CKMZji0uknFCCOXQtR1tzFYAmCMB8IIAOWKYj/M0OmRMK0R4/tgERAoYG0HpwmYGgHkKOcpmAPg5N/W2h7wiohlZ6LUggXQVEdMIUfx7hp5kyhGJoIgUInBSnyj5Q0FRJmFliu00gCLLTfkOgHYv3uHHulKx/3jz/Z4UCOc9ldDtBIAqFHJouAJAhRrnxXX9R6tsFiBEoLnShEGGiGZkodcSr58rbz3qjRnG0pJnJADuSulwADLGVZwrwezqBCLYStxzqkvaAJwCDwAXCoAMGAC3ywagJZ35UALheFpf87POoEAAYIEGwFyFHJFWAJSF458s8Ys5whUeR1BAiBSr6oSlabiP82IKF5LAvqNjEEkyVk7pRLMGwHyNHGURAN7udrydQf4Q0YwsvCcJoRetfLuoWAJIlEgA5dU+csaMzwA40eys/8qYE80OQvgZCgLCYEJEM7LQa0EC6SoiphGu+PcMkTLl6AlBESmE4aQ+UfKHgqIMgFGFZwAUWS6AlO8AeKtzOICuVOw/3ny/JwXCeU8ldDsBoAqFHBquAFChxnlxXf/RapsFCBForis8Qg+8DgchtB9Il+ESCQwkIrCiP3SiG9YRALA6AgKXJVpzQjitwRxVZqXQDWc+gJjlAzjpF3OmpGIIJ22QQhQGcdbySyRCMNL+WL+0qBPRXE0MEQLFEIn5YC6sDokLcVcCUCAQBgWlwBgGFGcqZvk3lL6FbkqdLgClTheAA+41iMR8fWZErKTVA6CbOXJ0M0dO+02CedqzBa5+RGDx413oRgQBANEZAHArCjypNSeE0UQxVWilcSFhSwDCTgPoPBsnprUihNACPKOtDg/hiFHstHLLBMIFBYRoXMtCLSoyCCcVQyTmg7vaSklciLs4TxHByB8rpouK5ZyFpxGueqx7otlJpxiuekqBMQwozlTM8m8ofQsXKnW6AJQ6XQAOuNcgEvP1mRGxklYPgG7myNHNHDnnbhLM054tEI5Ioy8Il0HAMK5SMeEjXEz4MK5S0iEYhjHQYsJHpJjwcfUSGKwoUOgzwSXyQdsakThT6BfchdFvuKsRiaU1jCwKFPqMcYVBg4RCnzEXRr9JlEgYVx3uakTiaY1BSWCw4l0B+izueOgXMcuHMchcW3oS4YqdNHrinJaIZLcpGFm8K0CfWU6AfAgKGfqMFUgYV5djTTEY/eja0pOIVOyk0RPntMTQJDCgPJmOiSJcDPMk+syyJHoiutAjGdeIZHGJfiFSGkZ/EZ0akUSHxnuGJ9MxUYQQzJPoiT4nqMxHOC4UItnnFHrBG8bQd7ZCn1mdGkZ/Ka/2YVx1RKdGpII/SgxKAoZhGIZhGEZeCRiGYRiGYRh5JTBYKZujz3yfo1/4kjssgDGY/PF0+fXlbyPEiMIUehIUkn1WI1yQIBhZyuboMxkw9Jk3jCEvPIa4hHEVOXnCgtGP/ni6/PrytxFuRGEKPQkKyT6rMQQJDKhAu0ARLkYWCPRZ2rXRE54h9CRIaETK+JZjBbjyrLMw+o1byu2zCuG8Mob3jEC5QBFCyAKBnuguTvARzncFIolOhZ4EhYR8UF2cxyX6xj6rYPSXMeMzMK46bim3zyqE67qWY1ASGKy0YOizQHL0C6kYjEEmE1joG+kQIqk4wcjSgqHPlGQYNHTAYFxdOs5yGP0oE1joM+kQhiaBAaVUgIHGfBiG0SOlA/SRS+gb7mr0RDoEwzDeM2ScMCgJDBytldLyrk++CaCj3QbQ1hpHzvE3g1MjS2KnEIEIssM668YsJ7BjPgDLCXxXAPAylu8KBFwqRhL/P8zDeVYHAWABSCGKBmlohFKairmrAoYsv8NCTpAWAKTHlc9olAtJCBOgZwpBMSRnAESXRk5QQADsFl9rDH5cKJBGBAIxRkwjjEaPPCmuZaf9jEAI5fFCyyXSCOHC0sWq/SYBIHZMAhAdGkCQIACZMRyAdKAF4T1Aa6W0nP3JZgCHDowAcKothm5i5zo6+TBE0IDH3LcKAIjhHgBmSwDK4wCCMzYAHpBWxHyNC4kuDSDeKpmHHimblCD0kSQ75moPoSShJ6S0X0yKMwCiSyMnKCAAdouvYVwCIbQV0whRPdY90exUj3UBHGuKIefkCQtAx1kOINXO/Qzhqqc1esKFAmmEIRBjxDQiaETzpLiWnfYzAuGUxwstl0gjhAtLOdQ+wQEQaw0AiC4FIChgADIjBQDlSM0JV5TWuHQCA+ezX3x11SNvp7sELuZkS8E9//6FrkpE4qf/aywxjRBKssJOxSTOszpwHvMIFyIJFiiEUwxScq0R4fgLY7QkhFMBG7m9E2lCGFvHb4qhJydu16Q0LkZx++zzFgaaEloWaOIKIUbf1PL/sgc/sHFVeb7gv79zz63/5XJsnBg3iZM0Q6d7xmR7cBI8yQMzQRCWFYvQWxSYSLskiE5r0LqliejIK1IxWhBLxsBmRRKBVkb8kcLCLCPmLSzFYgyk7SHpDMNrGmi6QkhiO8aOHdv1796695yzeUaFnEfutZ0q22Xnfj6aT3C/AOAL5VEQjBn4nqK08ilJAIyMDwVWTgdgW5rMawN/ukoKBmdWVL33j3+jFJxULRv/h1+/+3mmbvWSQQAxfw7AmBkE8M35pQBytu8/Vf4lyyv8FxyXojgphivBfdu/jO8azGU5LjZ8LgDgj59VZ9J6fGi5gguigQoaVHCmBNWczbG8AhD8TgDgOYXJlLKqQ3AVGkZsyBr/SwkHlCd+0k82wVXF/+knG06UH8b1OqZy9m98pBQuRWrB0Q8D8EwP5+qB1rORCgEgWikA1NRZKFh+rdF/yt/+m+X9p/xwZhlk24TFTuoQIUWahLNr/psBzSe4XwDwhfIoCMYMXKAorXxKEiYYGR8KrJwOwLY0mdcG/nSVFAwOrKh67x//Rim4qFo2/g+/fvfzTN3qJYMAYv4cgDEzCOCb80sBGIb/X7I3MEvBmdQJPEdw4/dbmIovYsCBkiofyWOGOErn6NGjr7766sDAwKZNm7Zv3x4OhzENwZCNSzlmLw/p+YzlgyulSAmCs9BZQnFIARJgcEISRpj0EQZnJFRO14NjAg6ySzgJpTSCK8WgGOFSlG1jFhw9evTVV18dGBjYtGnT9u3bw+EwpqQUHHBNihr76qUjcEWWIqYAhGIGfhAzMGHkdCUI7nyjNB71BYckHIwORn3B/I1LkphkKbcALA2PA/hkaJVfs00fx2J09OjRV199dWBgYNOmTdu3bw+Hw5iGYMjGxa5ZkQZwzYr0P/3x56GPrUxehwsFJQjOSCjfKMJ9FoogOaQPbjQFBXcklBnSg+dsOMgt4SSU0giulAYFwqUo24ZCaR09evTVV18dGBjYtGnT9u3bw+EwFgs9oCIVYsv9I3BQV2/2n/Ln0gyLztGjR1999dWBgYFNmzZt3749HA5jSkrBGdekqLGvXjoCZ2QpYgoTQjEDP4gZmDByuhIEF75RGo/6gkMSzkYHo75g/sYlSUyylFsAlobHAXxy6i/83DKhY34JiZnjKJGPPvpo27Ztd99997p16w4dOvTVV18999xz8CxwH3300bZt2+6+++5169YdOnToq6++eu655zDfNF3AU4SPPvpo27Ztd99997p16w4dOvTVV18999xzWESkX+HK89FHH23btu3uu+9et27doUOHvvrqq+eeew6eBe6jjz7atm3b3XffvW7dukOHDn311VfPPfccyoCmC3hccZSCUqq9vX3r1q1PPfUUgIaGhpaWltOnT69YsQKX64Zl/SgbeprylQrOtAxhKr60hDPfuESZUUq1t7dv3br1qaeeAtDQ0NDS0nL69OkVK1agCDoXmBN6SqEIq6PnsBgppdrb27du3frUU08BaGhoaGlpOX369IoVK1CEG+rOohT8520UzaqEC5ZjmAZfWsKZb1yinCil2tvbt27d+tRTTwFoaGhoaWk5ffr0ihUrsFhEKwWcnUkGsOgopdrb27du3frUU08BaGhoaGlpOX369IoVK1AcnQvMPj2lUJyQbmLB4iiFvr6+Tz75pLW1VQhhWdbmzZuPHz8eCoXgWcj6+vo++eST1tZWIYRlWZs3bz5+/HgoFMJ804MWirZkWQpXpL6+vk8++aS1tVUIYVnW5s2bjx8/HgqFsIjYQYUrTF9f3yeffNLa2iqEsCxr8+bNx48fD4VC8CxkfX19n3zySWtrqxDCsqzNmzcfP348FAqhDOhBC0VbsiyFxYujFPr7+y3LOnHixK5du4aHh9euXdva2trQ0IBJEokEJkkmk6tq4aImlMHCQRZhKsxScKblFUpBKYUS6e/vtyzrxIkTu3btGh4eXrt2bWtra0NDAyZJJBKYJJlMYioBXx5zQrMUilCh51A2lFIokf7+fsuyTpw4sWvXruHh4bVr17a2tjY0NGCSRCKBSZLJ5E9r4a4mnEEpaKZCeWCWhDMtL1EKSimUQn9/v2VZJ06c2LVr1/Dw8Nq1a1tbWxsaGjBJIpHAJMlkEgtKTZ2FBUIphVLo7++3LOvEiRO7du0aHh5eu3Zta2trQ0MDJkkkEpgkmUxiGgK+PGafZikUpzKYQdlQSmEmOEohl8tlMpkDBw488sgjFRUVBw8e3L59+7vvvltVVYWC7u7unp4eFJimuaoWnnKWy+UymcyBAwceeeSRioqKgwcPbt++/d13362qqkJBd3d3T08PCkzTRCwETxnL5XKZTObAgQOPPPJIRUXFwYMHt2/f/u6771ZVVaGgu7u7p6cHBaZp/rQWnnKWy+UymcyBAwceeeSRioqKgwcPbt++/d13362qqkJBd3d3T08PCkzThKe85XK5TCZz4MCBRx55pKKi4uDBg9u3b3/33XerqqpQ0N3d3dPTgwLTNBELwVMGOErnySef3LRpE4D6+vr169cfO3bs9ttvR0E8HsckbW1tIv0ZnA1lwygbWg6ohBOyCNMgddKEggPhI5QCEaGknnzyyU2bNgGor69fv379sWPHbr/9dhTE43FM0tbW9tmnR1EehE5cKFyucSuIskFEKKknn3xy06ZNAOrr69evX3/s2LHbb78dBfF4HJO0tbWp9B/gaigTRikIP/GsQnF4jixdwQGZhGmQOtOEhAPhYygFIkLpPPnkk5s2bQJQX1+/fv36Y8eO3X777SiIx+OYpK2t7dUP/wmLxVC/jrJBRCidJ598ctOmTQDq6+vXr19/7Nix22+/HQXxeByTtLW1ffbpUZQHoRMXCosFEWEmOEqhpqYmEoksW7YME6qrq4PBYDqdxiREBM+CUlNTE4lEli1bhgnV1dXBYDCdTmMSIsKcC0TyKFq0KoMrUk1NTSQSWbZsGSZUV1cHg8F0Oo1JiAgLmT4KqwJXlJqamkgksmzZMkyorq4OBoPpdBqTEBE8C0pNTU0kElm2bBkmVFdXB4PBdDqNSYgI8yEQyaNo0aoMFi+OUli1atXq1avffvvtlpYWAEeOHMlms9dddx2KcPy7OpQNlocLLUOYhnyEBQ0BB/kKhjKzatWq1atXv/322y0tLQCOHDmSzWavu+46FCccNDEnrChxQ+FyfZO6CovRqlWrVq9e/fbbb7e0tAA4cuRINpu97rrrUJzj/VejFMwlnGfzKA4zCVBwQDamIx9hQUPCQb6CoZysWrVq9erVb7/9dktLC4AjR45ks9nrrrsOi8jyaw04S41qWHRWrVq1evXqt99+u6WlBcCRI0ey2ex1112HooWDJmafFSVuKBRhaXQcCxZHKQSDwV27drHzC5cAACAASURBVLW0tHR3d4fD4ffee+/hhx9uaGiAZyELBoO7du1qaWnp7u4Oh8Pvvffeww8/3NDQgEXBH8rjihQMBnft2tXS0tLd3R0Oh997772HH364oaEBnoUsGAzu2rWrpaWlu7s7HA6/9957Dz/8cENDAzwLWTAY3LVrV0tLS3d3dzgcfu+99x5++OGGhgYsFv5QHosXR4nce++9K1eu7OzstCyro6Nj8+bNmJ6M5UPBYC4M4GwmCiBl+TKWj9kKzhQjENwpn4KEC7IJF9gCDgia/1xeTxEAEcAFVpShIL+EZEiQ5HClNApkbfjgJDRmj8OHYhCh1O69996VK1d2dnZaltXR0bF582ZMAzEGB7ZgjCkUh5iCgjuloXIszwISDtKnKoWtmQKDRgUKRvNBAFnbByBn67ZkWIzuvffelStXdnZ2WpbV0dGxefNmTE/W1DHJUCoM4OxYdGAskjX82bxOQsEJEaaiGPlSlvTBCQlAAVLCGQPznTNiaRJBAmBXEAryVzEAMmKT8MGV0siftZSP4CAwbo3Dh2IQoaTuvffelStXdnZ2WpbV0dGxefNmLBycKz2g4Kyu3uw/5a+rN88kAygY6tcBpEY1AOlxzTIIi8699967cuXKzs5Oy7I6Ojo2b96MaSDG4MwWjDGF4hBTUHChNFSO5VlAwlnmdEwp+nR0+YrQCIAoNwGkbD+A09kqAFezFECYd4wwcxyls34Cpu25PzR1/K9/8bc3MgD9mSiAoVwYBRnLFzth+s8LACyvfONCyylMEEHKV2jSR9JHmbogXDCk1pkyKAGwDEMBMwgAswiAXWHU/S9/RjhG2TzLmgDIsFRAByBDfhXyQedLT1RKH8GBHaH+TX4Q3FnbUyqk4IDOsaq3dFgEZ5k6ZoUZCJekbJBNKLX1EzBtgSGKfgHGNVyKP2At3ZDmPgFXnCSc2XlNN5Ww4EJjcus9/xoO5iMRA8BVVWkU/OTqEQCZrP++P/3HrNThwJZMKIZFav0ETNsLH244nPyLv/tvcwNjkbOjUQBDqTAmyeX1oGX7RgUA/5gAoJkKgPATADOmKY5MnR9TOXM/Vzr5RhQKeEoBYAYuMK8Sy/+P0yoUAqClTQBkCQBK1wCIiB8XaKzmNJM6wYEI09n/EALB3fkHLBVUcKANU9W/WGQRnGXqmBXRQLgkZSsSKK31E7DQcK4eaD0bqRAAopUCQE2dhYLl1xoA+k/523+zvP+UHw4sg2ybsBitn4BpCwxR9AswrsGBP2At3ZDmPgFnnCRc2XlNN5Ww4ERjcus9/xoO5iMRA8BVVWkU/OTqEUwwTf1/Ov3f5xWDg7zkWJ5FXoe7viBcqdU2pjI+FoQDZdlmjmOGOOYPESPOu89eg0thlvKNiujJPH6EpZSekgCyV/tomVIawQkpGExFJQARkygQMfyA5RhL22xoCJNQWgDQ0gYAqqpEXQXLMzgwoz4mlOQEZ6SpnBEIVGbhQJ3XCVNgNkhCaShvdAEcCMFAKBIRpuTnNv+JfWvDH+Hg3dFrTclNweGZDsaI83/+t5/DAUkV+k74RyxcjGcVAJ6VuaU6CaU0gjOlKZblVo0wagk/qCUUMJNIKO1cGhcjIQFww8L3qitZXsFB9mo/E0pyggtN2YaPxUw4YOc5pkI2SEJpuDSC53t6QEUqxJb7R+Csrt7sP+XPpRk8U6ML4EwIBkKRiODOz23+E/vWhj/C2QeZlVJRXnI4M/M65h0RZo5jXpGuY7ZpCgtCQGEqZCt4SiTGTXhmgmk6PAUqoDAVZsPj8VyxOMqYlldwxWyFOSAEXGl5iWlgXMIzh6IBA545RELBGbMVpkFxzDaWV5gOruCZK9FKAc+iEw0YcFXBTSxeHPOKBQIoAs8ITEXEBKZi1QX8J7JwoAwTpaCFbbiICExFy8NzQXY8gGlYVT0MZ8v8aXhmQvMF4EozJJxpWYlpkEGJ8kAhAWcyojAVLa/gKZEzyQA85SQ7HsBUVlUPw1V9YBSLF0cZCw7YcKWZCnPAsuFKy0lMA/MJeIDUaGhJTQqzrzqShrOVofPwlBSzFJxplsI0KF1hlvGcwDSQT8IzV2rqLHjmUGo0tKQmhVlWHUnDVTXPYfHi8Hg8Ho/H4/GUFIfH4/F4PB6Pp6Q45pUWCqMIwk9wJWIC02BX6/4TcKRzlILMa1rQhpMlAlPhOQUPYGZ0TMNwOhKqGoGDb7NL4JkJHgjDldRJMxUcCJ0wFaWjfKg8o6CAA1kpMRWeU/CUyFC/Dk85MTM6pjKcjoSqRuBs2A5i8eIoY7laHu614MwOa5h9FPDDlZ6WmAaR4VrQxhUvl/EvqUlh9p0crl5eNQIH35kReEpKBJhmSjgQIYapyKDE7ONpgWlQWY2CAp45sfxaA545lMv4l9SkMMtODlcvrxqBs1NGJRYvjoVMcoIrpWE6ZESDC01DKUibwVMKdp5jGlJGAJ45pDSCM8kJU1FcoXzYBE/ZSI1q8JQTO88xlZQRgKtx24/Fi6OMCR/Bs+hYho4yMGb74fF4PFcky9DhmWUc80lBKRayASibAVA2oUDqJH0EV1ZEUxoFfXk40FPiOw06E3BmBTUZ0syfLQNApg2AZUwUaKM5aeUYY3CmNCiCOyVJS5N1KkQ+yaI2BQQmKEOTKa7yTK8wEZTZFcRMXKBlCQV8nDBBccVsJUG4JE0DoTwQHAjBrDw/+c3VAHw+C0AwZKKgoiILQEpSiqRgudEACsyMDsA2OQCZ14SlkSXhLAtf2vD/88DPAfwydhZAjS8DYCgfBvDp2NVp25+XGjzTpJSCIjhSjKQGF0qD0kjXbTjTR5FfARKYjPIEgJlEJsmwJcIsvzQMgFkCAMvZKNAyFgBFhIDODAsOlEaKMAVJWppg+qErFRUISHzPYJTSYBFVWCqk0tWk5XGBlsUP9HF8T3EwW0kQLolpIFwhOFd6QMFBXb3Zf8pfV28COJMMoGCoXweQGtUApMc1yyB4povgTAhm5fnJb64G4PNZAIIhEwUVFVkpSSmSggHIjQZQYGZ0ALbJAci8JiyNLAkHWfjShv+fz/4CQAU3fhoeucqfwYRzZvhEpmrcDqQsX07qWKQ45o9WY/p/kYFiKFA2AVA2AxA8zZjyj//MD2eM1N//9Qe+6jyAaCAHoCaaQsHyqpG84P+Sv9aSGoBRM4iCtOUHYAoOgL4J/nvtz7LVAk6kip2y4IoAxeAu/1UUBCd5ptK3GorBhT5OS/8/ZfkZNxQAzVTCTwDsAIkAgmdMccrGjZhfJKDlFWlwQJ9+uZpzAWdSUjAllSQ4EJZW8YcBlhcAfN9lAWhZC4AI6QDyy0IAzBVyX25d6IQFB3mp2YrBMz35Kkqv1IjBSfisJGhGjQYHmlBNa76SNQKAP2DFlmSCIRMTcln/2Pmwaeh2Tv/896uzS0AmMZMBoDwmI+Ebu3EV2RLOyJYVp/MyqMOVIrijPwVBuIBwKUz1/a2tNAVn+jhq3zdtP+OGAqCZSvgJgB0g4adgn2GfsbARix7n6oHWs5EKASBaKQDU1FkoWH6t0X/K3/6b5f2n/HBmGWTbBM80kICWV6TBGX365WrOBRxIScGUVJLgTFhaxR8GWF5oGUtLWwC0rCVCOgAR0UVYN5ar/y29IfTnPJzlJbdsDa7CMQNTyVRzuMqN+zElweBA2VCCYYY4Su3rr79ubW3dv39/XV0d3CmlbEk6oYB8CgD5JADl0xVXZBOcBXxWKGje2vAHOAgijzx0JgDUBNMoqAmmUfCN/xrus21wuLHgTGlQDFNSguBMaVAcSoMLq0JRHoGMRAHPKgA8qwBIugCz5Ouvv25tbd2/f39dXR2KZtsaXNkmgzOypJYTwRPncTE+ZgLgYyYAuybKDJkN6PA4+/rrr1tbW/fv319XVwd3ClASYHAgNSgNJOBE80kesFes6ceP6DG7IpYBcOKLnygF/TsOV4ozOFOcAXk4UxoUYWqC4ExpJDmUBhdWFCyPQEaigGcVAJ5VACQYEWbD119/3draun///rq6OpQBPaAiFWLL/SNwUFdv9p/y59IMHmdff/11a2vr/v376+rqUAq2rcGZbTK4IktqORE8cR6T8DETAB8zAVhXVTBTZv0+XKk4SsowjN27d3d2dqJoyqfgKQ+GYezevbuzsxOeRcQwjN27d3d2dqIUFCdMxRey4MoXsOApjmEYu3fv7uzshGcRMQxj9+7dnZ2d8CwcHCW1f/9+y7KICHMlGjJQHF/AgsfV/v37LcsiIpQNfSgLV4GkAY+r/fv3W5ZFRCgFOwhPOdi/f79lWUSEchKtFHB2JhmAx9X+/fstyyIilBN9KAtnwRM5XNk4SueDDz544YUXDhw4cOTIERRNhhSmYXntMIoTq06jOFaIoRRYjomIRJn54IMPXnjhhQMHDhw5cgSexeKDDz544YUXDhw4cOTIEZSC8BGmEoiZcFV7zQhmnxViKAUtR3ZEoZx88MEHL7zwwoEDB44cOQLPYvHBBx+88MILBw4cOHLkCDwLB0eJDAwM7N69+7HHHovFYriURCKBSZLJJEphSUUaxQmGTSwiSimUzsDAwO7dux977LFYLIZLSSQSmCSZTGJOaFkLrviYwCKilELpDAwM7N69+7HHHovFYriURCKBSZLJJDyzQymFEhkYGNi9e/djjz0Wi8VwKYlEApMkk0nMlZo6C1cSpRRKZGBgYPfu3Y899lgsFsOlJBIJTJJMJjFXtKwFZ3xUYHFRSmEmOEpBSvnoo4+uW7du69atx44dw6V0d3f39PSgwDRNXKPBU8aklI8++ui6deu2bt167NgxXEp3d3dPTw8KTNMEIvCUMSnlo48+um7duq1btx47dgyX0t3d3dPTgwLTNOGPwFPGpJSPPvrounXrtm7deuzYMVxKd3d3T08PCkzThKe8SSkfffTRdevWbd269dixY7iU7u7unp4eFJimCUTgKQMcpfDKK698/vnn+/btO3r06NjYGICTJ0/29/c3NjaiIB6PY5K2trYvkh/DU2pEhBJ55ZVXPv/883379h09enRsbAzAyZMn+/v7GxsbURCPxzFJW1vb1+/8HrNPhHQ+bsKZHdOwiBARSuSVV175/PPP9+3bd/To0bGxMQAnT57s7+9vbGxEQTwexyRtbW2f9/weUxE6caHgmQkiQim88sorn3/++b59+44ePTo2Ngbg5MmT/f39jY2NKIjH45ikra3t1Q//CWVgqF/H4kJEKIVXXnnl888/37dv39GjR8fGxgCcPHmyv7+/sbERBfF4HJO0tbV9/c7vMSdESOfjJhzYlRoWFyLCTHCUwujoaF9f3/33348J4+Pj9913344dOxobG1FARJgJWSExDefHI8GaERQhl/GjOCJAKAUyCRGUj9HR0b6+vvvvvx8TxsfH77vvvh07djQ2NqKAiOBZUEZHR/v6+u6//35MGB8fv++++3bs2NHY2IgCIsLM2SFwAy4iNRm4GuitwuwTfkIpMJMQUSgPo6OjfX19999/PyaMj4/fd999O3bsaGxsRAERwbOgjI6O9vX13X///ZgwPj5+33337dixo7GxEQVEBE9Z4iiFHTt2PPDAA5jwxRdfbNmy5eOPP66ursbsOzNQXVczgiKMDUfguZQdO3Y88MADmPDFF19s2bLl448/rq6uRhmwakJ83IQz49oAPJeyY8eOBx54ABO++OKLLVu2fPzxx9XV1Sia4gQoeObDjh07HnjgAUz44osvtmzZ8vHHH1dXV6M8LL/WgLPUqAbPpezYseOBBx7AhC+++GLLli0ff/xxdXU1yoNVE+LjJhzkfhrElY2jFMLhMAqICICu65FIBLMvlQ2gOHlDR3EkR0mQTSgn4XAYBUQEQNf1SCQCz0IWDodRQEQAdF2PRCIoA3lDx+yTOqEUyEb5CIfDKCAiALquRyIReBaycDiMAiICoOt6JBKBZyHgKLVYLNbR0REIBDAlIuIMkvADiwCoPAPAuFAhlatQzCKehmYSJgi/siOQugIQGKJszv///uH6aCAHoCaaQsHyqhEAhqUDsCwOYCwVRkEmGwBg5nUAyuTS1uBKBIhsBQd6RqJ4BBkRZMGFPk7Sr+wQQ4EdJABSxwWhb5VSmCWxWKyjoyMQCGBKSikpscrEBXnCBQZDAWU0gODKisnwuGJMwUEe3FglrdoogEDSAMDHBAA7pgEwrg0AEEGmdILHVSwW6+joCAQCmBaCCwLPSslhR/ADO4gLpI4LlgypzHBoMFMBYNnSUQDBkAkgl/UD+G6wEoAwdSkZiiYCRLaCAz0jUTyCiEhmwYWegvTDDjEU2AECIHVcEDxtKYXZEIvFOjo6AoEA5gTnSg8oOKurN/tP+evqzTPJAAqG+nUAqVENQHpcswyCx1UsFuvo6AgEApiSUkpKrDJxQZ5wgcFQQGkNBIDgzIrJ8LhiTMFZHtxYpfK1FfqIzUcsAHxM2DENgF2lW1VcBpn0MSwShJnjKLWfTcA0qLN+699CWhUDoPIMF1iEAgkMrrfgauwv6YXP/oPGJJwoGGENUHBm2TxsKYKCs75bdOkjOCBbVSRBUsGZ1JFapUQATpiNZe9zzSA4k7r6rlGTPsKlDP9VcPR9DbPjZxMwDeoXhro7pQTDJdmUGQ9jKk3Lv/T78z/5yTkA4XAOQCYTBNDXdxUA0/T9P7iWGRLOlE5KI3hc/WwCpkEzlW9ckQYXgxuV0uBkRNPOdW5gTMKZbWsqRHDlT2FKfTcHpA9OyEblnwEouBpugAtmo/YDaDm4kDq++2u/9BEuZfgv+eiHOmbBzyZgTnCuHmg9G6kQAKKVAkBNnYWC5dcaAPpP+dt/s7z/lB8OLINsm+Bx9bMJmAb1C0PdnVKCwYlNmfEwXDUt/9LvzwcC+erq8XA4hwmZTHB4uMIwfABM0/ef1F8wQ8KB9LPKWBZTOT8UgSshGKZECq5ql41hKmf7lsCBUgoKM8Uxn4gYUykOB4rDHUlkKpg+wuHMtlEkxaDlyA7BiX+cMBUSkD64UIBZwcIpBWdMkvCT0nBJyhYoB0opW5JOuCSuMA53fs3GT4y/qj2FSXy+FIAlS1IAPj233Ndr5wMcnrlDmIrww50QTAgGd4Ti2SGCC47iKcCMssi4hDOSEH5SGi5J2QIKC50eUJEKseX+ETirqzf7T/lzaQbP3FBK2ZJ0ghOuMA4Xfs3GT4y/qj2Fi/l8qSVLUpjwb+dW+M7Y+QCHxwGHp2wwCx6PZ6FgFjwej8cJxwJHAnNAcbhQGjylFeQWnAW5BY/HUx6ilQKeRSfILbgKanl4XHEscMwgLBaBEQXPhKXhcTirCaTg8cy3wLCEZxrOJAPwLDRLw+PwFIdjgSOLMPusCFxYUcwNK0y4MkR9BpxFdRMeT9mzwoQrQE2dBc+iE/UZcPXTinPwuOLweDwej8fj8ZQUh8fj8Xg8Ho+npDgWOKUrMgmLglFFwUEFD5DKB/zBNBykLD88nvlmVLPQoIRnKkP9OjwLTSof8AfT8BSBY4GTAcVMwmyyonCnpzA3hB9XiMFMxVXBNBwMGVF4PGVP+AlXgOXXGvAsOoOZiquCaTg7MX4VPK44FjilYdGQOjzfy9k6nOVsHR7PfJM6PNORGtXgWWhytg5PcTg8U1Ec7khgbkgdHo9noZA6PJ7FKid88LjimEcEYhoJXJLSoI1rokLAmWKoSAnmE3CQF8yGhqlIHSRxgQgqFEgfLpAcSoNicEECJOGOJBSDC8UhdWTqCACzoGeUZuJ7wg8rTFKH5ICCI8ZQDoiIMwhCgbIYAGUyACqngcBMAWdmgBu2/um55TGfEfNlAUR1M2X5AYzlQ2P5gCF0WzJ45hgxuIqcIsmRr1QAhB//FcWha4JrAs4sm9uKwZXUQRLfswP4gfThAsmhNAUQZpnikByZqxkAZkPPKM1UmCD8ZIVJckhOcMEYCOWPc6UHFBzU1Zv9p/x19SaAM8kACob6dQCpUQ1AelyzDIJnzhARZxCESZTFACiTqTyDIBCYKeDADHDD1r/JXgWgxpcGENQsADmhAxjKRwAYNpeKweOMY/5EzthLe3JWlQ+AZuIHwo8LNCmH7rKYDhcM6teb/hD1m7GA+dOrRmoiGUwYSodPnKsaM/wp0/+/H9lgSwZXY78Q0gcX2rgGZ1YYBBE9JeFMBpRZnZchBWdjdpQE3AXOERwoW2VTmHf2mUCuJ8qrCYDKMwDKYviBoJqj37CsABD8cwoAH7UA2JU6gNxfRHFBBb3/dz/zaTYc2JJJxeCZQ4FhEfuzxTQOZ0JnIEwm/ApAfgkuqDpn/Q+3HdFrzGjAqK86Vx1OY8JwJnJq5KqUEQCQzfhf+vgmW2hwdv7nSupwx1MEFwqAFT1lw5kMYLRZiSBcjNshEnAXPAcnSshMSqG8ca4eaD0bqRAAopUCQE2dhYLl1xr9p/ztv1nef8oPZ5ZBtk3wzBX7TCDXE9XrlDKZyjMAymKYTFDN0W9YVugjJh/OA+Cjll2pA7CrfVaVv6ou27ez8rvxKJzZSouFcsPpMJzl8hxT0cMWXBmjAUwlelUGroZTIUxFC9pwoIQgXWKGOEpECPHaa6+9//772Wy2qalp27ZtVVVVcEUAiPxjChfjBi5QOmEqQc0OLc/cU/tnXCxcNbqyahTA//2Hn/u5sPMMrkQQxSABZsMdCVK6wlSUhstHAAglJYR47bXX3n///Ww229TUtG3btqqqKkyBiDE5znEplBe+QRX+dAgX8w0IAL4BA0DqlmpmiHyAwzM7hBCvvfba+++/n81mm5qatm3bVlVVhSkQEdyRxH+FZwkAz+IC8iMcNP72L/+Ai13jG7lmyQgmJP7z9bombKHBmQigSCQUsxXcCSiOKSkNxSGUjhDitddee//997PZbFNT07Zt26qqqlAcPaAiFWLL/SNwUFdv9p/y59IMntkhhHjttdfef//9bDbb1NS0bdu2qqoqTIGIMTHE4YDywjeowp8OYRLfgADgGzAAqDtDyCk7pMGZVCQUwxVC4TJwlMjjjz/+/PPPP/jgg9Fo9KWXXnrnnXdef/31SCSCeRULmJgTzMKi9Pjjjz///PMPPvhgNBp96aWX3nnnnddffz0SicCzkD3++OPPP//8gw8+GI1GX3rppXfeeef111+PRCKYZZGQAVeRgIE5wSwsPo8//vjzzz//4IMPRqPRl1566Z133nn99dcjkQg8C9njjz/+/PPPP/jgg9Fo9KWXXnrnnXdef/31SCQCT9njKIWRkZEXX3xxz549Dz30EIA77rjjlltu6ezsvOuuuzDLGmPfwdlPq0cwJ/S0wqIzMjLy4osv7tmz56GHHgJwxx133HLLLZ2dnXfddReK4D89DleBr9LwzJqRkZEXX3xxz549Dz30EIA77rjjlltu6ezsvOuuuzDf6q86hzmhpyUWl5GRkRdffHHPnj0PPfQQgDvuuOOWW27p7Oy86667UJxopYCzM8kAPLNmZGTkxRdf3LNnz0MPPQTgjjvuuOWWWzo7O++66y4Ux396HC5SEtMgJMHjjKMUBgcHa2pqbrzxRkyor6+vrKwcGxtDEeyYQtFqIhnMCc1UWHQGBwdrampuvPFGTKivr6+srBwbG8NURDbDozF4ytLg4GBNTc2NN96ICfX19ZWVlWNjY5h9DdedgquqSBpzgpkKi8vg4GBNTc2NN96ICfX19ZWVlWNjY5iKBdOPIDxlaXBwsKam5sYbb8SE+vr6ysrKsbExTEVkMzwaw+VSJ214isZRCmvWrOnp6WGMYcKbb755/vz5tWvXYpJEIoFJkskkSmGpLwfPJEoplMiaNWt6enoYY5jw5ptvnj9/fu3atZgkkUhgkmQyiamwVB6utPMWPBdTSqFE1qxZ09PTwxjDhDfffPP8+fNr167FJIlEApMkk0l4ZodSCqWwZs2anp4exhgmvPnmm+fPn1+7di0mSSQSmCSZTGIaauoseGZIKYVSWLNmTU9PD2MME958883z58+vXbsWkyQSCUySTCYxDSyVhzM1LDANltBwJVFKYSY4SoQxBiCZTD7zzDNvvPFGPB6//vrrMUl3d3dPTw8KTNMEAvCUN8YYgGQy+cwzz7zxxhvxePz666/HJN3d3T09PSgwTRNaBJ7yxhgDkEwmn3nmmTfeeCMej19//fWYpLu7u6enBwWmaQIheMobYwxAMpl85pln3njjjXg8fv3112OS7u7unp4eFJimCU/ZY4wBSCaTzzzzzBtvvBGPx6+//npM0t3d3dPTgwLTNKFF4CkDHCUipTx48ODTTz/d2Nj41ltvbdiwAReLx+OYpK2t7aXD/4qiDeaDq4IWHAylw5gTwk88q1AGiAilI6U8ePDg008/3djY+NZbb23YsAEXi8fjmKStre2PH/8ermTUx4ZzcCaW6PBcjIhQOlLKgwcPPv30042NjW+99daGDRtwsXg8jkna2tpO/tNRzL6RdARzQvqJZRXKABGhRKSUBw8efPrppxsbG996660NGzbgYvF4HJO0tbW9+uE/oThD/To8P0JEKBEp5cGDB59++unGxsa33nprw4YNuFg8HsckbW1tf/z495iKjPrYcA6emSAizARHiTzxxBMvv/zys88+e+eddzLG8CNEhJkQYYWinRiuwpywIsSzCovOE0888fLLLz/77LN33nknYww/QkT4EWkaiMbgKVdPPPHEyy+//Oyzz955552MMfwIEWEW/OHr+vUNf4azU+euwpywIoxnBRaXJ5544uWXX3722WfvvPNOxhh+hIjwIzZsPzzl64knnnj55ZefffbZO++8kzGGHyEi/Ig0DURjuFxUrcFTNI5S+Pbbbw8dOtTR0bFx40bDMDCBc+7z+TDLfj+2bFVwHA7GDD/mhNSx+Hz77beHDh3q6OjYuHGjYRiYwDn3+Xwogrmigg/n4MxYE4Fn1nz77beHDh3q6OjYuHGjYRiYwDn3kyHEZQAAIABJREFU+XyYb2kjgDkhdSwy33777aFDhzo6OjZu3GgYBiZwzn0+H4qz/FoDzlKjGjyz5ttvvz106FBHR8fGjRsNw8AEzrnP50NxzBUVfDgHB7SKYxryFofHGUcpfPnll+fOndu5cycm2bdv3z333IPLJX3wzK8vv/zy3LlzO3fuxCT79u2755574EpaFjzl6ssvvzx37tzOnTsxyb59++655x7MsnQ2AM/s+PLLL8+dO7dz505Msm/fvnvuuQeuJAQ85erLL788d+7czp07Mcm+ffvuueceuJKWhWJEGTxF4yiFcDh8+PBhXKy2thauFC5QcCB9SulwZ0ptIxvIGjqAM/0xFAyOhAGk0n47q5m2hlmmNPjSUur4nhXDD0RIARB+BIfBDMIgV7pSYan8ChPIJMowsggWASABF8yGG2IoqXA4fPjwYVystrYWrpSUyrb/ZvkZAGdTUQCDmTAKMtDtOpWqrAYQ+CoNQDtvARBLdADGmggAGdKUzuCZHeFw+PDhw7hYbW0tpqCUAsEVAzSFSVRQApBLbQDUi5VXDRqGDxPO9i9BwchwBEA6HZBZLW9zzDKlkZ6RUsf3rApCgRXGBdJPgRHJTPAhTekQYan8ChPIJC3DyALZZAEk4IIJBRCcEEPphMPhw4cP42K1tbVwpaCkElv+bgRAalQDMNSvo+BMMlBXb/af8tfVm2eSARQM9esAUqMagPS4ZhkEz+wIh8OHDx/GxWpra+FKSals+z/+/Mv+dORsKgpgMBPGJBnoVkwb37CUj+b18yYAbSwvYj4A1hK/XelbEslAgzshmVK4UiiFmeMohZtuugkzl6vh538eIGK4JKFXjY4HVqfhQqHlsf/OMDkcSEWZTQxTobANV9pZDldn75BgcDEqEPm3CAk4sinqk8zGBWTjAi2PH/Ac/gsFpSk4kMJOjUmUzk033YSZ+/sbPonvSmYsHQWDmTCA/lQUwNfD1U/8fC0zBJwpnSmN4JkdN910E2bOWKKNr9KJMTgLLs0on5JLbQAqKHGx83+Np5+6y7YZnClQponBlQoJTEUbYHDVe7sGBhckWOzfNbLhhAQFuGQCF5CtAGh5/IDnFCYoxuBACnt8TKJEbrrpJszc3/3D2T3/kDcyDA76T/nbf7O8/5QfDiyDbJvgmR033XQTZu7vb/gkviuZsXRMMpgJA+hPRc+mIynT//iSG5kp4GDIr4WH0qHqHFxJW4MrYzCMqVDEgjuLYSqWrcFVOJDHVKSf4EAJmfPbmCGO+SUlNIZLIa5Il3Bn0fBKos90OMjUaSSgNMw26Yc7YoBNEHAR7seUlAYnRAAI5SGsWyhYVTkKYFXlKIA+HginrExAh2fBURJgcKKp/BLFrjbhJI/h1br/P3M4y1ytkVBKI8wy6Yc7YiCbSMBF+KzEVBSDEyIAhPlGhGBEwkFdvdl/yp9LM3gWmrBuYZJVlaMAVlWOAvi/vvl5mFsZ6HBATDFNwfMDqTBzHGWMdAmPx+PxeDyehYajjGlRG1OhMzqc+UclyoYMSi3NcGVbF/sOnoXJzmX0SAzOKGbDFe9lcOUfkygbIqh4mjBrLDODhWD5tcbX/x6CZxFprDmLqeghC57icMwrO5fRIzE4YH4Bz7RZZgaeRUekMvB4PAuEBROeRccez2LmOBa6NIMzzVTwlJOl/hw8ixT5JVyxNMGVZip4PJ5ZtiyQwVQYl/AUh8Pj8Xg8Ho/HU1Ic5Yr5BaYjIjGiwYHwE8qG9CstDc9Sf+5kVodnoZGmgUgMDsgvMRUZUdoIwZnwE8qG9GFWCdvEQlBTZ3397/AsMkuDmZOpSjhgXMJTNI55JfMGEMOlaFEbnpkQlgnPoqOyJjwezwJhw4Zn0ZFZEzPHUa5Il5gGtdyiEQ0OzEqGsqE4PBc0xr47ma2AZ6GRtgVnFLMwFfsaqY0wODNjDGVDcgUQZo0UFhaCaKWAZ9FZV3P2ZKoSDvSQBU/ROOaVtC14SkTaFjyLjsxb8Hg8C4SEgGfRkXkLM8cxf5QUyrZzg72M6wCYL4ACHgznTmjhBiUtAWfMp4njYMyGg+AZ6/yasLIFXCgFKZVUcECMlG2BCE6UgpRKKrjQGO8TihScEEkhiOBOSQKUZWZQICwTgLQtKS0ogfIW1qyXP/ST3s98OgAK+VGgRcO4solUBgUqawKQeUtZtpIS801JoYSd+64XAOM6AOYPoIAHw/Zppl0nlSXhxKfxT4UkgrNgn3X+Z7oSNpwoBSmVlHBGjCnbAhGcKAUplZRwoWm+fqFIwgmRlDamoqRmmWkUCNsEIIUFQAoLSqC8BcLytVcVo1EGDQAHR4EOP65sFkwU2LABSAiphIJCeQvr1kvvB0nvZboOgAIBFGjhMIDcIIvWSmVJuNCYyltgBCdEysYUFCAEFBwRlEUguFFQUkIqOFFKMQml4IKgJAGwx7MokFkTgMxbyrKVkJghjnnS1dWVOd0LgJiGS1IqZ6YhFSbwiiAKeNgPgPk507X0mTEiggOlMP6hDgVXSv5RQCk4IdLOaQDBkRJ/EoCCCyLzpAYiOOMZCRBcKQ2OlBgbSHZ1GZg/XV1dyOfa/nEYznKnvyFG8EyPkjL3+TddgzbmT1dXV+Z0LwBiGpwoxcdySikAvCKEAi3kB0A+znx8vHeIiOBMKYz/zgcFZ8r+QgIKbig7wgCCI2X9WQIKLojsUwQiONPTkjAFqTE4UWJ0MNnVZWCedHV1IZ9r+8dhuBqBjxTBMz0KagSDXV1dmCddXV3I59r+cRiucn/+MzEGJ0qJP+WUUnBGoHTKB4ILZTGA4EaRT8KVyjOA4EZlwzaUgjPOJaai4EgJmfns267eLswEx/xp/Ok1zc0bMG3Hjh3LZDLNzc34ng3YwDbMSFdXVzgcXrduHS6XUurDDz9cvXr1ihUrMCNr8INUKnX8+PEbbrghGo3icp0+ffqbb765+eabiQgTuroMzDvfeoo0w9n//AtMduzYsUwm09zcjCJ0dXWFw+F169bhcimlPvzww9WrV69YsQKXK5VKHT9+/IYbbohGo7hcp0+f/uabb26++WYiwoSuQRvzbd3qa5qbN2Dakslkb29vc3MzfmAD/+N1mIlkMtnb29vc3IwiJJPJ3t7e5uZmzNRf4QfJZLK3t7e5uRlFSCaTvb29zc3NKOjqMjC/fOsp0gxX2+L4QTKZ7O3tbW5uRhGSyWRvb29zczOKkEwme3t7m5ubUYRkMtnb29vc3IwiJJPJ3t7e5uZmFHR1dWF++dZTpBmuWtbjB8lksre3t7m5GUVIJpO9vb3Nzc0oQjKZ7O3tbW5uRhGSyWRvb29zczOKkEwme3t7m5ubUdDV24UZ4pgnXV1dmKFDhw599tlne/fuRRF+/etfr127dufOnbhcQoibb755x44dGzduxOUaGBj45S9/efjw4draWlyu3/3ud7/97W/37NmjaRrKQ1dXF2bo0KFDn3322d69e1GEX//612vXrt25cyculxDi5ptv3rFjx8aNG3G5BgYGfvnLXx4+fLi2thaX63e/+91vf/vbPXv2aJqG8tDV1YUZSiQS7e3t8XiciHC5EolEe3t7PB4nIlyuRCLR3t4ej8eJCJcrkUi0t7fH43EiwuVKJBLt7e3xeJyIUAa6urowQ4lEor29PR6PExEuVyKRaG9vj8fjRITLlUgk2tvb4/E4EeFyJRKJ9vb2eDxORLhciUSivb09Ho8TEcpAV1cXZiiRSLS3t8fjcSLC5UokEu3t7fF4nIhwuRKJRHt7ezweJyJcrkQi0d7eHo/HiQiXK5FItLe3x+NxIsLl4vB4PB6Px+PxlBSHx+PxeDwej6ekODwej8fj8Xg8JcWxoCxbtgzFWbZsGYp26623omi/+tWvULRbb70VC9+yZctQnGXLlqFot956K4r2q1/9CkW79dZbsfA1NTWhaE1NTShaU1MTitbU1ISiNTU1YYFrampC0ZqamlC0pqYmFK2pqQlFa2pqwgLX1NSEojU1NaFoTU1NKFpTUxOK1tTUhOJwLBw7d+5E0fbu3YviaJq2d+9eFKe2tnbv3r0ozsYJWOB27tyJou3duxfF0TRt7969KE5tbe3evXtRnI0TsMDdNgHFuW0CinPbBBTntgkozm0TsJDdNgHFuW0CinPbBBTntgkozm0TsJDdNgHFuW0CinPbBBTntgkozm0TUBwOj8fj8Xg8Hk9JcXg8Ho/H4/F4SorD4/F4PB6Px1NSHB6Px7OoKaWICJ7FRSn1/7cHrzFN3X8DwL+/9ljKQTgtaq20DaIOndSKBcosCHjZArLhBQObsOEUNsVpTSl0glnUGLkYLxMmOBcRpuimHdjhqKKzgC4MN7KZIIMXIgitA1zdKLa10D7JSUj01b+n8qI8OZ8PQgho/784nU6EEPy/gMFUYLFYTp8+ffPmTZvNJpPJduzYIRQKwV0ajaa8vPz69etMJhMoMpvNX3311e3bt9lsdnp6+qZNm4C6n3/++dy5c729vYsWLcrKygoPDwcq9u/fLxKJtm3bBhM0Gs358+efP38eFxe3e/duHx8fmAosFsvp06dv3rxps9lkMtmOHTuEQiG4S6PRlJeXX79+nclkAkVms/mrr766ffs2m81OT0/ftGkTUPfzzz+fO3eut7d30aJFWVlZ4eHhQMX+/ftFItG2bdtggkajOX/+/PPnz+Pi4nbv3u3j4wNTgcPh+Pbbb69evWoymSQSySeffBISEgLu6u/vz8jIKCkpCQsLA+paW1tPnz7d09MjkUiUSuXcuXOBIofDceHCBY1GYzabIyMjs7OzBQIBUKFSqWQyWUpKCkyoqan57rvvbDbb22+/vXPnTjabDR7P4XB8++23V69eNZlMEonkk08+CQkJAXf19/dnZGSUlJSEhYUBda2tradPn+7p6ZFIJEqlcu7cuUCRw+G4cOGCRqMxm82RkZHZ2dkCgQCoUKlUMpksJSUFJtTU1Hz33Xc2m+3tt9/euXMnm80Gj+dwOL799turV6+aTCaJRPLJJ5+EhISAu/r7+zMyMkpKSsLCwoC61tbW06dP9/T0SCQSpVI5d+5coMjhcFy4cEGj0ZjN5sjIyOzsbIFAAFSoVCqZTJaSkgITampqvvvuO5vN9vbbb+/cuZPNZoPLMJgKCgoK6uvrlUrl9OnTz54929LSotVqORwOUNfd3b13714fHx+gzul07tmzp6urKysrq6+vb8eOHTiOr127Fqi4c+fOBx98kJGRkZSU1NjYmJKSotPpgoODwQUvXrzo6Oi4dOmSSqWCCT/88MOnn36am5vL5/OPHj1qMBhKS0thKigoKKivr1cqldOnTz979mxLS4tWq+VwOEBdd3f33r17fXx8gDqn07lnz56urq6srKy+vr4dO3bgOL527Vqg4s6dOx988EFGRkZSUlJjY2NKSopOpwsODgYXvHjxoqOj49KlSyqVCib88MMPn376aW5uLp/PP3r0qMFgKC0thang1KlThw4dys3NFQqFGo0mOTm5vr5+wYIFQN3Y2Ni+ffuam5vBLe3t7ampqSkpKQkJCVVVVZmZmfX19Ww2G6goLS0tLi5WqVSzZ88+d+7cvXv3tFotm80GF9hstj///FOj0chkMphw/vz5nJwctVpNEMSRI0eGhoaKiorA4506derQoUO5ublCoVCj0SQnJ9fX1y9YsACoGxsb27dvX3NzM7ilvb09NTU1JSUlISGhqqoqMzOzvr6ezWYDFaWlpcXFxSqVavbs2efOnbt3755Wq2Wz2eACm832559/ajQamUwGE86fP5+Tk6NWqwmCOHLkyNDQUFFREXi8U6dOHTp0KDc3VygUajSa5OTk+vr6BQsWAHVjY2P79u1rbm4Gt7S3t6empqakpCQkJFRVVWVmZtbX17PZbKCitLS0uLhYpVLNnj373Llz9+7d02q1bDYbXGCz2f7880+NRiOTyWDC+fPnc3Jy1Go1QRBHjhwZGhoqKioCl2Hg8QYHBy9fvlxcXLx582YAkMvl0dHRer1+/fr1QJHVav38888TExP1ej1Q19bW9uOPP968eXPJkiUA0Nvbe+nSpbVr1wIVWq1WIpEUFRUxGIyEhITIyMhbt24FBwfD//Lo0aN169YZDAaTyQQTHA5HeXl5RkaGWq0GgFmzZmVkZOzZs2f+/Png2QYHBy9fvlxcXLx582YAkMvl0dHRer1+/fr1QJHVav38888TExP1ej1Q19bW9uOPP968eXPJkiUA0Nvbe+nSpbVr1wIVWq1WIpEUFRUxGIyEhITIyMhbt24FBwfD//Lo0aN169YZDAaTyQQTHA5HeXl5RkaGWq0GgFmzZmVkZOzZs2f+/Png2ex2e3V1dXZ2dk5ODgDEx8fHxMTU1dWpVCqg7ptvvunr6+NyueCW8vLylStXlpSUIIRCQ0M3b97c3t4ul8vBZQ6H48qVK1lZWUqlEgDEYvHq1asfPHgglUrhf+ns7ExNTTUYDCaTCSbY7fby8vLt27crlUoAIAhCoVDs2rVLIBCAB7Pb7dXV1dnZ2Tk5OQAQHx8fExNTV1enUqmAum+++aavr4/L5YJbysvLV65cWVJSghAKDQ3dvHlze3u7XC4HlzkcjitXrmRlZSmVSgAQi8WrV69+8OCBVCqF/6WzszM1NdVgMJhMJphgt9vLy8u3b9+uVCoBgCAIhUKxa9cugUAAHsxut1dXV2dnZ+fk5ABAfHx8TExMXV2dSqUC6r755pu+vj4ulwtuKS8vX7lyZUlJCUIoNDR08+bN7e3tcrkcXOZwOK5cuZKVlaVUKgFALBavXr36wYMHUqkU/pfOzs7U1FSDwWAymWCC3W4vLy/fvn27UqkEAIIgFArFrl27BAIBuAYDjzc0NCSRSEJDQ4E0c+ZMHMctFgtQd/LkybGxsTfffFOv1wN1LS0tEolk0aJF//zzD4ZhZWVlGIYBRTiOW0k4jo+Ojr548cLb2xtcwOfza2trnU7nhg0bYMLg4GBHR4dSqQSSTCbz9vbu6OiYP38+eLahoSGJRBIaGgqkmTNn4jhusViAupMnT46Njb355pt6vR6oa2lpkUgkixYt+ueffzAMKysrwzAMKMJx3ErCcXx0dPTFixfe3t7gAj6fX1tb63Q6N2zYABMGBwc7OjqUSiWQZDKZt7d3R0fH/PnzwbONjIzweLyIiAgg+fr6cjickZERoO7evXtffvllZWVlUlISUGc2m1taWoqLi2022+joaGBgYGtrK5PJBCoQQt7e3mazGUhmsxkhxGKxwAUikaiurs7pdMbHx8MEg8HQ1dVVWFgIpOXLlzudzr/++ksgEIAHGxkZ4fF4ERERQPL19eVwOCMjI0DdvXv3vvzyy8rKyqSkJKDObDa3tLQUFxfbbLbR0dHAwMDW1lYmkwlUIIS8vb3NZjOQzGYzQojFYoELRCJRXV2d0+mMj4+HCQaDoaurq7CwEEjLly93Op1//fWXQCAADzYyMsLj8SIiIoDk6+vL4XBGRkaAunv37n355ZeVlZVJSUlAndlsbmlpKS4uttlso6OjgYGBra2tTCYTqEAIeXt7m81mIJnNZoQQi8UCF4hEorq6OqfTGR8fDxMMBkNXV1dhYSGQli9f7nQ6//rrL4FAAK7BwOOFhIRcu3YNSA6Ho6qqymKxhIeHA0W3b9+urKy8cuXK3bt3wS1dXV0BAQFbt25tbm7GMCwpKenAgQN+fn5AxbZt21pbW1NTUxcuXPj7779HRERs2LABXMBms+fNm2e32+ElJpPJZrMFBAQAyc/PjyCIgYEB8HghISHXrl0DksPhqKqqslgs4eHhQNHt27crKyuvXLly9+5dcEtXV1dAQMDWrVubm5sxDEtKSjpw4ICfnx9QsW3bttbW1tTU1IULF/7+++8REREbNmwAF7DZ7Hnz5tntdniJyWSy2WwBAQFA8vPzIwhiYGAAPJ6/v399fT1M0Gq1nZ2dBw8eBIpMJlNeXp5CoRAIBOAWE8lms0VHRxsMhqCgILVanZSUBFQghPLz8xUKxZYtW7hcrk6n2717t1gsBhdMJ1ksFnjJ06dPx8fH+Xw+kLhcLo7jRqMRPJu/v399fT1M0Gq1nZ2dBw8eBIpMJlNeXp5CoRAIBOAWE8lms0VHRxsMhqCgILVanZSUBFQghPLz8xUKxZYtW7hcrk6n2717t1gsBhdMJ1ksFnjJ06dPx8fH+Xw+kLhcLo7jRqMRPJu/v399fT1M0Gq1nZ2dBw8eBIpMJlNeXp5CoRAIBOAWE8lms0VHRxsMhqCgILVanZSUBFQghPLz8xUKxZYtW7hcrk6n2717t1gsBhdMJ1ksFnjJ06dPx8fH+Xw+kLhcLo7jRqMRXIbB1PHbb7+VlJS0tbUdPXr0jTfeACqMRmNeXt6+fftCQkLu3r0LbjGbzXfv3s3Ozt67d29/f79CofDy8ioqKgIqBgYGnj59GhQU5O3tjeP433//PTw8TBAEuMvhcCCEgIQQAoCxsTGYOn777beSkpK2trajR4++8cYbQIXRaMzLy9u3b19ISMjdu3fBLWaz+e7du9nZ2Xv37u3v71coFF5eXkVFRUDFwMDA06dPg4KCvL29cRz/+++/h4eHCYIAdzkcDoQQkBBCADA2NgZTR3d39/Hjx69evZqfnx8bGwsUHT58WCQSZWZmGo1GcIvNZhsdHT127FhRUZFAIPj++++3b98+b948sVgMVDx69Mhut3uRfH19+/r6nj9/juM4uMVJQggBCSEEAOPj4zBFdHd3Hz9+/OrVq/n5+bGxsUDR4cOHRSJRZmam0WgEt9hsttHR0WPHjhUVFQkEgu+//3779u3z5s0Ti8VAxaNHj+x2uxfJ19e3r6/v+fPnOI6DW5wkhBCQEEIAMD4+DlNEd3f38ePHr169mp+fHxsbCxQdPnxYJBJlZmYajUZwi81mGx0dPXbsWFFRkUAg+P7777dv3z5v3jyxWAxUPHr0yG63e5F8fX37+vqeP3+O4zi4xUlCCAEJIQQA4+Pj4DIMpgKr1VpYWHjmzJmNGzfeuHEjODgYKNq/f79MJuNwONeuXbPb7QCg0+l4PF5ERAS4jMViLVy4MC8vj8FgLF68+LPPPquoqNi/fz+bzQbXjI+PFxQUrFix4ujRowihFy9epKWlHThwoLq6Gtzi5eXFZDKtViuQxsbGxsfHfXx8YCqwWq2FhYVnzpzZuHHjjRs3goODgaL9+/fLZDIOh3Pt2jW73Q4AOp2Ox+NFRESAy1gs1sKFC/Py8hgMxuLFiz/77LOKior9+/ez2Wxwzfj4eEFBwYoVK44ePYoQevHiRVpa2oEDB6qrq8EtXl5eTCbTarUCaWxsbHx83MfHB6YCp9NZUVFx+PDhFStWaLXa8PBwoKihoUGn0xUWFl6/fh1IBoPhyZMniYmJQMW0adPUavWaNWsAIDc3V6PRNDU1icVicNnjx4/z8/NPnDiRkpICAAMDA6tWraqpqcnMzAS3sNlshJDVagWS3W53OBw4joPHczqdFRUVhw8fXrFihVarDQ8PB4oaGhp0Ol1hYeH169eBZDAYnjx5kpiYCFRMmzZNrVavWbMGAHJzczUaTVNTk1gsBpc9fvw4Pz//xIkTKSkpADAwMLBq1aqamprMzExwC5vNRghZrVYg2e12h8OB4zh4PKfTWVFRcfjw4RUrVmi12vDwcKCooaFBp9MVFhZev34dSAaD4cmTJ4mJiUDFtGnT1Gr1mjVrACA3N1ej0TQ1NYnFYnDZ48eP8/PzT5w4kZKSAgADAwOrVq2qqanJzMwEt7DZbISQ1WoFkt1udzgcOI6DyzCYCgoKCpqami5fvhwVFQVusVgsf/zxR0tLC5CMRuPevXuLi4uBiqCgoH///ZfBYACJw+HYbDaHwwEus1qtPT09mZmZCCEAYLFYS5cu/emnn5xOJ0IIqJsxYwZBED09PTKZDACekgIDA2EqKCgoaGpqunz5clRUFLjFYrH88ccfLS0tQDIajXv37i0uLgYqgoKC/v33XwaDASQOh2Oz2RwOB7jMarX29PRkZmYihACAxWItXbr0p59+cjqdCCGgbsaMGQRB9PT0yGQyAHhKCgwMhKmgtLT05MmTp06devfddxFCQJ3T6UQI5efnA+m///4rKChYtmxZYmIiuMzf35/L5RIEASQvLy8cx61WK1AxPDxssVhCQ0OBJBAIRCJRd3c3uGvWrFk4jvf29i5ZsgQABgcHzWazUCgEj1daWnry5MlTp069++67CCGgzul0IoTy8/OB9N9//xUUFCxbtiwxMRFc5u/vz+VyCYIAkpeXF47jVqsVqBgeHrZYLKGhoUASCAQikai7uxvcNWvWLBzHe3t7lyxZAgCDg4Nms1koFILHKy0tPXny5KlTp959912EEFDndDoRQvn5+UD677//CgoKli1blpiYCC7z9/fncrkEQQDJy8sLx3Gr1QpUDA8PWyyW0NBQIAkEApFI1N3dDe6aNWsWjuO9vb1LliwBgMHBQbPZLBQKwWUYeLyurq6amprLly8HBwcPDQ0BicViEQQBLjt79ixMOHv2bHl5+S+//OLl5QVUxMXFnTlzpr29XSqVjoyM1NbWhoeH4zgOLsNxfPHixQ0NDUlJST4+PsPDw3q9XiKRIITALQRBxMbGajSajRs3Tps27dq1a1wuNzQ0FDxeV1dXTU3N5cuXg4ODh4aGgMRisQiCAJedPXsWJpw9e7a8vPyXX37x8vICKuLi4s6cOdPe3i6VSkdGRmpra8PDw3EcB5fhOL548eKGhoakpCQfH5/h4WG9Xi+RSBBC4BaCIGJjYzUazcaNG6dNm3bt2jUulxsaGgoez2QylZWVHTp06K233hoeHgYSQmjmzJngsvj4+HfeeQdIRqMxLCyssrJy6dKlQIW/v39kZOTFixeXL1/u7e3d0tLy8OFDqVQKVMyZM4cgiBs3biyDlDjtAAAGcklEQVRYsIDBYNy/f7+rq2vLli3gLh6PFxUVpdFoEhISmEymVqsNCAgQi8Xg2UwmU1lZ2aFDh956663h4WEgIYRmzpwJLouPj3/nnXeAZDQaw8LCKisrly5dClT4+/tHRkZevHhx+fLl3t7eLS0tDx8+lEqlQMWcOXMIgrhx48aCBQsYDMb9+/e7urq2bNkC7uLxeFFRURqNJiEhgclkarXagIAAsVgMns1kMpWVlR06dOitt94aHh4GEkJo5syZ4LL4+Ph33nkHSEajMSwsrLKycunSpUCFv79/ZGTkxYsXly9f7u3t3dLS8vDhQ6lUClTMmTOHIIgbN24sWLCAwWDcv3+/q6try5Yt4C4ejxcVFaXRaBISEphMplarDQgIEIvF4DIMPF53d7fJZEpOToaXfP311+vWrQOXYRgGr2KxWAwGA6iIiYl577331q9fHxkZ2dfXNzY2Vl1dDVQghL744outW7euXLly7ty5nZ2dfn5+KpUKXkNOTs7777+/ceNGDofT1NRUWFg4Y8YM8Hjd3d0mkyk5ORle8vXXX69btw5chmEYvIrFYjEYDKAiJibmvffeW79+fWRkZF9f39jYWHV1NVCBEPriiy+2bt26cuXKuXPndnZ2+vn5qVQqeA05OTnvv//+xo0bORxOU1NTYWHhjBkzwOM9fvy4v79foVDAS3JycvLy8sBlDBK8CsMwoCg3NzctLW3NmjV8Pr+tre3jjz+Oi4sDKvh8/sGDBwsKCurq6nx9fdvb21etWpWcnAyvQa1Wp6enb9q0Ccfx5ubmEydO+Pr6gmd7/Phxf3+/QqGAl+Tk5OTl5YHLGCR4FYZhQFFubm5aWtqaNWv4fH5bW9vHH38cFxcHVPD5/IMHDxYUFNTV1fn6+ra3t69atSo5ORleg1qtTk9P37RpE47jzc3NJ06c8PX1Bc/2+PHj/v5+hUIBL8nJycnLywOXMUjwKgzDgKLc3Ny0tLQ1a9bw+fy2traPP/44Li4OqODz+QcPHiwoKKirq/P19W1vb1+1alVycjK8BrVanZ6evmnTJhzHm5ubT5w44evrCy7DwOOJRKJbt27BqzgcDrgrPDy8rKyMyWQCRQwGo6ysrKmpqaOjY86cObGxsTweDyiSyWS3bt26c+fOwMDAhx9+GBMTQxAEuAzDsIqKCjabDRNCQkIaGhr0er3FYlEqlcuWLYOpQCQS3bp1C17F4XDAXeHh4WVlZUwmEyhiMBhlZWVNTU0dHR1z5syJjY3l8XhAkUwmu3Xr1p07dwYGBj788MOYmBiCIMBlGIZVVFSw2WyYEBIS0tDQoNfrLRaLUqlctmwZTAUEQTQ2NsKrmEwmuMvPz6+2tpbH4wF1Uqm0sbGxqanp2bNnSqVSLpcjhICijz76SCaT/frrr6OjowqFIjo6GsMwcBmLxaqqqvLx8YEJYWFhOp1Or9fb7Xa1Wi2RSMDjEQTR2NgIr2IymeAuPz+/2tpaHo8H1Eml0sbGxqampmfPnimVSrlcjhACij766COZTPbrr7+Ojo4qFIro6GgMw8BlLBarqqrKx8cHJoSFhel0Or1eb7fb1Wq1RCIBj0cQRGNjI7yKyWSCu/z8/Gpra3k8HlAnlUobGxubmpqePXumVCrlcjlCCCj66KOPZDLZr7/+Ojo6qlAooqOjMQwDl7FYrKqqKh8fH5gQFham0+n0er3dbler1RKJBKjAwOOFhobCpJJKpeAuDMNWk+A1zJ49Ozk5GdyCEJLL5fAqoVCYnp4OU0poaChMKqlUCu7CMGw1CV7D7Nmzk5OTwS0IIblcDq8SCoXp6ekwpQSSYPIQBBEVFQXuEgqFaWlp8HoWkcAtTCZTLpfDqwIDAzMyMmDqCCTB5CEIIioqCtwlFArT0tLg9SwigVuYTKZcLodXBQYGZmRkwNQRSILJQxBEVFQUuEsoFKalpcHrWUQCtzCZTLlcDq8KDAzMyMgAt2BAo9FoNBqNRptUGNBoNBqNRqPRJhUGNBqNRqPRaLRJhQGNRqPRaDQabVJhQKPRaDQajUabVBjQaDQajUaj0SYVBjQajUaj0Wi0SYUBjUaj0Wg0Gm1SYUCj0Wg0Go1Gm1QY0Gg0Go1Go9EmFQY0Go1Go9FotEmFAY1Go9FoNBptUmFAo9FoNBqNRptUGNBoNBqNRqPRJhUGNBqNRqPRaLRJhQGNRqPRaDQabVL9H/8gpDlJ9VzuAAAAAElFTkSuQmCC\"/>"
      ]
     },
     "execution_count": 43,
     "metadata": {},
     "output_type": "execute_result"
    }
   ],
   "source": [
    "begin\n",
    "f = GLMakie.Figure(size=(800,200))\n",
    "ax = GLMakie.Axis(f[1,1],title=\"A\")\n",
    "GLMakie.heatmap!(ax,A)\n",
    "ax = GLMakie.Axis(f[1,2],title=\"R\")\n",
    "GLMakie.heatmap!(ax,R)\n",
    "\n",
    "ax = GLMakie.Axis(f[1,3],title=\"A-QR\")\n",
    "GLMakie.heatmap!(ax,A.-Q.*R)\n",
    "ax = GLMakie.Axis(f[1,4],title=\"Q^T Q\")\n",
    "GLMakie.heatmap!(ax,Q'Q)\n",
    "ax = GLMakie.Axis(f[1,5],title=\"Q\")\n",
    "GLMakie.heatmap!(ax,Q.factors)\n",
    "f\n",
    "end"
   ]
  },
  {
   "cell_type": "markdown",
   "id": "757173ba-0122-4521-b06a-e3aff19005b1",
   "metadata": {},
   "source": [
    "#### Sizes of Q and R \n",
    "\n",
    "The sizes of $Q$ and $R$ depend on the size of the to-be-decomposed matrix $A$ and on whether the **QR decomposition** is **Economy(reduced** or **full(complete)**\n",
    "\n",
    "Economy vs full QR decomposition  applies only to **tall** matrices.\n",
    "\n",
    "$Q$ can be square when $A$ is **tall**. "
   ]
  },
  {
   "cell_type": "markdown",
   "id": "6d33254c-8e64-45a9-b351-084343f433dd",
   "metadata": {},
   "source": [
    "#### QR and Inverses\n",
    "\n",
    "$$ A = QR $$\n",
    "$$ A^{-1} = (QR)^{-1}$$\n",
    "$$A^{-1} = R^{-1}Q^{-1}$$\n",
    "$$A^{-1} = R^{-1}Q^{T}$$"
   ]
  },
  {
   "cell_type": "code",
   "execution_count": 44,
   "id": "ba4ea7d9-64ed-429e-b445-78d9207bed49",
   "metadata": {},
   "outputs": [
    {
     "name": "stdout",
     "output_type": "stream",
     "text": [
      "Example:\n",
      "\u001b[32mA^-1 = R^-1 x Q^T is true\u001b[39m"
     ]
    }
   ],
   "source": [
    "begin\n",
    "println(\"Example:\")\n",
    "A = Q*R\n",
    "result=  isapprox(inv(A),inv(R)*Q')\n",
    "printstyled(\"A^-1 = R^-1 x Q^T is $result\",color=:green)\n",
    "end"
   ]
  },
  {
   "cell_type": "code",
   "execution_count": null,
   "id": "2cc9f053-6b6d-4c4c-9418-48b76af38842",
   "metadata": {},
   "outputs": [],
   "source": []
  }
 ],
 "metadata": {
  "kernelspec": {
   "display_name": "Julia 1.11.2",
   "language": "julia",
   "name": "julia-1.11"
  },
  "language_info": {
   "file_extension": ".jl",
   "mimetype": "application/julia",
   "name": "julia",
   "version": "1.11.2"
  },
  "widgets": {
   "application/vnd.jupyter.widget-state+json": {
    "state": {},
    "version_major": 2,
    "version_minor": 0
   }
  }
 },
 "nbformat": 4,
 "nbformat_minor": 5
}
