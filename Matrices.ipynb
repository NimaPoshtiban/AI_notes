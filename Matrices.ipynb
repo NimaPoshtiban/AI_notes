{
 "cells": [
  {
   "cell_type": "code",
   "execution_count": 35,
   "id": "a109aefa-e547-4001-9704-ad3c493fb30b",
   "metadata": {},
   "outputs": [],
   "source": [
    "import Pkg\n",
    "using Base"
   ]
  },
  {
   "cell_type": "markdown",
   "id": "34349949-b724-4be8-bf60-69c4baea515c",
   "metadata": {},
   "source": [
    "# Matrices"
   ]
  },
  {
   "cell_type": "markdown",
   "id": "72e94fcf-a044-4365-b2e4-3e6fb09ef0ae",
   "metadata": {},
   "source": [
    "#### Matrix Gaussian distribution\n",
    "In statistics, the matrix normal distribution or matrix Gaussian distribution is a probability distribution that is a generalization of the multivariate normal distribution to matrix-valued random variables.\n",
    "<hr>\n",
    "<p>$𝑛$ : This denotes the number of rows in the matrix.</p>\n",
    "<p>$𝑝$ : This denotes the number of columns in the matrix.</p>\n",
    "<p>$𝑀𝑁_{𝑛,𝑝}$ : This indicates the Matrix Normal Distribution, where 𝑛 is the number of rows, and 𝑝 is the number of columns in the matrix.\n",
    "The probability density function for the random matrix$ X (n × p) $that follows the matrix normal distribution.</p>\n",
    "<p>$𝑀$ : The mean matrix, which is an $𝑛 × 𝑝$ matrix. It represents the expected value of the random matrix.</p>\n",
    "<p>$𝑈$ : The row covariance matrix, which is an $𝑛 × 𝑛$ symmetric positive-definite matrix. It captures the covariance structure among the <b>rows</b> of the matrix.</p>\n",
    "<p>$𝑉$: The column covariance matrix, which is a $𝑝 × 𝑝$ symmetric positive-definite matrix. It captures the covariance structure among the <b>columns</b> of the matrix.</p>\n",
    "$$\n",
    "MN_{n\\,,\\,p}(M,U,V)\n",
    "$$ has the form:\n",
    "$$ p(X\\,|\\,\\,M\\,,U\\,,V) = \\frac{e^{\\frac{-1}{2}tr(U^{-1}(X-M)V^{-1}(X-M)^{T}) } }  {\\left(2\\pi\\right)^{np/2} |U|^{p/2} |V|^{n/2}} $$\n",
    "<p>$tr(⋅)\n",
    "$ denotes the trace of a matrix.</p>\n",
    "<p>$∣𝑈∣$ and $∣𝑉∣$ are the determinants of the row and column covariance matrices, respectively.</p>\n",
    "<p>$(𝑋−𝑀)$ represents the matrix of deviations from the mean matrix.</p>"
   ]
  },
  {
   "cell_type": "markdown",
   "id": "ff0ad764-0493-4362-b7f7-0cdf57c974fb",
   "metadata": {},
   "source": [
    "### Random \n"
   ]
  },
  {
   "cell_type": "markdown",
   "id": "b3b01f6c-07e6-4af8-9f7a-8fbb19b103fc",
   "metadata": {},
   "source": [
    "#### Random matrix from  Gaussian (normal) distribution"
   ]
  },
  {
   "cell_type": "code",
   "execution_count": 36,
   "id": "e11c465d-fe07-4c84-a8ce-11383c8d1b93",
   "metadata": {},
   "outputs": [
    {
     "data": {
      "text/plain": [
       "4×4 Matrix{Float64}:\n",
       " -0.281029  -0.285892  -0.874476   2.08569\n",
       " -2.09995   -0.715631  -0.687553   1.49011\n",
       " -0.50267    0.92973   -1.32728   -0.443609\n",
       " -0.798599  -0.672314  -2.08526    0.188568"
      ]
     },
     "execution_count": 36,
     "metadata": {},
     "output_type": "execute_result"
    }
   ],
   "source": [
    "X = randn((4,4))"
   ]
  },
  {
   "cell_type": "markdown",
   "id": "e1c170f9-a791-4867-aa31-95c06fcef038",
   "metadata": {},
   "source": [
    "#### Random matrix from Mersenne Twister 19937 (MT19937) Algorithm"
   ]
  },
  {
   "cell_type": "code",
   "execution_count": 37,
   "id": "66111ef0-0623-46b2-a54e-8e392107599c",
   "metadata": {},
   "outputs": [
    {
     "data": {
      "text/plain": [
       "4×4 Matrix{Float32}:\n",
       " 0.706501  0.0459487  0.0203835  0.442108\n",
       " 0.981996  0.332938   0.392849   0.900208\n",
       " 0.709619  0.317289   0.980356   0.949271\n",
       " 0.356852  0.483335   0.888346   0.881909"
      ]
     },
     "execution_count": 37,
     "metadata": {},
     "output_type": "execute_result"
    }
   ],
   "source": [
    "X = rand(Float32,4,4)"
   ]
  },
  {
   "cell_type": "markdown",
   "id": "9f340838-2e13-4ce3-8b84-721108c7ffcb",
   "metadata": {},
   "source": [
    "### Square and nonsquare matricies\n",
    "<p>A square matrix has the same number of columns as rows $\\Re^{N\\,\\times\\, N}$</p>\n",
    "<p>For example: $ \\left[\\begin{matrix} 1 & 2 \\\\ 3 &4 \\end{matrix}\\right]$ is a $2\\times 2$ <b>Square Matrix</b></p>\n",
    "<hr>\n",
    "<p>A nonsquare matrix, also sometimes called <b>rectangular</b> matrix has a different numbers of rows and columns $\\Re^{N\\times M}\\,\\,where\\, N\\ne M$</p>\n",
    "<p>If a matrix has more numbers of rows than columns it is called <b>tall</b> $\\Re^{N\\times M}\\,\\,where\\,N>M$</p>\n",
    "<p>For Example: $ \\left[\\begin{matrix} 1 & 2 \\\\ 3 & 4 \\\\ 5 & 6 \\end{matrix}\\right]$  </p>\n",
    "<p>If a matrix has more numbers of columns than rows it is called <b>wide</b> $\\Re^{N\\times M}\\,\\, where \\, N<M$</p>\n",
    "<p>For Example: $ \\left[\\begin{matrix} 1 & 2 & 3 \\\\ 4 & 5 & 6 \\end{matrix}\\right]$</p>"
   ]
  },
  {
   "cell_type": "code",
   "execution_count": 38,
   "id": "057c6e46-901f-43f4-b9e9-a7b5072e2ef8",
   "metadata": {},
   "outputs": [
    {
     "data": {
      "text/plain": [
       "2×2 Matrix{Int64}:\n",
       " 1  2\n",
       " 3  4"
      ]
     },
     "execution_count": 38,
     "metadata": {},
     "output_type": "execute_result"
    }
   ],
   "source": [
    "X_Square = [1 2;3 4]"
   ]
  },
  {
   "cell_type": "code",
   "execution_count": 39,
   "id": "5cbb32d1-ad2d-40d4-bde2-a3b15e58f102",
   "metadata": {},
   "outputs": [
    {
     "data": {
      "text/plain": [
       "3×2 Matrix{Int64}:\n",
       " 1  2\n",
       " 3  4\n",
       " 5  6"
      ]
     },
     "execution_count": 39,
     "metadata": {},
     "output_type": "execute_result"
    }
   ],
   "source": [
    "X_tall = [1 2;3 4; 5 6;]"
   ]
  },
  {
   "cell_type": "code",
   "execution_count": 40,
   "id": "35ab4892-918c-4bf2-bbf8-ef5d0d2abb49",
   "metadata": {},
   "outputs": [
    {
     "data": {
      "text/plain": [
       "2×3 Matrix{Int64}:\n",
       " 1  2  3\n",
       " 4  5  6"
      ]
     },
     "execution_count": 40,
     "metadata": {},
     "output_type": "execute_result"
    }
   ],
   "source": [
    "X_wide = [1 2 3;4 5 6]"
   ]
  },
  {
   "cell_type": "markdown",
   "id": "eea34684-4c82-49e9-8aa6-bf6ff1a43106",
   "metadata": {},
   "source": [
    "## Diagonal of a Matrix\n",
    "A diagonal of a Matrix starts from the top-left element and goes down to the bottom right.\n",
    "<p>$$\\mathbf{A} = \\begin{pmatrix} a_{11} & . & . \\\\ . & a_{22} & . \\\\ . & . &a_{33}  \\end{pmatrix} $$</p>"
   ]
  },
  {
   "cell_type": "markdown",
   "id": "aace8315-1028-42ef-b12e-22a6cb7dc455",
   "metadata": {},
   "source": [
    "### Diagonal Matrix\n",
    "<p>A diagonal matrix has zero s on all the off-diagonal elements. a diagonal element can be zero but they are the only ones that can have nonzero values </p>\n",
    "<p>Example:</p>\n",
    "$$\\mathbf{D} = \\begin{pmatrix} 1 & 0 & 0 \\\\ 0 & 4 & 0 \\\\ 0 & 0 & -1 \\end{pmatrix} $$"
   ]
  },
  {
   "cell_type": "code",
   "execution_count": 41,
   "id": "03831d62-c74f-404f-9fca-56b56f51189e",
   "metadata": {},
   "outputs": [
    {
     "name": "stdout",
     "output_type": "stream",
     "text": [
      "\u001b[32mDiagonal elements are [2, 5, 3]\u001b[39m\n"
     ]
    }
   ],
   "source": [
    "import LinearAlgebra\n",
    "D = [2 3 4; 3 5 6; 1 0 3;]\n",
    "Ddiagonal = LinearAlgebra.diag(D)\n",
    "printstyled(\"Diagonal elements are $Ddiagonal\\n\",color=:green)"
   ]
  },
  {
   "cell_type": "markdown",
   "id": "7615e0aa-a094-46ca-927d-b40fac2c4d62",
   "metadata": {},
   "source": [
    "### Identity Matrix\n",
    "<p>The identity matrix is a square diagonal matrix with all diagonal elements having a value of 1</p>\n",
    "<p>It is Indicated using the letter <b>I</b></p>\n",
    "For Example:\n",
    "$$\\mathbf{I_{3}} = \\begin{pmatrix} 1 & 0 & 0 \\\\ 0 & 1 & 0 \\\\ 0 & 0 &1 \\end{pmatrix}$$ "
   ]
  },
  {
   "cell_type": "code",
   "execution_count": 42,
   "id": "7ebb7cc8-eaf4-43f0-a6c8-d192b7847237",
   "metadata": {
    "scrolled": true
   },
   "outputs": [
    {
     "name": "stdout",
     "output_type": "stream",
     "text": [
      "\u001b[34man Identity matrix example\u001b[39m"
     ]
    },
    {
     "data": {
      "text/plain": [
       "3×3 LinearAlgebra.Diagonal{Bool, Vector{Bool}}:\n",
       " 1  ⋅  ⋅\n",
       " ⋅  1  ⋅\n",
       " ⋅  ⋅  1"
      ]
     },
     "execution_count": 42,
     "metadata": {},
     "output_type": "execute_result"
    }
   ],
   "source": [
    "printstyled(\"an Identity matrix example\",color=:blue)\n",
    "I = LinearAlgebra.I(3)"
   ]
  },
  {
   "cell_type": "markdown",
   "id": "a3323903-9926-46c7-87ba-ca7a29bbc0c1",
   "metadata": {},
   "source": [
    "### Triangular\n",
    "<p>A Triangular matrix contains all zeros either above or below the main diagonal</p>\n",
    "<hr>\n",
    "<p>An <b>upper triangular</b> matrix contains nonzero values above the main diagonal</p>\n",
    "$$ \\begin{pmatrix} 1 & 2 & 3 \\\\ 0 & 3 & 4 \\\\ 0 & 0 & -1 \\end{pmatrix}$$\n",
    "<p>An <b>lower triangular</b> matrix contains nonzero values below the main diagonal</p>\n",
    "$$ \\begin{pmatrix} 1 & 0 & 0 \\\\ 21 & 3 & 0 \\\\ 12 & 2& -1 \\end{pmatrix}$$"
   ]
  },
  {
   "cell_type": "code",
   "execution_count": 43,
   "id": "64776c9d-a84b-4ba3-bb4c-71e1d0223a70",
   "metadata": {},
   "outputs": [
    {
     "data": {
      "text/plain": [
       "3×3 Matrix{Int64}:\n",
       " 2  3  4\n",
       " 0  5  6\n",
       " 0  0  3"
      ]
     },
     "execution_count": 43,
     "metadata": {},
     "output_type": "execute_result"
    }
   ],
   "source": [
    "D_ut = LinearAlgebra.triu(D) # upper triangular matrix"
   ]
  },
  {
   "cell_type": "code",
   "execution_count": 44,
   "id": "c0dabb0f-df41-4de4-acca-9a9e834ea25a",
   "metadata": {},
   "outputs": [
    {
     "data": {
      "text/plain": [
       "3×3 Matrix{Int64}:\n",
       " 2  0  0\n",
       " 3  5  0\n",
       " 1  0  3"
      ]
     },
     "execution_count": 44,
     "metadata": {},
     "output_type": "execute_result"
    }
   ],
   "source": [
    "D_lt = LinearAlgebra.tril(D) # lower triangular matrix"
   ]
  },
  {
   "cell_type": "markdown",
   "id": "e6f1e477-da3c-4d1c-aa30-d4bf4c164a66",
   "metadata": {},
   "source": [
    "## Zeros Matrix\n",
    "<p>In this matrix all elements have the value of 0. it is indicate with $\\mathbf{0}$</p>\n",
    "For Example:\n",
    "$$\\mathbf{0} = \\begin{pmatrix} 0 & 0 & 0 \\\\ 0 & 0 & 0 \\\\ 0 & 0 &0 \\end{pmatrix}$$ "
   ]
  },
  {
   "cell_type": "code",
   "execution_count": 45,
   "id": "fe302bd4-b5cd-40f9-80fd-ff197807638e",
   "metadata": {},
   "outputs": [
    {
     "data": {
      "text/plain": [
       "3×3 Matrix{Float64}:\n",
       " 0.0  0.0  0.0\n",
       " 0.0  0.0  0.0\n",
       " 0.0  0.0  0.0"
      ]
     },
     "execution_count": 45,
     "metadata": {},
     "output_type": "execute_result"
    }
   ],
   "source": [
    "Zeros = LinearAlgebra.zero(rand(3,3))"
   ]
  },
  {
   "cell_type": "markdown",
   "id": "804a7cb9-7e97-4951-8c4c-66a2e5a4f78d",
   "metadata": {},
   "source": [
    "## Symmetric Matrix\n",
    "<p>matrix $A\\,$ is symmetric if $\\,\\,A^{T}\\,=\\,A$ which means $\\,\\,A\\,\\,$ must be square matrix</p>\n",
    "Example:\n",
    "$$ A\\,\\,=\\begin{pmatrix} a & e & f & g \\\\ e & b & h & i \\\\ f & h & c & j \\\\ g & i & j & d \\end{pmatrix}$$"
   ]
  },
  {
   "cell_type": "code",
   "execution_count": 46,
   "id": "015f3d0a-c1f6-4a0c-8eb0-6c036375161a",
   "metadata": {},
   "outputs": [
    {
     "data": {
      "text/plain": [
       "true"
      ]
     },
     "execution_count": 46,
     "metadata": {},
     "output_type": "execute_result"
    }
   ],
   "source": [
    "SM = [1 2 3 4;2 5 -1 0;3 -1 10 -pi;4 0 -pi exp(1)]\n",
    "SM == SM'"
   ]
  },
  {
   "cell_type": "markdown",
   "id": "294a3f97-0377-4cbc-9e83-ef274348d925",
   "metadata": {},
   "source": [
    "## Matrix Math"
   ]
  },
  {
   "cell_type": "markdown",
   "id": "f54ab34e-a7ad-48c3-acc8-b04919306ef6",
   "metadata": {},
   "source": [
    "### Addition and Subtraction\n",
    "<p>Each element will be added or subtracted to its corresponding elements</p>\n",
    "<p>So Matricis must have the same size</p>\n",
    "Example:\n",
    "<hr>\n",
    "$ \\begin{pmatrix} 1 & 2 & 3 \\\\ 0 & 3 & 4 \\\\ 0 & 0 & -1 \\end{pmatrix}$ $+$ $\\begin{pmatrix} 1 & 0 & 0 \\\\ 21 & 3 & 0 \\\\ 12 & 2 & -1 \\end{pmatrix}$ $ =\n",
    "\\, \\begin{pmatrix} (1+1) & (2+0) & (3+0) \\\\ (0+21) & (3+3) & (4+0) \\\\ (0+12) & (0 + 2) & (-1+-1)  \\end{pmatrix}$ $ = \\begin{pmatrix} 2 & 2 & 3 \\\\ 21 & 6 & 4 \\\\ 12 & 2 & -2  \\end{pmatrix}$"
   ]
  },
  {
   "cell_type": "code",
   "execution_count": 47,
   "id": "aed090b7-8101-43f8-90de-7e770384c422",
   "metadata": {},
   "outputs": [
    {
     "data": {
      "text/plain": [
       "3×3 Matrix{Float64}:\n",
       " 1.32916   1.14711   1.29383\n",
       " 1.72499   1.12065   0.452583\n",
       " 0.725924  0.696536  1.50027"
      ]
     },
     "execution_count": 47,
     "metadata": {},
     "output_type": "execute_result"
    }
   ],
   "source": [
    "X1 = rand(3,3)\n",
    "X2 = rand(3,3)\n",
    "X_sum = X1 + X2"
   ]
  },
  {
   "cell_type": "markdown",
   "id": "981bd3fb-be40-47ed-badf-f44e1b5a54c9",
   "metadata": {},
   "source": [
    "### Shifting a Matrix\n",
    "\n",
    "<p>Adding a constant value to the diagonal, which is implemented by adding a scalar multiplied Identity matrix</p>\n",
    "<p>Matrix must be a Square Matrix</p>\n",
    "$$ \\mathbf{A} + \\lambda{\\mathbf{I}}$$\n",
    "Example:\n",
    "$ \\begin{pmatrix}9 & 2 \\\\ 0 &  9 \\end{pmatrix} $ $+ 6\\begin{pmatrix}1 & 0 \\\\ 0 &  1 \\end{pmatrix}$ $=  \\begin{pmatrix}15 & 2 \\\\ 0 &  15 \\end{pmatrix} $\n"
   ]
  },
  {
   "cell_type": "code",
   "execution_count": 48,
   "id": "40533cc3-6251-44c5-9660-22ffcdb7c1d9",
   "metadata": {},
   "outputs": [
    {
     "data": {
      "text/plain": [
       "2×2 Matrix{Int64}:\n",
       " 15   2\n",
       "  0  15"
      ]
     },
     "execution_count": 48,
     "metadata": {},
     "output_type": "execute_result"
    }
   ],
   "source": [
    "A = [9 2;0 9]\n",
    "A + 6*LinearAlgebra.I(2)"
   ]
  },
  {
   "cell_type": "markdown",
   "id": "f86bcd52-fc50-4a68-bdf9-cfdbbf9b34a1",
   "metadata": {},
   "source": [
    "### Scalar and Hadamard Multiplications\n",
    "<p>These two types work the same for matrices as they do for vectors.</p>\n",
    "<p><b>Scalar Multiplication</b></p>\n",
    "$$ \\gamma\\left[\\begin{matrix} a & b \\\\ c & d \\end{matrix}\\right] \\, = \\, \\left[\\begin{matrix}\\gamma a & \\gamma b \\\\  \\gamma c & \\gamma d \\end{matrix}\\right] $$\n",
    "<hr>\n",
    "<p><b>Hadamard Multiplication</b></p>\n",
    "$$ \\left[\\begin{matrix} a & b \\\\ c & d \\end{matrix}\\right] \\odot \\left[\\begin{matrix} e & f \\\\ g & h \\end{matrix}\\right] \\, = \\, \\left[\\begin{matrix} ae & bf \\\\ cg & dh \\end{matrix}\\right]$$"
   ]
  },
  {
   "cell_type": "code",
   "execution_count": 49,
   "id": "2ef3e2af-4ff4-4156-ba93-571be97a95c5",
   "metadata": {},
   "outputs": [
    {
     "name": "stdout",
     "output_type": "stream",
     "text": [
      "\u001b[34mScalar Multiplication\u001b[39m"
     ]
    },
    {
     "data": {
      "text/plain": [
       "2×2 Matrix{Int64}:\n",
       " 90  20\n",
       "  0  90"
      ]
     },
     "execution_count": 49,
     "metadata": {},
     "output_type": "execute_result"
    }
   ],
   "source": [
    "printstyled(\"Scalar Multiplication\",color=:blue)\n",
    "A_SM = A.*10 "
   ]
  },
  {
   "cell_type": "code",
   "execution_count": 50,
   "id": "09d2444e-276f-4bd6-be17-5816418ca310",
   "metadata": {},
   "outputs": [
    {
     "name": "stdout",
     "output_type": "stream",
     "text": [
      "\u001b[33mHadamard Multiplication\u001b[39m"
     ]
    },
    {
     "data": {
      "text/plain": [
       "2×2 Matrix{Int64}:\n",
       " 810   40\n",
       "   0  810"
      ]
     },
     "execution_count": 50,
     "metadata": {},
     "output_type": "execute_result"
    }
   ],
   "source": [
    "printstyled(\"Hadamard Multiplication\",color=:yellow)\n",
    "A_HM = A_SM  .* A"
   ]
  },
  {
   "cell_type": "markdown",
   "id": "067fba7c-ced7-4f30-84ac-873ece615175",
   "metadata": {},
   "source": [
    "### Matrix Multiplication\n",
    "<p>Two matrices can be multiplied by each other if they have the same inner dimensions.</p>\n",
    "Consider $\\,A_{M\\times N}\\,\\,$ and $\\,B_{J\\times K}\\,\\,\\,$ if $ N\\,=\\,J\\,\\,\\,$ there can be a valid multiplication, the multiplication of $\\,\\,A\\,\\,$and $\\,\\,B\\,\\,$ results in a $\\,\\,\\,M\\times K\\,\\,\\,$ matrix\n",
    "$ A\\,= \\,\\begin{pmatrix} 1 & 2 & 9 \\\\ 3 & -1 & 0 \\end{pmatrix}\\,\\, B\\,=\\,\\begin{pmatrix} 1 & 4\\\\ 3 & -1 \\\\ -12 & 9 \\end{pmatrix}$\n",
    "$$ AB\\,=\\,\\begin{pmatrix} (1\\times 1+ 2\\times 3 + 9 \\times -12)  & (1\\times 4 + 2 \\times -1 + 9\\times 9)  \\\\ (3\\times1 + -1\\times 3 + 0\\times -12 )  & (3\\times 9 + -1\\times -1 + 0\\times 9) \\end{pmatrix}$$ \n",
    "<p>Even if $\\,\\,A\\,\\,$ and $\\,\\,B\\,\\,$ where square matrices with equal dimensions commutative law does not exist for them</p>\n",
    "$$ AB\\,\\ne\\,BA$$"
   ]
  },
  {
   "cell_type": "code",
   "execution_count": 51,
   "id": "f5b78fd9-d516-4bb8-bef9-5f36bd2953c8",
   "metadata": {},
   "outputs": [
    {
     "name": "stdout",
     "output_type": "stream",
     "text": [
      "\u001b[34mAB = [7 2; 0 13] \u001b[39m\u001b[31mBA = [13 -2; 0 7]\u001b[39m"
     ]
    },
    {
     "data": {
      "text/plain": [
       "false"
      ]
     },
     "execution_count": 51,
     "metadata": {},
     "output_type": "execute_result"
    }
   ],
   "source": [
    "A = [ 1 2;3 -1] \n",
    "B = [1 4; 3 -1]\n",
    "AB = A*B\n",
    "printstyled(\"AB = $AB \",color=:blue)\n",
    "BA = B*A\n",
    "printstyled(\"BA = $BA\",color=:red)\n",
    "AB == BA"
   ]
  },
  {
   "cell_type": "markdown",
   "id": "fe4293cc-a94e-4f94-92e6-66af6141e469",
   "metadata": {},
   "source": [
    "#### Matrix-Vector Multiplication\n",
    "<p>A matrix can be right multiplied by a <b>column</b> vector but not a <b>row</b> vector</p> \n",
    "$Av\\,\\,$ and $\\,\\,v^{T}A\\,\\,$ are valid, but $\\,\\,vA\\,\\,$ and $\\,\\,Av^{t}\\,\\,$ are invalid.\n",
    "<p>The result of this operation is always a vector</p>"
   ]
  },
  {
   "cell_type": "code",
   "execution_count": 52,
   "id": "146a553b-ddf1-4200-98bd-47c5e749f02f",
   "metadata": {},
   "outputs": [
    {
     "name": "stdout",
     "output_type": "stream",
     "text": [
      "\u001b[32mAv = [5, 1] \u001b[39m\u001b[33mv^T A = [7 0]\u001b[39m"
     ]
    }
   ],
   "source": [
    "v = [1;2]\n",
    "Av = A*v\n",
    "printstyled(\"Av = $Av \",color=:green)\n",
    "printstyled(\"v^T A = $( v'*A)\",color=:yellow)"
   ]
  },
  {
   "cell_type": "markdown",
   "id": "77193deb-da29-4ac8-bdea-8ef3e666f7ff",
   "metadata": {},
   "source": [
    "**Application of Matrix-Vector Multiplication in Linear weighted combinations** \\\n",
    "$ \\lambda_{1}\\begin{pmatrix} a \\\\ b \\\\ c \\end{pmatrix}\\,\\,+ \\lambda_{2}\\begin{pmatrix} d \\\\ e \\\\ f \\end{pmatrix}\\,\\,$ $\\implies\\,$ $\\,\\begin{pmatrix} a & d \\\\ b & e\\\\ c & f\\end{pmatrix}\\,\\,\\begin{pmatrix} \\lambda_{1} \\\\ \\lambda_{2}  \\end{pmatrix}\\,\\,$"
   ]
  },
  {
   "cell_type": "code",
   "execution_count": 53,
   "id": "04c39dad-7cc8-4a86-8a85-43cf8c48b24c",
   "metadata": {},
   "outputs": [
    {
     "data": {
      "text/plain": [
       "true"
      ]
     },
     "execution_count": 53,
     "metadata": {},
     "output_type": "execute_result"
    }
   ],
   "source": [
    "λ1 = 2\n",
    "λ2  = -1\n",
    "v1 = [1;2;3]\n",
    "v2 = [0;1;0]\n",
    "vc = [1 0;2 1; 3 0]\n",
    "result_v = λ1.*v1 + λ2.*v2\n",
    "result_mv = vc * [λ1; λ2]\n",
    "result_v == result_mv"
   ]
  },
  {
   "cell_type": "markdown",
   "id": "c5972631-1593-4baf-b6dd-77acdc77e1d9",
   "metadata": {},
   "source": [
    "### Matrix Transpose"
   ]
  },
  {
   "cell_type": "markdown",
   "id": "47a8ac13-10ce-4728-9829-b8d0cb917657",
   "metadata": {},
   "source": [
    "$$a^{T}_{i\\, , \\,j} = a_{j\\, ,\\, i} $$\n",
    "<p>Example:</p>\n",
    "$ \\left| \\begin{matrix} a & b & c \\\\ d & e & f \\end{matrix}\\right|^{T}\\,\\,=\\,\\left|\\begin{matrix} a & d \\\\ b & e \\\\ c & f \\end{matrix} \\right| $"
   ]
  },
  {
   "cell_type": "code",
   "execution_count": 54,
   "id": "33dbf016-949f-4b32-9a94-2aa42fa329a6",
   "metadata": {},
   "outputs": [
    {
     "name": "stdout",
     "output_type": "stream",
     "text": [
      "\u001b[34mA = [1 2; 3 -1]\t\u001b[39m\u001b[31mA transposed = [1 3; 2 -1]\u001b[39m\n"
     ]
    }
   ],
   "source": [
    "printstyled(\"A = $A\\t\",color=:blue)\n",
    "printstyled(\"A transposed = $(A')\\n\",color=:red)"
   ]
  },
  {
   "cell_type": "markdown",
   "id": "05d0f0ef-51d6-4954-977c-20320c60071d",
   "metadata": {},
   "source": [
    "### Matrix LIVE EVIL (Order of Operations) \n",
    "$$(LIVE)^{T}\\,\\,=\\,E^{T}V^{T}I^{T}L^{T}$$"
   ]
  },
  {
   "cell_type": "code",
   "execution_count": 55,
   "id": "039e8f9b-a7ae-4fb5-9d6d-adf0259f89e3",
   "metadata": {},
   "outputs": [
    {
     "data": {
      "text/plain": [
       "3×3 Matrix{Float64}:\n",
       "  3.47946   -2.19897    4.93079\n",
       "  0.728535   0.595283   1.50684\n",
       " -0.132762  -0.947695  -0.676493"
      ]
     },
     "execution_count": 55,
     "metadata": {},
     "output_type": "execute_result"
    }
   ],
   "source": [
    "L = randn(3,3)\n",
    "I = randn(3,3)\n",
    "V = randn(3,3)\n",
    "E = randn(3,3)\n",
    "LIVE_T = E*V*I*L"
   ]
  },
  {
   "cell_type": "markdown",
   "id": "e54f67ea-601f-46cd-b0a5-99ece943e31d",
   "metadata": {},
   "source": [
    "### Creating Symmetric Matrices from Nonsymmetric Matrices\n",
    "<p>Multipling any matrix by its transpose will produce a <b>Symmetric Matrix</b></p>\n",
    "$AA^{T}\\,\\,$ and $\\,\\,A^{T}A\\,\\,$  both will produce a symmetric matrix "
   ]
  },
  {
   "cell_type": "code",
   "execution_count": 56,
   "id": "ff2a6ca2-57fe-45c3-b2a6-75ad01aa8f88",
   "metadata": {},
   "outputs": [
    {
     "name": "stdout",
     "output_type": "stream",
     "text": [
      "Is A symmetric?\n",
      "false\n",
      "Now A is symmetric [10 -1; -1 5]\n"
     ]
    }
   ],
   "source": [
    "println(\"Is A symmetric?\")\n",
    "println(A==A')\n",
    "println(\"Now A is symmetric $(A'*A)\")"
   ]
  },
  {
   "cell_type": "markdown",
   "id": "65a0531d-a4e1-43a7-bdfd-4706fd7533ff",
   "metadata": {},
   "source": [
    "## Matrix Norms"
   ]
  },
  {
   "cell_type": "markdown",
   "id": "7fd1d6ae-761c-44e4-951b-3b2a95417f0e",
   "metadata": {},
   "source": [
    "### The Frobenius norm (Euclidean norm)\n",
    "<p>Frobenius norm is the square root of the sum of all matrix elements squared</p>\n",
    "$$ \\huge \\|\\,A\\,\\|_{F}\\,\\,=\\,\\,\\sqrt{\\sum_{i\\,=\\,1}^{M}\\,\\sum_{j\\,=\\,1}^{N}{a_{i\\,j}^{2}}} $$\n",
    "The indices $\\,i\\,$ and $\\,j\\,$ correspond to the row $\\,M\\,$ and $\\,N\\,$ columns. Also the subscript $\\,_{F}\\,$ indicates the Frobenius norm.\n",
    "<p>The Frobenius form is also called the $\\,\\,\\mathscr{l}2\\,$norm </p>"
   ]
  },
  {
   "cell_type": "code",
   "execution_count": 57,
   "id": "bb55658a-14c2-4404-9255-59cdf1fe3286",
   "metadata": {},
   "outputs": [
    {
     "data": {
      "text/plain": [
       "3.872983346207417"
      ]
     },
     "execution_count": 57,
     "metadata": {},
     "output_type": "execute_result"
    }
   ],
   "source": [
    "A_F = LinearAlgebra.norm(A)"
   ]
  },
  {
   "cell_type": "markdown",
   "id": "91f5d7fa-4b15-4d8e-aa2f-71ce6a4cb3b4",
   "metadata": {},
   "source": [
    "### Matrix trace\n",
    "<p>Matrix trace only exists for squared matrices. It is the sum of all diagonal elements, indicated as $\\,tr(A)\\,$</p>\n",
    "$$\\huge tr(A)\\, =\\,\\sum_{i\\,=\\,1}^{N}\\sum_{\\,j\\,=\\,i}^{N}{a_{i\\,j}}\\,$$"
   ]
  },
  {
   "cell_type": "code",
   "execution_count": 58,
   "id": "d7a8b7c4-44d7-42f7-b592-f8dbf0c4d45f",
   "metadata": {},
   "outputs": [
    {
     "data": {
      "text/plain": [
       "0"
      ]
     },
     "execution_count": 58,
     "metadata": {},
     "output_type": "execute_result"
    }
   ],
   "source": [
    "LinearAlgebra.tr(A)"
   ]
  },
  {
   "cell_type": "markdown",
   "id": "806c2134-e683-4536-a035-efcb3bc695cf",
   "metadata": {},
   "source": [
    "***Matrix trace and Frobenius norm***\n",
    "$$ \\huge \\|\\,A\\,\\|_{F}\\,\\,=\\,\\,\\sqrt{\\sum_{i\\,=\\,1}^{M}\\,\\sum_{j\\,=\\,1}^{N}{a_{i\\,j}^{2}}} \\,\\,=\\,\\,\\sqrt{tr(A^{T}A)} $$"
   ]
  },
  {
   "cell_type": "code",
   "execution_count": 59,
   "id": "6a8fedc3-7794-4244-ad71-d74028e89fc7",
   "metadata": {},
   "outputs": [
    {
     "data": {
      "text/plain": [
       "true"
      ]
     },
     "execution_count": 59,
     "metadata": {},
     "output_type": "execute_result"
    }
   ],
   "source": [
    "A_F == sqrt(LinearAlgebra.tr(A'*A))"
   ]
  },
  {
   "cell_type": "markdown",
   "id": "38acfb33-ae70-45ae-894b-a678759b90ca",
   "metadata": {},
   "source": [
    "### Rank of a Matrix\n",
    "\n",
    "The rank of a matrix $\\,A\\,$ is $\\,rank(A)\\,\\,$or$\\,\\,r(A)\\,$ where $\\,\\,rank(A) \\le Min\\{M,N\\} $ \n",
    "<p>If $\\,rank(A)\\,=\\,Min\\{M,N\\}$ $\\,A\\,$ have <b>full rank,<b> otherwise it is a rank-deficient matrix</p>\n",
    "<hr>\n",
    "    "
   ]
  },
  {
   "cell_type": "code",
   "execution_count": 60,
   "id": "37a06c2a-7905-4ca1-87ba-b66e0b630386",
   "metadata": {},
   "outputs": [
    {
     "data": {
      "text/plain": [
       "2"
      ]
     },
     "execution_count": 60,
     "metadata": {},
     "output_type": "execute_result"
    }
   ],
   "source": [
    "LinearAlgebra.rank(A)"
   ]
  },
  {
   "cell_type": "markdown",
   "id": "7d56069e-46dd-408b-a820-e62b552b9923",
   "metadata": {},
   "source": [
    "- The rank of Identity Matrices $\\,I_{N}\\,$ is $N$."
   ]
  },
  {
   "cell_type": "code",
   "execution_count": 61,
   "id": "08756d44-80ee-435f-99d9-34a0e9692e8b",
   "metadata": {},
   "outputs": [
    {
     "data": {
      "text/plain": [
       "3"
      ]
     },
     "execution_count": 61,
     "metadata": {},
     "output_type": "execute_result"
    }
   ],
   "source": [
    "LinearAlgebra.rank(I)"
   ]
  },
  {
   "cell_type": "markdown",
   "id": "fdc7f42f-637c-45c1-ba36-d52d8b2ecdb5",
   "metadata": {},
   "source": [
    "- The rank of Zero Matrices and Zero Vectors is $0$."
   ]
  },
  {
   "cell_type": "code",
   "execution_count": 62,
   "id": "3e462bf8-0a4b-46aa-8ac4-c8cce7d735f9",
   "metadata": {},
   "outputs": [
    {
     "data": {
      "text/plain": [
       "0"
      ]
     },
     "execution_count": 62,
     "metadata": {},
     "output_type": "execute_result"
    }
   ],
   "source": [
    "Z_M = fill(0,3,3)\n",
    "LinearAlgebra.rank(Z_M)"
   ]
  },
  {
   "cell_type": "markdown",
   "id": "3b44899c-1d40-424a-9320-807fe702f3f0",
   "metadata": {},
   "source": [
    "- The rank of Diagonal Matrices is the number of nonzero elements."
   ]
  },
  {
   "cell_type": "code",
   "execution_count": 63,
   "id": "dc4237cf-995f-424d-919a-7758077a0dad",
   "metadata": {},
   "outputs": [
    {
     "data": {
      "text/plain": [
       "3"
      ]
     },
     "execution_count": 63,
     "metadata": {},
     "output_type": "execute_result"
    }
   ],
   "source": [
    "LinearAlgebra.rank(D)"
   ]
  },
  {
   "cell_type": "markdown",
   "id": "7899a889-dbab-48ba-bcb8-d2601057e927",
   "metadata": {},
   "source": [
    "- Shifted Matrices have **full rank** ($\\,r(A)\\,=\\{N+1\\}$)."
   ]
  },
  {
   "cell_type": "code",
   "execution_count": 64,
   "id": "85f95568-6c9e-453a-a831-09c0f625950f",
   "metadata": {},
   "outputs": [
    {
     "data": {
      "text/plain": [
       "true"
      ]
     },
     "execution_count": 64,
     "metadata": {},
     "output_type": "execute_result"
    }
   ],
   "source": [
    "S_M = [1 3 2;5 7 2;2 2 0]+ 0.1.*LinearAlgebra.I(3)\n",
    "LinearAlgebra.rank(SM) == LinearAlgebra.rank(I)+1"
   ]
  },
  {
   "cell_type": "markdown",
   "id": "f6b38f6e-f4aa-4fbe-a8f0-dcc6c07b8e13",
   "metadata": {},
   "source": [
    "***Rank of Added and Multiplied Matrices***: \n",
    "$$ rank(A\\,+\\,B)\\,\\le\\,rank(A)\\,+\\,rank(B)$$\n",
    "$$ rank(AB) \\,\\le\\,min\\{rank(A)\\,,\\,rank(B)\\}$$"
   ]
  },
  {
   "cell_type": "code",
   "execution_count": 65,
   "id": "7fa0779f-c599-4520-99ff-f6e19da46b3c",
   "metadata": {},
   "outputs": [
    {
     "data": {
      "text/plain": [
       "true"
      ]
     },
     "execution_count": 65,
     "metadata": {},
     "output_type": "execute_result"
    }
   ],
   "source": [
    "LinearAlgebra.rank(D+I) <= LinearAlgebra.rank(D) + LinearAlgebra.rank(I)"
   ]
  },
  {
   "cell_type": "code",
   "execution_count": 66,
   "id": "76a69b38-293a-4328-9252-78c3ccce98ae",
   "metadata": {},
   "outputs": [
    {
     "data": {
      "text/plain": [
       "true"
      ]
     },
     "execution_count": 66,
     "metadata": {},
     "output_type": "execute_result"
    }
   ],
   "source": [
    "LinearAlgebra.rank(D*I) <= min(LinearAlgebra.rank(D),LinearAlgebra.rank(I))"
   ]
  },
  {
   "cell_type": "markdown",
   "id": "ed2b7f90-a617-400e-9357-5261cad48cb4",
   "metadata": {},
   "source": [
    "### "
   ]
  },
  {
   "cell_type": "markdown",
   "id": "3c2e5d33-e63d-4175-b884-69036908db76",
   "metadata": {},
   "source": [
    "### Matrix Determinant\n",
    "For an $\\,n\\times n\\,$ matrix $A\\,$ the determinant $det(A)\\,\\,\\text{or}\\,\\,\\,|A|$ can be caluclated using the following recurssive formula:\n",
    "$$ det(A)\\,=\\,\\sum_{j=1}^{n}{(-1)^{i+j}\\,a_{ij}det(A_{ij})}$$\n",
    "- $𝐴_{𝑖𝑗}$ is the $(𝑛−1)\\times(𝑛−1)\\,$ submatrix obtained by removing the *𝑖-th* row and *𝑗-th* column from $𝐴$.\n",
    "\n",
    "- The term $(−1)^{𝑖+𝑗}$ is called the cofactor and accounts for the alternating signs in the expansion.\n",
    "\n",
    "- Example: $ A\\,=\\begin{pmatrix}a & b\\\\ c &  d \\end{pmatrix}\\,\\,det(A)= ad-bc$\n",
    "<hr>\n",
    "- A matrix is invertible only if its determinant is non-zero."
   ]
  },
  {
   "cell_type": "markdown",
   "id": "68484590-9114-4fda-82e2-9ad99c92bad0",
   "metadata": {},
   "source": [
    "***Determinants Multiplicativity***\n",
    "$$ det(AB)\\,=\\,det(A)\\cdot det(B)$$"
   ]
  },
  {
   "cell_type": "code",
   "execution_count": 74,
   "id": "efbf8b31-305f-48e4-8fb6-27781f3f6163",
   "metadata": {},
   "outputs": [
    {
     "data": {
      "text/plain": [
       "true"
      ]
     },
     "execution_count": 74,
     "metadata": {},
     "output_type": "execute_result"
    }
   ],
   "source": [
    "LinearAlgebra.det(AB) == LinearAlgebra.det(A)*LinearAlgebra.det(B)"
   ]
  },
  {
   "cell_type": "markdown",
   "id": "00f5b5e9-5590-41ef-aecf-2a17bb661225",
   "metadata": {},
   "source": [
    "\n",
    "***Determinant Transpose*** \n",
    "$$ det(A)\\,=\\,det(A^{T}) $$"
   ]
  },
  {
   "cell_type": "code",
   "execution_count": 75,
   "id": "e214ab28-8633-42db-967b-4bd569d77451",
   "metadata": {},
   "outputs": [
    {
     "data": {
      "text/plain": [
       "true"
      ]
     },
     "execution_count": 75,
     "metadata": {},
     "output_type": "execute_result"
    }
   ],
   "source": [
    "LinearAlgebra.det(A) == LinearAlgebra.det(A')"
   ]
  },
  {
   "cell_type": "code",
   "execution_count": null,
   "id": "9ced5947-95e0-4edb-b833-850398dee965",
   "metadata": {},
   "outputs": [],
   "source": []
  }
 ],
 "metadata": {
  "kernelspec": {
   "display_name": "Julia 1.11.2",
   "language": "julia",
   "name": "julia-1.11"
  },
  "language_info": {
   "file_extension": ".jl",
   "mimetype": "application/julia",
   "name": "julia",
   "version": "1.11.2"
  },
  "widgets": {
   "application/vnd.jupyter.widget-state+json": {
    "state": {},
    "version_major": 2,
    "version_minor": 0
   }
  }
 },
 "nbformat": 4,
 "nbformat_minor": 5
}
